{
 "cells": [
  {
   "cell_type": "markdown",
   "id": "RnCAWXELpf7g",
   "metadata": {
    "canvas": {
     "comments": [],
     "componentType": "CodeCell",
     "copiedOriginId": null,
     "diskcache": false,
     "headerColor": "none",
     "id": "865bae31-ac80-4e3c-80c5-38303b0b8184",
     "isComponent": false,
     "name": "",
     "parents": []
    },
    "id": "RnCAWXELpf7g",
    "tags": []
   },
   "source": [
    " #                         Type 2 Diabetes Prediction Part 1 - Data Wrangling\n",
    "==================================================================================================================="
   ]
  },
  {
   "cell_type": "markdown",
   "id": "7e794e28",
   "metadata": {
    "canvas": {
     "comments": [],
     "componentType": "CodeCell",
     "copiedOriginId": null,
     "diskcache": false,
     "headerColor": "none",
     "id": "c5b67101-0f32-4bc6-8ab5-665dcc558eca",
     "isComponent": false,
     "name": "",
     "parents": []
    },
    "id": "7e794e28"
   },
   "source": [
    "# Read del dataset <a class=\"anchor\" id=\"1.5\"></a>"
   ]
  },
  {
   "cell_type": "code",
   "execution_count": 13,
   "id": "63bda8c4",
   "metadata": {
    "ExecuteTime": {
     "end_time": "2022-11-19T00:21:20.562675Z",
     "start_time": "2022-11-19T00:20:35.778944Z"
    },
    "canvas": {
     "comments": [],
     "componentType": "CodeCell",
     "copiedOriginId": null,
     "diskcache": false,
     "headerColor": "none",
     "id": "d7c832ec-1335-4f94-84b9-daed569551c7",
     "isComponent": false,
     "name": "",
     "parents": []
    },
    "id": "63bda8c4"
   },
   "outputs": [
    {
     "data": {
      "text/html": [
       "<div>\n",
       "<style scoped>\n",
       "    .dataframe tbody tr th:only-of-type {\n",
       "        vertical-align: middle;\n",
       "    }\n",
       "\n",
       "    .dataframe tbody tr th {\n",
       "        vertical-align: top;\n",
       "    }\n",
       "\n",
       "    .dataframe thead th {\n",
       "        text-align: right;\n",
       "    }\n",
       "</style>\n",
       "<table border=\"1\" class=\"dataframe\">\n",
       "  <thead>\n",
       "    <tr style=\"text-align: right;\">\n",
       "      <th></th>\n",
       "      <th>Unnamed: 0</th>\n",
       "      <th>X_STATE</th>\n",
       "      <th>FMONTH</th>\n",
       "      <th>IDATE</th>\n",
       "      <th>IMONTH</th>\n",
       "      <th>IDAY</th>\n",
       "      <th>IYEAR</th>\n",
       "      <th>DISPCODE</th>\n",
       "      <th>SEQNO</th>\n",
       "      <th>X_PSU</th>\n",
       "      <th>...</th>\n",
       "      <th>X_FRTRES1</th>\n",
       "      <th>X_VEGRES1</th>\n",
       "      <th>X_FRUTSU1</th>\n",
       "      <th>X_VEGESU1</th>\n",
       "      <th>X_FRTLT1A</th>\n",
       "      <th>X_VEGLT1A</th>\n",
       "      <th>X_FRT16A</th>\n",
       "      <th>X_VEG23A</th>\n",
       "      <th>X_FRUITE1</th>\n",
       "      <th>X_VEGETE1</th>\n",
       "    </tr>\n",
       "  </thead>\n",
       "  <tbody>\n",
       "    <tr>\n",
       "      <th>0</th>\n",
       "      <td>1</td>\n",
       "      <td>1</td>\n",
       "      <td>1</td>\n",
       "      <td>1192021</td>\n",
       "      <td>1</td>\n",
       "      <td>19</td>\n",
       "      <td>2021</td>\n",
       "      <td>1100</td>\n",
       "      <td>2021000001</td>\n",
       "      <td>2021000001</td>\n",
       "      <td>...</td>\n",
       "      <td>1</td>\n",
       "      <td>1</td>\n",
       "      <td>100.0</td>\n",
       "      <td>214.0</td>\n",
       "      <td>1</td>\n",
       "      <td>1</td>\n",
       "      <td>1</td>\n",
       "      <td>1</td>\n",
       "      <td>0</td>\n",
       "      <td>0</td>\n",
       "    </tr>\n",
       "    <tr>\n",
       "      <th>1</th>\n",
       "      <td>2</td>\n",
       "      <td>1</td>\n",
       "      <td>1</td>\n",
       "      <td>1212021</td>\n",
       "      <td>1</td>\n",
       "      <td>21</td>\n",
       "      <td>2021</td>\n",
       "      <td>1100</td>\n",
       "      <td>2021000002</td>\n",
       "      <td>2021000002</td>\n",
       "      <td>...</td>\n",
       "      <td>1</td>\n",
       "      <td>1</td>\n",
       "      <td>100.0</td>\n",
       "      <td>128.0</td>\n",
       "      <td>1</td>\n",
       "      <td>1</td>\n",
       "      <td>1</td>\n",
       "      <td>1</td>\n",
       "      <td>0</td>\n",
       "      <td>0</td>\n",
       "    </tr>\n",
       "    <tr>\n",
       "      <th>2</th>\n",
       "      <td>3</td>\n",
       "      <td>1</td>\n",
       "      <td>1</td>\n",
       "      <td>1212021</td>\n",
       "      <td>1</td>\n",
       "      <td>21</td>\n",
       "      <td>2021</td>\n",
       "      <td>1100</td>\n",
       "      <td>2021000003</td>\n",
       "      <td>2021000003</td>\n",
       "      <td>...</td>\n",
       "      <td>1</td>\n",
       "      <td>1</td>\n",
       "      <td>100.0</td>\n",
       "      <td>71.0</td>\n",
       "      <td>1</td>\n",
       "      <td>2</td>\n",
       "      <td>1</td>\n",
       "      <td>1</td>\n",
       "      <td>0</td>\n",
       "      <td>0</td>\n",
       "    </tr>\n",
       "    <tr>\n",
       "      <th>3</th>\n",
       "      <td>4</td>\n",
       "      <td>1</td>\n",
       "      <td>1</td>\n",
       "      <td>1172021</td>\n",
       "      <td>1</td>\n",
       "      <td>17</td>\n",
       "      <td>2021</td>\n",
       "      <td>1100</td>\n",
       "      <td>2021000004</td>\n",
       "      <td>2021000004</td>\n",
       "      <td>...</td>\n",
       "      <td>1</td>\n",
       "      <td>1</td>\n",
       "      <td>114.0</td>\n",
       "      <td>165.0</td>\n",
       "      <td>1</td>\n",
       "      <td>1</td>\n",
       "      <td>1</td>\n",
       "      <td>1</td>\n",
       "      <td>0</td>\n",
       "      <td>0</td>\n",
       "    </tr>\n",
       "    <tr>\n",
       "      <th>4</th>\n",
       "      <td>5</td>\n",
       "      <td>1</td>\n",
       "      <td>1</td>\n",
       "      <td>1152021</td>\n",
       "      <td>1</td>\n",
       "      <td>15</td>\n",
       "      <td>2021</td>\n",
       "      <td>1100</td>\n",
       "      <td>2021000005</td>\n",
       "      <td>2021000005</td>\n",
       "      <td>...</td>\n",
       "      <td>1</td>\n",
       "      <td>1</td>\n",
       "      <td>100.0</td>\n",
       "      <td>258.0</td>\n",
       "      <td>1</td>\n",
       "      <td>1</td>\n",
       "      <td>1</td>\n",
       "      <td>1</td>\n",
       "      <td>0</td>\n",
       "      <td>0</td>\n",
       "    </tr>\n",
       "  </tbody>\n",
       "</table>\n",
       "<p>5 rows × 304 columns</p>\n",
       "</div>"
      ],
      "text/plain": [
       "   Unnamed: 0  X_STATE  FMONTH    IDATE  IMONTH  IDAY  IYEAR  DISPCODE  \\\n",
       "0           1        1       1  1192021       1    19   2021      1100   \n",
       "1           2        1       1  1212021       1    21   2021      1100   \n",
       "2           3        1       1  1212021       1    21   2021      1100   \n",
       "3           4        1       1  1172021       1    17   2021      1100   \n",
       "4           5        1       1  1152021       1    15   2021      1100   \n",
       "\n",
       "        SEQNO       X_PSU  ...  X_FRTRES1  X_VEGRES1  X_FRUTSU1  X_VEGESU1  \\\n",
       "0  2021000001  2021000001  ...          1          1      100.0      214.0   \n",
       "1  2021000002  2021000002  ...          1          1      100.0      128.0   \n",
       "2  2021000003  2021000003  ...          1          1      100.0       71.0   \n",
       "3  2021000004  2021000004  ...          1          1      114.0      165.0   \n",
       "4  2021000005  2021000005  ...          1          1      100.0      258.0   \n",
       "\n",
       "   X_FRTLT1A  X_VEGLT1A  X_FRT16A  X_VEG23A  X_FRUITE1  X_VEGETE1  \n",
       "0          1          1         1         1          0          0  \n",
       "1          1          1         1         1          0          0  \n",
       "2          1          2         1         1          0          0  \n",
       "3          1          1         1         1          0          0  \n",
       "4          1          1         1         1          0          0  \n",
       "\n",
       "[5 rows x 304 columns]"
      ]
     },
     "execution_count": 13,
     "metadata": {},
     "output_type": "execute_result"
    }
   ],
   "source": [
    "#importamos el dataset\n",
    "import pandas as pd\n",
    "df= pd.read_csv('../data/interim/BFRSS2021.csv', encoding='cp1252')\n",
    "df.head(5)"
   ]
  },
  {
   "cell_type": "markdown",
   "id": "B8hgGU1Z6rcX",
   "metadata": {
    "canvas": {
     "comments": [],
     "componentType": "CodeCell",
     "copiedOriginId": null,
     "diskcache": false,
     "headerColor": "none",
     "id": "e1e68eff-b6aa-43e3-8f05-2fb3a504688f",
     "isComponent": false,
     "name": "",
     "parents": []
    },
    "id": "B8hgGU1Z6rcX"
   },
   "source": [
    "# Wrangling del Dataset"
   ]
  },
  {
   "cell_type": "markdown",
   "id": "1a45964b",
   "metadata": {
    "canvas": {
     "comments": [],
     "componentType": "CodeCell",
     "copiedOriginId": null,
     "diskcache": false,
     "headerColor": "none",
     "id": "e16f9c52-46ba-42fd-8a40-fdfd7b435bcb",
     "isComponent": false,
     "name": "",
     "parents": []
    },
    "id": "1a45964b"
   },
   "source": [
    "Eligimos variables de interés a base de Codebook de BRFSS:\n",
    "\n",
    "Codebook: https://www.cdc.gov/brfss/annual_data/2021/pdf/codebook21_llcp-v2-508.pdf"
   ]
  },
  {
   "cell_type": "code",
   "execution_count": 14,
   "id": "98b91011",
   "metadata": {
    "ExecuteTime": {
     "end_time": "2022-11-19T00:21:20.621858Z",
     "start_time": "2022-11-19T00:21:20.586273Z"
    },
    "canvas": {
     "comments": [],
     "componentType": "CodeCell",
     "copiedOriginId": null,
     "diskcache": false,
     "headerColor": "none",
     "id": "4f6b005e-73e9-4857-a8e4-e4904c07489f",
     "isComponent": false,
     "name": "",
     "parents": []
    },
    "id": "98b91011"
   },
   "outputs": [],
   "source": [
    "# Eligimos las variables relevantes y les asignamos nuevos nombres\n",
    "\n",
    "# informacion personal\n",
    "\n",
    "sex = df['SEXVAR']\n",
    "age = df['X_AGEG5YR']\n",
    "race = df['X_CRACE1']\n",
    "height = df['HEIGHT3']\n",
    "weight = df['WEIGHT2']\n",
    "marital_status = df['MARITAL']\n",
    "metropolitan_status = df['X_METSTAT']\n",
    "\n",
    "# nivel de educación\n",
    "level_of_education_completed = df['X_EDUCAG']\n",
    "\n",
    "\n",
    "# situación económica\n",
    "employed = df['EMPLOY1']\n",
    "income = df['INCOME3'] # What is your annual household income from all sources? \n",
    "own_or_rent_home = df['RENTHOM1']\n",
    "\n",
    "# estilo de vida\n",
    "\n",
    "last_checkup = df['CHECKUP1'] # About how long has it been since you last visited a doctor for a routine checkup?\n",
    "#hours_of_sleep_per_day = df['sleptim1']\n",
    "phys_activity_past_30days = df['X_TOTINDA']\n",
    "smoker = df['X_SMOKER3']\n",
    "\n",
    "# estado de salud y enfermedades diagnosticadas\n",
    "general_health = df['GENHLTH']\n",
    "coronary_heart_disease = df['CVDCRHD4']\n",
    "mental_health_past_30_days = df['MENTHLTH']\n",
    "phys_health_past_30_days = df['PHYSHLTH']\n",
    "kidney_disease = df['CHCKDNY2']\n",
    "#health_special_equipment = df['useequip'] #Do you now have any health problem that requires you to use specialequipment, such as a cane, a wheelchair, a special bed, or a special telephone?\n",
    "depression = df['ADDEPEV3']\n",
    "blind = df['BLIND']\n",
    "cognitive_diff = df['DECIDE'] #Because of a physical, mental, or emotional condition, do you have seriousdifficulty concentrating, remembering, or making decisions?\n",
    "diagnosed_diabetes = df['DIABETE4']#convertir 2 al 9 en uno solo\n",
    "HTA=df['BPHIGH6']\n",
    "fruta_verdura=df['FRUIT2']\n"
   ]
  },
  {
   "cell_type": "markdown",
   "id": "8V7Wk_USq1up",
   "metadata": {
    "canvas": {
     "comments": [],
     "componentType": "CodeCell",
     "copiedOriginId": null,
     "diskcache": false,
     "headerColor": "none",
     "id": "5996f10c-32b7-44c7-89d4-04ad19b37072",
     "isComponent": false,
     "name": "",
     "parents": []
    },
    "id": "8V7Wk_USq1up"
   },
   "source": [
    "# Arreglamos algunas variables"
   ]
  },
  {
   "cell_type": "code",
   "execution_count": 15,
   "id": "rWeZqW5eYfKM",
   "metadata": {
    "ExecuteTime": {
     "end_time": "2022-11-19T00:21:21.056595Z",
     "start_time": "2022-11-19T00:21:20.624900Z"
    },
    "canvas": {
     "comments": [],
     "componentType": "CodeCell",
     "copiedOriginId": null,
     "diskcache": false,
     "headerColor": "none",
     "id": "1d4417ee-7031-4930-8b1c-53a03ba7e2d4",
     "isComponent": false,
     "name": "",
     "parents": []
    },
    "id": "rWeZqW5eYfKM"
   },
   "outputs": [],
   "source": [
    "# Limpiamos columnas de \"height\" y \"weight\" para hacer el cálculo de BMI\n",
    "import numpy as np\n",
    "hw_replace = {7777:np.nan, 9999:np.nan}\n",
    "metric = True\n",
    "max_weight = 999\n",
    "height = height.replace(hw_replace)\n",
    "weight = weight.replace(hw_replace)"
   ]
  },
  {
   "cell_type": "code",
   "execution_count": 16,
   "id": "fe297215",
   "metadata": {
    "ExecuteTime": {
     "end_time": "2022-11-19T00:21:21.858888Z",
     "start_time": "2022-11-19T00:21:21.061183Z"
    },
    "canvas": {
     "comments": [],
     "componentType": "CodeCell",
     "copiedOriginId": null,
     "diskcache": false,
     "headerColor": "none",
     "id": "31ea9b58-d71b-431f-abeb-c5a5c211e4c9",
     "isComponent": false,
     "name": "",
     "parents": []
    },
    "id": "fe297215"
   },
   "outputs": [],
   "source": [
    "# Buscamos los valores que no tienen sentido/errores y transformamos los valores de altura a metros\n",
    "height = height.tolist()\n",
    "new_height = []\n",
    "for row in height:\n",
    "    h = str(row)\n",
    "\n",
    "    if row < 1: # If the height is 0, it isn't real\n",
    "        meters = np.nan\n",
    "\n",
    "    elif row < 712:\n",
    "        feet = float(h[0])\n",
    "        inches = float(h[1:])\n",
    "        if inches > 12: # Catches an error by the surveyor: no one is 5' 13\" tall\n",
    "            meters = np.nan\n",
    "        else:\n",
    "            inches = inches + feet*12\n",
    "            meters = inches * 0.0254\n",
    "\n",
    "    elif row < 9999 and row >= 9000 and metric:\n",
    "        meters = float(h[1])+float(h[2:])*0.01\n",
    "        if meters == 0: # If the height is 0, it isn't real\n",
    "            meters = np.nan\n",
    "\n",
    "    else: # If you've gotten this far, give up. You're NaN\n",
    "        meters = np.nan\n",
    "\n",
    "    new_height.append(meters)"
   ]
  },
  {
   "cell_type": "code",
   "execution_count": 17,
   "id": "SMacPxw74dCs",
   "metadata": {
    "ExecuteTime": {
     "end_time": "2022-11-19T00:21:22.396062Z",
     "start_time": "2022-11-19T00:21:21.860368Z"
    },
    "canvas": {
     "comments": [],
     "componentType": "CodeCell",
     "copiedOriginId": null,
     "diskcache": false,
     "headerColor": "none",
     "id": "07a12b62-efac-4991-a2f2-6f9226352172",
     "isComponent": false,
     "name": "",
     "parents": []
    },
    "id": "SMacPxw74dCs"
   },
   "outputs": [],
   "source": [
    "# Buscamos los valores que no tienen sentido/errores y transformamos los valores a KG\n",
    "\n",
    "weight = weight.tolist()\n",
    "new_weight = []\n",
    "for row in weight:\n",
    "    \n",
    "    if row < 10: # No person ages 18-99 should weigh 10 lbs.\n",
    "        kg = np.nan\n",
    "\n",
    "    elif row < max_weight:\n",
    "        kg = row * 0.453592\n",
    "\n",
    "    elif row < 9999 and metric:\n",
    "        w = str(row)\n",
    "        kg = float(w[1:])\n",
    "        if kg < 10: # Again, no person 18-99 should weigh 10 kgs. And yes, I know that 10 lbs != 10 kgs, but whatever\n",
    "            kg = np.nan\n",
    "\n",
    "    else:\n",
    "        kg = np.nan\n",
    "\n",
    "    new_weight.append(kg)"
   ]
  },
  {
   "cell_type": "code",
   "execution_count": 18,
   "id": "svzM6GxFXzOq",
   "metadata": {
    "ExecuteTime": {
     "end_time": "2022-11-19T00:21:23.672763Z",
     "start_time": "2022-11-19T00:21:22.397400Z"
    },
    "canvas": {
     "comments": [],
     "componentType": "CodeCell",
     "copiedOriginId": null,
     "diskcache": false,
     "headerColor": "none",
     "id": "94b43900-7706-4d9b-8b86-35ea4d7ed55b",
     "isComponent": false,
     "name": "",
     "parents": []
    },
    "id": "svzM6GxFXzOq"
   },
   "outputs": [],
   "source": [
    "# Calculamos el BMI\n",
    "bmi = []\n",
    "for h, w in zip(new_height, new_weight):\n",
    "    b = w/(h*h)\n",
    "    if b < 10 or b > 200:\n",
    "        b = np.nan\n",
    "    bmi.append(b)"
   ]
  },
  {
   "cell_type": "code",
   "execution_count": 19,
   "id": "YSEzcCAs4pKJ",
   "metadata": {
    "ExecuteTime": {
     "end_time": "2022-11-19T00:21:23.889332Z",
     "start_time": "2022-11-19T00:21:23.673998Z"
    },
    "canvas": {
     "comments": [],
     "componentType": "CodeCell",
     "copiedOriginId": null,
     "diskcache": false,
     "headerColor": "none",
     "id": "1577cc91-933a-4adb-9901-7e4c3a5c34bb",
     "isComponent": false,
     "name": "",
     "parents": []
    },
    "id": "YSEzcCAs4pKJ"
   },
   "outputs": [],
   "source": [
    "# Creamos series de altura, peso y BMI para incorporarlos en la tabla\n",
    "height = pd.Series(new_height)\n",
    "weight = pd.Series(new_weight)\n",
    "bmi = pd.Series(bmi)"
   ]
  },
  {
   "cell_type": "markdown",
   "id": "48VHLnhq8gRd",
   "metadata": {
    "canvas": {
     "comments": [],
     "componentType": "CodeCell",
     "copiedOriginId": null,
     "diskcache": false,
     "headerColor": "none",
     "id": "1da8e3ca-c015-4eac-bf74-e025dfb2648c",
     "isComponent": false,
     "name": "",
     "parents": []
    },
    "id": "48VHLnhq8gRd"
   },
   "source": [
    "Arreglamos algunas variables"
   ]
  },
  {
   "cell_type": "code",
   "execution_count": 20,
   "id": "90d1b88c",
   "metadata": {
    "ExecuteTime": {
     "end_time": "2022-11-19T00:21:24.070743Z",
     "start_time": "2022-11-19T00:21:23.890884Z"
    },
    "canvas": {
     "comments": [],
     "componentType": "CodeCell",
     "copiedOriginId": null,
     "diskcache": false,
     "headerColor": "none",
     "id": "cd803784-e7d8-43d9-a37c-7ae57940b6b4",
     "isComponent": false,
     "name": "",
     "parents": []
    },
    "id": "90d1b88c"
   },
   "outputs": [],
   "source": [
    "# Creamos el dataframe con las variables de arriba\n",
    "df_diabetes = pd.concat([sex,\n",
    "                         age,\n",
    "                         race,\n",
    "                         HTA,\n",
    "                         fruta_verdura,\n",
    "                         marital_status,\n",
    "                         metropolitan_status,\n",
    "                         height,\n",
    "                         weight,\n",
    "                         bmi,\n",
    "                         level_of_education_completed,\n",
    "                         employed,\n",
    "                         income,\n",
    "                         own_or_rent_home,\n",
    "                         last_checkup,\n",
    "                         phys_activity_past_30days,\n",
    "                         smoker,\n",
    "                         general_health,\n",
    "                         coronary_heart_disease,\n",
    "                         mental_health_past_30_days,\n",
    "                         phys_health_past_30_days,\n",
    "                         kidney_disease,\n",
    "                         depression,\n",
    "                         blind,\n",
    "                         cognitive_diff,\n",
    "                         diagnosed_diabetes], axis = 1)\n",
    "\n",
    "                         # Eligimos las variables relevantes y les asignamos nuevos nombres\n",
    "\n",
    "df_diabetes.columns = [  'sex',\n",
    "                         'age',\n",
    "                         'race',\n",
    "                         'HTA',\n",
    "                         'fruta_verdura',\n",
    "                         'marital_status',\n",
    "                         'metropolitan_status',\n",
    "                         'height',\n",
    "                         'weight',\n",
    "                         'bmi',\n",
    "                         'level_of_education_completed',\n",
    "                         'employed',\n",
    "                         'income',\n",
    "                         'own_or_rent_home',\n",
    "                         'last_checkup',\n",
    "                         'phys_activity_past_30days',\n",
    "                         'smoker',\n",
    "                         'general_health',\n",
    "                         'coronary_heart_disease',\n",
    "                         'mental_health_past_30_days',\n",
    "                         'phys_health_past_30_days',\n",
    "                         'kidney_disease',\n",
    "                         'depression',\n",
    "                         'blind',\n",
    "                         'cognitive_diff',\n",
    "                         'diagnosed_diabetes']"
   ]
  },
  {
   "cell_type": "markdown",
   "id": "4c1ed57c",
   "metadata": {
    "canvas": {
     "comments": [],
     "componentType": "CodeCell",
     "copiedOriginId": null,
     "diskcache": false,
     "headerColor": "none",
     "id": "325ec1bb-1da3-4c8e-b39b-a634c171dd51",
     "isComponent": false,
     "name": "",
     "parents": []
    },
    "id": "4c1ed57c"
   },
   "source": [
    "Chequeamos si todos los valores de columnas son relevantes"
   ]
  },
  {
   "cell_type": "code",
   "execution_count": 21,
   "id": "d3kWHke8dPhu",
   "metadata": {
    "ExecuteTime": {
     "end_time": "2022-11-19T00:21:24.507079Z",
     "start_time": "2022-11-19T00:21:24.072592Z"
    },
    "canvas": {
     "comments": [],
     "componentType": "CodeCell",
     "copiedOriginId": null,
     "diskcache": false,
     "headerColor": "none",
     "id": "7344b9bf-22dd-429b-add6-7eb0769160ca",
     "isComponent": false,
     "name": "",
     "parents": []
    },
    "id": "d3kWHke8dPhu"
   },
   "outputs": [],
   "source": [
    "df_diabetes['HTA'] = df_diabetes['HTA'].replace({2:-1,4:-1,7:-1,9:-1})\n",
    "df_diabetes['fruta_verdura'] = df_diabetes['fruta_verdura'].replace({777:-1,999:-1})\n",
    "# categorías 1 y 2 de edad corresponden a los menores de 30 años, este grupo etario probablemente tiene Diabetes Tipo 1, se eliminan para que no interfieran con el analisis de diabetes tipo 2\n",
    "df_diabetes = df_diabetes[df_diabetes['age'] != 1]\n",
    "df_diabetes = df_diabetes[df_diabetes['age'] != 2]\n",
    "# cambiar nombres de las variables - nos quedan 11 categorías de edad, \"0\" siendo rango \"30-34\" y \"10\" - \"80 o más\"\n",
    "# según el codebook, el valor 14 corresponde a \"Don’t know/Refused/Missing\" - le asignamos el valor \"-1\"\n",
    "df_diabetes['age'] = df_diabetes['age'].replace({3:0, 4:1, 5:2, 6:3, 7:4, 8:5, 9:6, 10:7, 11:8, 12:9, 13:10, 14:-1})\n",
    "# según el codebook los valores 7, 77, 99 corresponden a \"No preferred race\", \"Don’t know\", \"Refused\", \"Missing\" - sustituimos por \"-1\"\n",
    "# sustituimos valores null por \"-1\"\n",
    "df_diabetes['race'] = df_diabetes['race'].replace({6:-1,7:-1, 77:-1, 99:-1})\n",
    "df_diabetes['marital_status'] = df_diabetes['marital_status'].replace({9:-1})\n",
    "# según el codebook los valor 9 \"Don’t know/Not sure/Missing\"- lo eliminamos\n",
    "df_diabetes['level_of_education_completed'] = df_diabetes['level_of_education_completed'].replace({9:-1})\n",
    "df_diabetes['employed'] = df_diabetes['employed'].replace({9:-1})\n",
    "df_diabetes['income'] = df_diabetes['income'].replace({99:-1, 77:-1})\n",
    "df_diabetes['own_or_rent_home'] = df_diabetes['own_or_rent_home'].replace({3:-1,7:-1, 9:-1})\n",
    "df_diabetes['last_checkup'] = df_diabetes['last_checkup'].replace({7:-1,9:-1})\n",
    "df_diabetes['phys_activity_past_30days'] = df_diabetes['phys_activity_past_30days'].replace({9:-1})\n",
    "df_diabetes['smoker'] = df_diabetes['smoker'].replace({9:-1})\n",
    "df_diabetes['general_health'] = df_diabetes['general_health'].replace({7:-1, 9:-1})\n",
    "df_diabetes['coronary_heart_disease'] = df_diabetes['coronary_heart_disease'].replace({7:-1, 9:-1})\n",
    "df_diabetes['mental_health_past_30_days'] = df_diabetes['mental_health_past_30_days'].replace({77:-1, 99:-1})\n",
    "df_diabetes['phys_health_past_30_days'] = df_diabetes['phys_health_past_30_days'].replace({77:-1, 99:-1})\n",
    "df_diabetes['kidney_disease'] = df_diabetes['kidney_disease'].replace({7:-1, 9:-1})\n",
    "df_diabetes['depression'] = df_diabetes['depression'].replace({7:-1, 9:-1})\n",
    "df_diabetes['blind'] = df_diabetes['blind'].replace({7:-1, 9:-1})\n",
    "df_diabetes['cognitive_diff'] = df_diabetes['cognitive_diff'].replace({7:-1, 9:-1})\n",
    "# Dejamos las siguientes categorías:\n",
    "# (1) Yes\n",
    "# (2) Yes, but female told only during pregnancy\n",
    "# (3) No\n",
    "# (4) No, pre-diabetes or borderline diabetes\n",
    "df_diabetes['diagnosed_diabetes'] = df_diabetes['diagnosed_diabetes'].replace({2:1,4:1,3:2,7:-1, 9:-1})\n",
    "\n",
    "#Elimino los -1 del dataset\n",
    "df_diabetes.fillna(-1,inplace=True)\n",
    "df_diabetes = df_diabetes[df_diabetes['diagnosed_diabetes'] != -1]"
   ]
  },
  {
   "cell_type": "markdown",
   "id": "65wI2HyatMdQ",
   "metadata": {
    "canvas": {
     "comments": [],
     "componentType": "CodeCell",
     "copiedOriginId": null,
     "diskcache": false,
     "headerColor": "none",
     "id": "85d36298-f840-41e8-9d65-919421031aec",
     "isComponent": false,
     "name": "",
     "parents": []
    },
    "id": "65wI2HyatMdQ"
   },
   "source": [
    "=============================================================================================================================================="
   ]
  },
  {
   "cell_type": "markdown",
   "id": "b12b1976",
   "metadata": {
    "canvas": {
     "comments": [],
     "componentType": "CodeCell",
     "copiedOriginId": null,
     "diskcache": false,
     "headerColor": "none",
     "id": "e3e42500-6f4f-4680-80f3-8ec6f3773e57",
     "isComponent": false,
     "name": "",
     "parents": []
    },
    "id": "b12b1976"
   },
   "source": [
    "# Guardamos el data set final <a class=\"anchor\" id=\"3.2\"></a>"
   ]
  },
  {
   "cell_type": "code",
   "execution_count": 22,
   "id": "4218bf71",
   "metadata": {
    "ExecuteTime": {
     "end_time": "2022-11-19T00:21:28.307182Z",
     "start_time": "2022-11-19T00:21:24.509802Z"
    }
   },
   "outputs": [],
   "source": [
    "df_diabetes.to_csv(\"../data/processed/BRFSS2021T.csv\")"
   ]
  }
 ],
 "metadata": {
  "canvas": {
   "colorPalette": [
    "inherit",
    "inherit",
    "inherit",
    "inherit",
    "inherit",
    "inherit",
    "inherit",
    "inherit",
    "inherit",
    "inherit"
   ],
   "parameters": []
  },
  "colab": {
   "collapsed_sections": [
    "7e794e28",
    "B8hgGU1Z6rcX",
    "8V7Wk_USq1up",
    "b12b1976",
    "b12bf9a5",
    "03edbf3e",
    "2dc3ea57"
   ],
   "provenance": []
  },
  "gist": {
   "data": {
    "description": "jupyter/Coderhouse_Prediccion_de_Diabetes_Tipo_2_v0_4_2021.ipynb",
    "public": true
   },
   "id": ""
  },
  "kernelspec": {
   "display_name": "Python 3 (ipykernel)",
   "language": "python",
   "name": "python3"
  },
  "language_info": {
   "codemirror_mode": {
    "name": "ipython",
    "version": 3
   },
   "file_extension": ".py",
   "mimetype": "text/x-python",
   "name": "python",
   "nbconvert_exporter": "python",
   "pygments_lexer": "ipython3",
   "version": "3.10.6"
  },
  "vscode": {
   "interpreter": {
    "hash": "9034cd6c99133895e88a3ca6be38275486f59e247b89c16c20811d1a16f4b12f"
   }
  }
 },
 "nbformat": 4,
 "nbformat_minor": 5
}
