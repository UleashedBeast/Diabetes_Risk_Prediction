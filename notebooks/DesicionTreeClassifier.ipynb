{
 "cells": [
  {
   "cell_type": "markdown",
   "id": "7e794e28",
   "metadata": {
    "canvas": {
     "comments": [],
     "componentType": "CodeCell",
     "copiedOriginId": null,
     "diskcache": false,
     "headerColor": "none",
     "id": "c5b67101-0f32-4bc6-8ab5-665dcc558eca",
     "isComponent": false,
     "name": "",
     "parents": []
    },
    "id": "7e794e28"
   },
   "source": [
    "# Decision Tree Classifier\n",
    " <a class=\"anchor\" id=\"1.5\"></a>"
   ]
  },
  {
   "cell_type": "markdown",
   "id": "5FEoXLpJ3jix",
   "metadata": {
    "canvas": {
     "comments": [],
     "componentType": "CodeCell",
     "copiedOriginId": null,
     "diskcache": false,
     "headerColor": "none",
     "id": "f9ae888f-6faa-423a-9b2c-51449309bfff",
     "isComponent": false,
     "name": "",
     "parents": []
    },
    "id": "5FEoXLpJ3jix"
   },
   "source": [
    "# Importamos Librerias"
   ]
  },
  {
   "cell_type": "code",
   "execution_count": 6,
   "id": "63bda8c4",
   "metadata": {
    "ExecuteTime": {
     "end_time": "2022-11-23T22:26:57.132825Z",
     "start_time": "2022-11-23T22:26:54.319476Z"
    },
    "canvas": {
     "comments": [],
     "componentType": "CodeCell",
     "copiedOriginId": null,
     "diskcache": false,
     "headerColor": "none",
     "id": "d7c832ec-1335-4f94-84b9-daed569551c7",
     "isComponent": false,
     "name": "",
     "parents": []
    },
    "id": "63bda8c4"
   },
   "outputs": [
    {
     "data": {
      "text/html": [
       "<div>\n",
       "<style scoped>\n",
       "    .dataframe tbody tr th:only-of-type {\n",
       "        vertical-align: middle;\n",
       "    }\n",
       "\n",
       "    .dataframe tbody tr th {\n",
       "        vertical-align: top;\n",
       "    }\n",
       "\n",
       "    .dataframe thead th {\n",
       "        text-align: right;\n",
       "    }\n",
       "</style>\n",
       "<table border=\"1\" class=\"dataframe\">\n",
       "  <thead>\n",
       "    <tr style=\"text-align: right;\">\n",
       "      <th></th>\n",
       "      <th>Unnamed: 0</th>\n",
       "      <th>sex</th>\n",
       "      <th>age</th>\n",
       "      <th>race</th>\n",
       "      <th>HTA</th>\n",
       "      <th>fruta_verdura</th>\n",
       "      <th>marital_status</th>\n",
       "      <th>metropolitan_status</th>\n",
       "      <th>height</th>\n",
       "      <th>weight</th>\n",
       "      <th>...</th>\n",
       "      <th>smoker</th>\n",
       "      <th>general_health</th>\n",
       "      <th>coronary_heart_disease</th>\n",
       "      <th>mental_health_past_30_days</th>\n",
       "      <th>phys_health_past_30_days</th>\n",
       "      <th>kidney_disease</th>\n",
       "      <th>depression</th>\n",
       "      <th>blind</th>\n",
       "      <th>cognitive_diff</th>\n",
       "      <th>diagnosed_diabetes</th>\n",
       "    </tr>\n",
       "  </thead>\n",
       "  <tbody>\n",
       "    <tr>\n",
       "      <th>0</th>\n",
       "      <td>0</td>\n",
       "      <td>2</td>\n",
       "      <td>8</td>\n",
       "      <td>-1.0</td>\n",
       "      <td>3.0</td>\n",
       "      <td>101.0</td>\n",
       "      <td>1.0</td>\n",
       "      <td>1.0</td>\n",
       "      <td>1.4986</td>\n",
       "      <td>32.658624</td>\n",
       "      <td>...</td>\n",
       "      <td>3</td>\n",
       "      <td>5.0</td>\n",
       "      <td>2.0</td>\n",
       "      <td>10.0</td>\n",
       "      <td>20.0</td>\n",
       "      <td>2.0</td>\n",
       "      <td>2.0</td>\n",
       "      <td>2.0</td>\n",
       "      <td>2.0</td>\n",
       "      <td>2.0</td>\n",
       "    </tr>\n",
       "    <tr>\n",
       "      <th>1</th>\n",
       "      <td>1</td>\n",
       "      <td>2</td>\n",
       "      <td>7</td>\n",
       "      <td>-1.0</td>\n",
       "      <td>1.0</td>\n",
       "      <td>101.0</td>\n",
       "      <td>-1.0</td>\n",
       "      <td>1.0</td>\n",
       "      <td>1.6764</td>\n",
       "      <td>-1.000000</td>\n",
       "      <td>...</td>\n",
       "      <td>4</td>\n",
       "      <td>3.0</td>\n",
       "      <td>1.0</td>\n",
       "      <td>88.0</td>\n",
       "      <td>88.0</td>\n",
       "      <td>1.0</td>\n",
       "      <td>2.0</td>\n",
       "      <td>1.0</td>\n",
       "      <td>1.0</td>\n",
       "      <td>1.0</td>\n",
       "    </tr>\n",
       "    <tr>\n",
       "      <th>2</th>\n",
       "      <td>2</td>\n",
       "      <td>2</td>\n",
       "      <td>8</td>\n",
       "      <td>-1.0</td>\n",
       "      <td>1.0</td>\n",
       "      <td>101.0</td>\n",
       "      <td>3.0</td>\n",
       "      <td>1.0</td>\n",
       "      <td>1.6510</td>\n",
       "      <td>77.110640</td>\n",
       "      <td>...</td>\n",
       "      <td>4</td>\n",
       "      <td>2.0</td>\n",
       "      <td>1.0</td>\n",
       "      <td>88.0</td>\n",
       "      <td>88.0</td>\n",
       "      <td>2.0</td>\n",
       "      <td>2.0</td>\n",
       "      <td>2.0</td>\n",
       "      <td>2.0</td>\n",
       "      <td>1.0</td>\n",
       "    </tr>\n",
       "    <tr>\n",
       "      <th>3</th>\n",
       "      <td>3</td>\n",
       "      <td>2</td>\n",
       "      <td>6</td>\n",
       "      <td>-1.0</td>\n",
       "      <td>1.0</td>\n",
       "      <td>203.0</td>\n",
       "      <td>1.0</td>\n",
       "      <td>1.0</td>\n",
       "      <td>1.6256</td>\n",
       "      <td>88.450440</td>\n",
       "      <td>...</td>\n",
       "      <td>4</td>\n",
       "      <td>2.0</td>\n",
       "      <td>2.0</td>\n",
       "      <td>10.0</td>\n",
       "      <td>88.0</td>\n",
       "      <td>2.0</td>\n",
       "      <td>2.0</td>\n",
       "      <td>2.0</td>\n",
       "      <td>2.0</td>\n",
       "      <td>1.0</td>\n",
       "    </tr>\n",
       "    <tr>\n",
       "      <th>4</th>\n",
       "      <td>4</td>\n",
       "      <td>1</td>\n",
       "      <td>9</td>\n",
       "      <td>-1.0</td>\n",
       "      <td>-1.0</td>\n",
       "      <td>101.0</td>\n",
       "      <td>1.0</td>\n",
       "      <td>2.0</td>\n",
       "      <td>1.8034</td>\n",
       "      <td>93.439952</td>\n",
       "      <td>...</td>\n",
       "      <td>4</td>\n",
       "      <td>5.0</td>\n",
       "      <td>-1.0</td>\n",
       "      <td>88.0</td>\n",
       "      <td>30.0</td>\n",
       "      <td>2.0</td>\n",
       "      <td>2.0</td>\n",
       "      <td>2.0</td>\n",
       "      <td>2.0</td>\n",
       "      <td>1.0</td>\n",
       "    </tr>\n",
       "    <tr>\n",
       "      <th>...</th>\n",
       "      <td>...</td>\n",
       "      <td>...</td>\n",
       "      <td>...</td>\n",
       "      <td>...</td>\n",
       "      <td>...</td>\n",
       "      <td>...</td>\n",
       "      <td>...</td>\n",
       "      <td>...</td>\n",
       "      <td>...</td>\n",
       "      <td>...</td>\n",
       "      <td>...</td>\n",
       "      <td>...</td>\n",
       "      <td>...</td>\n",
       "      <td>...</td>\n",
       "      <td>...</td>\n",
       "      <td>...</td>\n",
       "      <td>...</td>\n",
       "      <td>...</td>\n",
       "      <td>...</td>\n",
       "      <td>...</td>\n",
       "      <td>...</td>\n",
       "    </tr>\n",
       "    <tr>\n",
       "      <th>390138</th>\n",
       "      <td>438688</td>\n",
       "      <td>2</td>\n",
       "      <td>0</td>\n",
       "      <td>-1.0</td>\n",
       "      <td>1.0</td>\n",
       "      <td>210.0</td>\n",
       "      <td>5.0</td>\n",
       "      <td>-1.0</td>\n",
       "      <td>1.5748</td>\n",
       "      <td>61.234920</td>\n",
       "      <td>...</td>\n",
       "      <td>3</td>\n",
       "      <td>2.0</td>\n",
       "      <td>2.0</td>\n",
       "      <td>20.0</td>\n",
       "      <td>88.0</td>\n",
       "      <td>2.0</td>\n",
       "      <td>1.0</td>\n",
       "      <td>2.0</td>\n",
       "      <td>2.0</td>\n",
       "      <td>1.0</td>\n",
       "    </tr>\n",
       "    <tr>\n",
       "      <th>390139</th>\n",
       "      <td>438689</td>\n",
       "      <td>1</td>\n",
       "      <td>10</td>\n",
       "      <td>-1.0</td>\n",
       "      <td>1.0</td>\n",
       "      <td>101.0</td>\n",
       "      <td>3.0</td>\n",
       "      <td>-1.0</td>\n",
       "      <td>1.5748</td>\n",
       "      <td>-1.000000</td>\n",
       "      <td>...</td>\n",
       "      <td>4</td>\n",
       "      <td>3.0</td>\n",
       "      <td>2.0</td>\n",
       "      <td>88.0</td>\n",
       "      <td>88.0</td>\n",
       "      <td>2.0</td>\n",
       "      <td>2.0</td>\n",
       "      <td>1.0</td>\n",
       "      <td>1.0</td>\n",
       "      <td>1.0</td>\n",
       "    </tr>\n",
       "    <tr>\n",
       "      <th>390140</th>\n",
       "      <td>438690</td>\n",
       "      <td>1</td>\n",
       "      <td>4</td>\n",
       "      <td>-1.0</td>\n",
       "      <td>3.0</td>\n",
       "      <td>102.0</td>\n",
       "      <td>1.0</td>\n",
       "      <td>-1.0</td>\n",
       "      <td>1.8034</td>\n",
       "      <td>99.790240</td>\n",
       "      <td>...</td>\n",
       "      <td>4</td>\n",
       "      <td>2.0</td>\n",
       "      <td>2.0</td>\n",
       "      <td>88.0</td>\n",
       "      <td>88.0</td>\n",
       "      <td>2.0</td>\n",
       "      <td>2.0</td>\n",
       "      <td>2.0</td>\n",
       "      <td>2.0</td>\n",
       "      <td>2.0</td>\n",
       "    </tr>\n",
       "    <tr>\n",
       "      <th>390141</th>\n",
       "      <td>438691</td>\n",
       "      <td>1</td>\n",
       "      <td>7</td>\n",
       "      <td>-1.0</td>\n",
       "      <td>1.0</td>\n",
       "      <td>101.0</td>\n",
       "      <td>2.0</td>\n",
       "      <td>-1.0</td>\n",
       "      <td>1.8288</td>\n",
       "      <td>79.378600</td>\n",
       "      <td>...</td>\n",
       "      <td>4</td>\n",
       "      <td>2.0</td>\n",
       "      <td>2.0</td>\n",
       "      <td>88.0</td>\n",
       "      <td>88.0</td>\n",
       "      <td>2.0</td>\n",
       "      <td>2.0</td>\n",
       "      <td>2.0</td>\n",
       "      <td>2.0</td>\n",
       "      <td>2.0</td>\n",
       "    </tr>\n",
       "    <tr>\n",
       "      <th>390142</th>\n",
       "      <td>438692</td>\n",
       "      <td>2</td>\n",
       "      <td>3</td>\n",
       "      <td>-1.0</td>\n",
       "      <td>3.0</td>\n",
       "      <td>305.0</td>\n",
       "      <td>2.0</td>\n",
       "      <td>-1.0</td>\n",
       "      <td>1.6002</td>\n",
       "      <td>81.192968</td>\n",
       "      <td>...</td>\n",
       "      <td>4</td>\n",
       "      <td>1.0</td>\n",
       "      <td>2.0</td>\n",
       "      <td>2.0</td>\n",
       "      <td>2.0</td>\n",
       "      <td>2.0</td>\n",
       "      <td>2.0</td>\n",
       "      <td>2.0</td>\n",
       "      <td>2.0</td>\n",
       "      <td>2.0</td>\n",
       "    </tr>\n",
       "  </tbody>\n",
       "</table>\n",
       "<p>390143 rows × 27 columns</p>\n",
       "</div>"
      ],
      "text/plain": [
       "        Unnamed: 0  sex  age  race  HTA  fruta_verdura  marital_status  \\\n",
       "0                0    2    8  -1.0  3.0          101.0             1.0   \n",
       "1                1    2    7  -1.0  1.0          101.0            -1.0   \n",
       "2                2    2    8  -1.0  1.0          101.0             3.0   \n",
       "3                3    2    6  -1.0  1.0          203.0             1.0   \n",
       "4                4    1    9  -1.0 -1.0          101.0             1.0   \n",
       "...            ...  ...  ...   ...  ...            ...             ...   \n",
       "390138      438688    2    0  -1.0  1.0          210.0             5.0   \n",
       "390139      438689    1   10  -1.0  1.0          101.0             3.0   \n",
       "390140      438690    1    4  -1.0  3.0          102.0             1.0   \n",
       "390141      438691    1    7  -1.0  1.0          101.0             2.0   \n",
       "390142      438692    2    3  -1.0  3.0          305.0             2.0   \n",
       "\n",
       "        metropolitan_status  height     weight  ...  smoker  general_health  \\\n",
       "0                       1.0  1.4986  32.658624  ...       3             5.0   \n",
       "1                       1.0  1.6764  -1.000000  ...       4             3.0   \n",
       "2                       1.0  1.6510  77.110640  ...       4             2.0   \n",
       "3                       1.0  1.6256  88.450440  ...       4             2.0   \n",
       "4                       2.0  1.8034  93.439952  ...       4             5.0   \n",
       "...                     ...     ...        ...  ...     ...             ...   \n",
       "390138                 -1.0  1.5748  61.234920  ...       3             2.0   \n",
       "390139                 -1.0  1.5748  -1.000000  ...       4             3.0   \n",
       "390140                 -1.0  1.8034  99.790240  ...       4             2.0   \n",
       "390141                 -1.0  1.8288  79.378600  ...       4             2.0   \n",
       "390142                 -1.0  1.6002  81.192968  ...       4             1.0   \n",
       "\n",
       "        coronary_heart_disease  mental_health_past_30_days  \\\n",
       "0                          2.0                        10.0   \n",
       "1                          1.0                        88.0   \n",
       "2                          1.0                        88.0   \n",
       "3                          2.0                        10.0   \n",
       "4                         -1.0                        88.0   \n",
       "...                        ...                         ...   \n",
       "390138                     2.0                        20.0   \n",
       "390139                     2.0                        88.0   \n",
       "390140                     2.0                        88.0   \n",
       "390141                     2.0                        88.0   \n",
       "390142                     2.0                         2.0   \n",
       "\n",
       "        phys_health_past_30_days  kidney_disease  depression  blind  \\\n",
       "0                           20.0             2.0         2.0    2.0   \n",
       "1                           88.0             1.0         2.0    1.0   \n",
       "2                           88.0             2.0         2.0    2.0   \n",
       "3                           88.0             2.0         2.0    2.0   \n",
       "4                           30.0             2.0         2.0    2.0   \n",
       "...                          ...             ...         ...    ...   \n",
       "390138                      88.0             2.0         1.0    2.0   \n",
       "390139                      88.0             2.0         2.0    1.0   \n",
       "390140                      88.0             2.0         2.0    2.0   \n",
       "390141                      88.0             2.0         2.0    2.0   \n",
       "390142                       2.0             2.0         2.0    2.0   \n",
       "\n",
       "        cognitive_diff  diagnosed_diabetes  \n",
       "0                  2.0                 2.0  \n",
       "1                  1.0                 1.0  \n",
       "2                  2.0                 1.0  \n",
       "3                  2.0                 1.0  \n",
       "4                  2.0                 1.0  \n",
       "...                ...                 ...  \n",
       "390138             2.0                 1.0  \n",
       "390139             1.0                 1.0  \n",
       "390140             2.0                 2.0  \n",
       "390141             2.0                 2.0  \n",
       "390142             2.0                 2.0  \n",
       "\n",
       "[390143 rows x 27 columns]"
      ]
     },
     "execution_count": 6,
     "metadata": {},
     "output_type": "execute_result"
    }
   ],
   "source": [
    "#importamos el dataset\n",
    "import pandas as pd\n",
    "URL = \"../data/processed/BRFSS2021T.csv\"\n",
    "df_diabetes = pd.read_csv(URL)\n",
    "df_diabetes"
   ]
  },
  {
   "cell_type": "markdown",
   "id": "03edbf3e",
   "metadata": {
    "canvas": {
     "comments": [],
     "componentType": "CodeCell",
     "copiedOriginId": null,
     "diskcache": false,
     "headerColor": "none",
     "id": "b6bc3fa5-dd85-4c47-b3a4-6cf4fe5d5cb0",
     "isComponent": false,
     "name": "",
     "parents": []
    },
    "id": "03edbf3e"
   },
   "source": [
    "# Model"
   ]
  },
  {
   "cell_type": "code",
   "execution_count": 7,
   "id": "a92705e7",
   "metadata": {
    "ExecuteTime": {
     "end_time": "2022-11-23T22:26:57.137780Z",
     "start_time": "2022-11-23T22:26:57.134638Z"
    },
    "canvas": {
     "comments": [],
     "componentType": "CodeCell",
     "copiedOriginId": null,
     "diskcache": false,
     "headerColor": "none",
     "id": "baa42c2a-02d1-4312-b137-93934a37e2a7",
     "isComponent": false,
     "name": "",
     "parents": []
    }
   },
   "outputs": [],
   "source": [
    "# Iniciamos el modelo\n",
    "from sklearn.tree import DecisionTreeClassifier\n",
    "model = DecisionTreeClassifier()"
   ]
  },
  {
   "cell_type": "code",
   "execution_count": 8,
   "id": "f51fcdea",
   "metadata": {
    "ExecuteTime": {
     "end_time": "2022-11-23T22:26:57.795076Z",
     "start_time": "2022-11-23T22:26:57.140358Z"
    },
    "canvas": {
     "comments": [],
     "componentType": "CodeCell",
     "copiedOriginId": null,
     "diskcache": false,
     "headerColor": "none",
     "id": "a8c35fc8-0e5d-4cf0-8631-5bd764aa22d4",
     "isComponent": false,
     "name": "",
     "parents": []
    }
   },
   "outputs": [],
   "source": [
    "#Definimos nuetras X e Y\n",
    "X = df_diabetes.iloc[:, :-1].values\n",
    "Y = df_diabetes['diagnosed_diabetes'].values.reshape(-1,1)"
   ]
  },
  {
   "cell_type": "code",
   "execution_count": 10,
   "id": "68962a73",
   "metadata": {
    "ExecuteTime": {
     "end_time": "2022-11-23T22:30:01.170756Z",
     "start_time": "2022-11-23T22:30:01.167618Z"
    },
    "canvas": {
     "comments": [],
     "componentType": "CodeCell",
     "copiedOriginId": null,
     "diskcache": false,
     "headerColor": "none",
     "id": "4366ee8a-a96e-4722-b5b6-ab677355dcd2",
     "isComponent": false,
     "name": "",
     "parents": []
    }
   },
   "outputs": [],
   "source": [
    "#iniciamos el SKF\n",
    "from sklearn.model_selection import StratifiedKFold\n",
    "skf = StratifiedKFold(n_splits=10)\n",
    "skf.get_n_splits(X, Y)\n",
    "lst_accu_stratified = []\n",
    "tree_scores = {'accuracy_scores':[],'precision_scores':[],'recall_scores':[]}"
   ]
  },
  {
   "cell_type": "code",
   "execution_count": 5,
   "id": "75cceb91",
   "metadata": {
    "ExecuteTime": {
     "end_time": "2022-11-23T22:26:49.646951Z",
     "start_time": "2022-11-23T22:26:36.079871Z"
    },
    "canvas": {
     "comments": [],
     "componentType": "CodeCell",
     "copiedOriginId": null,
     "diskcache": false,
     "headerColor": "none",
     "id": "21e63c6d-5fb6-4bd5-b2fb-7ab08cbb3768",
     "isComponent": false,
     "name": "",
     "parents": []
    }
   },
   "outputs": [
    {
     "name": "stderr",
     "output_type": "stream",
     "text": [
      "\n",
      "KeyboardInterrupt\n",
      "\n"
     ]
    }
   ],
   "source": [
    "#bucle\n",
    "for train_index, test_index in skf.split(X, Y):  \n",
    "    #Separacion del modelo\n",
    "    X_train, X_test = X[train_index], X[test_index]\n",
    "    Y_train, Y_test = Y[train_index], Y[test_index]\n",
    "    #Entrenamiento\n",
    "    ModeloDTC=model.fit(X_train, Y_train)\n",
    "    #Calculo de metricas para cada entrenamiento\n",
    "    lst_accu_stratified.append(model.score(X_test, Y_test))\n",
    "    tree_scores['precision_scores'].append(precision_score(y_test,tree_prediction))\n",
    "    tree_scores['recall_scores'].append(recall_score(y_test,tree_prediction))"
   ]
  },
  {
   "cell_type": "code",
   "execution_count": null,
   "id": "55087199",
   "metadata": {
    "ExecuteTime": {
     "end_time": "2022-11-23T22:26:49.648812Z",
     "start_time": "2022-11-23T22:26:49.648801Z"
    },
    "canvas": {
     "comments": [],
     "componentType": "CodeCell",
     "copiedOriginId": null,
     "diskcache": false,
     "headerColor": "none",
     "id": "36380283-a42b-48a0-8e0e-c7eaf17064ec",
     "isComponent": false,
     "name": "",
     "parents": []
    }
   },
   "outputs": [],
   "source": [
    "#Mostramos resultado\n",
    "from numpy import mean\n",
    "print('Overall Accuracy:',mean(lst_accu_stratified))"
   ]
  },
  {
   "cell_type": "markdown",
   "id": "223a28b7",
   "metadata": {},
   "source": [
    "# Optuna Tunning"
   ]
  },
  {
   "cell_type": "code",
   "execution_count": null,
   "id": "3b59bd08",
   "metadata": {
    "ExecuteTime": {
     "end_time": "2022-11-23T22:26:49.649991Z",
     "start_time": "2022-11-23T22:26:49.649974Z"
    }
   },
   "outputs": [],
   "source": [
    "from sklearn.model_selection import cross_val_score\n",
    "def dtree_objective(trial):\n",
    "    \n",
    "    md = trial.suggest_int('max_depth', 2, 64)\n",
    "    mi = trial.suggest_int('min_inst', 1, 32)\n",
    "    \n",
    "    clf =  DecisionTreeClassifier(max_depth=md, min_samples_leaf=mi, random_state=1, )\n",
    "    scores = cross_val_score(clf, X_train, Y_train, cv=5, scoring='roc_auc')\n",
    "    \n",
    "    return scores.mean()\n",
    "    \n",
    "dtree_study = optuna.create_study(direction='maximize')\n",
    "dtree_study.optimize(dtree_objective, n_trials=20)"
   ]
  },
  {
   "cell_type": "code",
   "execution_count": null,
   "id": "33c466ed",
   "metadata": {
    "ExecuteTime": {
     "end_time": "2022-11-23T22:26:49.651583Z",
     "start_time": "2022-11-23T22:26:49.651566Z"
    }
   },
   "outputs": [],
   "source": [
    "#vemos los resultados\n",
    "print(dtree_study.best_value)\n",
    "print(dtree_study.best_params)"
   ]
  },
  {
   "cell_type": "code",
   "execution_count": null,
   "id": "b6b923e6",
   "metadata": {
    "ExecuteTime": {
     "end_time": "2022-11-23T22:26:49.653139Z",
     "start_time": "2022-11-23T22:26:49.653096Z"
    }
   },
   "outputs": [],
   "source": [
    "#Visualizamos los resultados\n",
    "from optuna.visualization import plot_optimization_history, plot_slice\n",
    "plot_optimization_history(dtree_study)"
   ]
  },
  {
   "cell_type": "code",
   "execution_count": null,
   "id": "47e948db",
   "metadata": {
    "ExecuteTime": {
     "end_time": "2022-11-23T22:26:49.655736Z",
     "start_time": "2022-11-23T22:26:49.655720Z"
    }
   },
   "outputs": [],
   "source": [
    "plot_slice(dtree_study)"
   ]
  },
  {
   "cell_type": "code",
   "execution_count": null,
   "id": "c61954a7",
   "metadata": {},
   "outputs": [],
   "source": []
  }
 ],
 "metadata": {
  "canvas": {
   "colorPalette": [
    "inherit",
    "inherit",
    "inherit",
    "inherit",
    "inherit",
    "inherit",
    "inherit",
    "inherit",
    "inherit",
    "inherit"
   ],
   "parameters": []
  },
  "colab": {
   "collapsed_sections": [
    "7e794e28",
    "B8hgGU1Z6rcX",
    "8V7Wk_USq1up",
    "b12b1976",
    "b12bf9a5",
    "03edbf3e",
    "2dc3ea57"
   ],
   "provenance": []
  },
  "gist": {
   "data": {
    "description": "jupyter/Coderhouse_Prediccion_de_Diabetes_Tipo_2_v0_4_2021.ipynb",
    "public": true
   },
   "id": ""
  },
  "kernelspec": {
   "display_name": "Python 3 (ipykernel)",
   "language": "python",
   "name": "python3"
  },
  "language_info": {
   "codemirror_mode": {
    "name": "ipython",
    "version": 3
   },
   "file_extension": ".py",
   "mimetype": "text/x-python",
   "name": "python",
   "nbconvert_exporter": "python",
   "pygments_lexer": "ipython3",
   "version": "3.10.6"
  },
  "vscode": {
   "interpreter": {
    "hash": "9034cd6c99133895e88a3ca6be38275486f59e247b89c16c20811d1a16f4b12f"
   }
  }
 },
 "nbformat": 4,
 "nbformat_minor": 5
}
