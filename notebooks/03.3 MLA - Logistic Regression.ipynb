{
 "cells": [
  {
   "cell_type": "markdown",
   "id": "7e794e28",
   "metadata": {
    "canvas": {
     "comments": [],
     "componentType": "CodeCell",
     "copiedOriginId": null,
     "diskcache": false,
     "headerColor": "none",
     "id": "c5b67101-0f32-4bc6-8ab5-665dcc558eca",
     "isComponent": false,
     "name": "",
     "parents": []
    },
    "id": "7e794e28"
   },
   "source": [
    "# Logistic Regression\n",
    " <a class=\"anchor\" id=\"1.5\"></a>"
   ]
  },
  {
   "cell_type": "markdown",
   "id": "5FEoXLpJ3jix",
   "metadata": {
    "canvas": {
     "comments": [],
     "componentType": "CodeCell",
     "copiedOriginId": null,
     "diskcache": false,
     "headerColor": "none",
     "id": "f9ae888f-6faa-423a-9b2c-51449309bfff",
     "isComponent": false,
     "name": "",
     "parents": []
    },
    "id": "5FEoXLpJ3jix"
   },
   "source": [
    "# Importamos Librerias"
   ]
  },
  {
   "cell_type": "code",
   "execution_count": null,
   "id": "edeb8d37",
   "metadata": {},
   "outputs": [],
   "source": [
    "#importamos el dataset\n",
    "import pandas as pd\n",
    "URL = \"https://media.githubusercontent.com/media/UnleashedBest/Diabetes_Risk_Prediction/master/data/processed/BRFSS2021T.csv\"\n",
    "df_diabetes = pd.read_csv(URL)\n",
    "df_diabetes"
   ]
  },
  {
   "cell_type": "markdown",
   "id": "UCyfJ7IUgdVI",
   "metadata": {
    "canvas": {
     "comments": [],
     "componentType": "CodeCell",
     "copiedOriginId": null,
     "diskcache": false,
     "headerColor": "none",
     "id": "c37e4966-a1c6-40f4-818c-ff34f012503e",
     "isComponent": false,
     "name": "",
     "parents": []
    },
    "id": "UCyfJ7IUgdVI"
   },
   "source": [
    "# Model"
   ]
  },
  {
   "cell_type": "code",
   "execution_count": 20,
   "id": "a4919062",
   "metadata": {
    "ExecuteTime": {
     "end_time": "2022-11-13T18:24:07.272347Z",
     "start_time": "2022-11-13T18:24:07.240095Z"
    },
    "canvas": {
     "comments": [],
     "componentType": "CodeCell",
     "copiedOriginId": null,
     "diskcache": false,
     "headerColor": "none",
     "id": "34e60147-d647-425d-a1dd-688255288272",
     "isComponent": false,
     "name": "",
     "parents": []
    }
   },
   "outputs": [],
   "source": [
    "#Definimos nuetras X e Y\n",
    "X= df_diabetes.iloc[:,:-1].values\n",
    "Y= df_diabetes.iloc[:, -1].values.reshape(-1,1)"
   ]
  },
  {
   "cell_type": "code",
   "execution_count": 21,
   "id": "9bad4873",
   "metadata": {
    "ExecuteTime": {
     "end_time": "2022-11-13T18:24:18.756695Z",
     "start_time": "2022-11-13T18:24:18.754068Z"
    },
    "canvas": {
     "comments": [],
     "componentType": "CodeCell",
     "copiedOriginId": null,
     "diskcache": false,
     "headerColor": "none",
     "id": "aae80ee7-00dc-4002-ba0d-c2e28c11ac48",
     "isComponent": false,
     "name": "",
     "parents": []
    }
   },
   "outputs": [],
   "source": [
    "#iniciamos el SKF\n",
    "skf = StratifiedKFold(n_splits=100)\n",
    "skf.get_n_splits(X, Y)  \n",
    "lst_accu_stratified = []"
   ]
  },
  {
   "cell_type": "code",
   "execution_count": 23,
   "id": "d3ea9622",
   "metadata": {
    "ExecuteTime": {
     "end_time": "2022-11-13T18:26:25.623426Z",
     "start_time": "2022-11-13T18:26:25.620304Z"
    },
    "canvas": {
     "comments": [],
     "componentType": "CodeCell",
     "copiedOriginId": null,
     "diskcache": false,
     "headerColor": "none",
     "id": "df948e5f-1ae8-44d5-9a23-6cb379714ff8",
     "isComponent": false,
     "name": "",
     "parents": []
    }
   },
   "outputs": [],
   "source": [
    "# Iniciamos el modelo\n",
    "from sklearn.linear_model import LogisticRegression\n",
    "model = LogisticRegression(random_state=0)"
   ]
  },
  {
   "cell_type": "code",
   "execution_count": 24,
   "id": "d06f6165",
   "metadata": {
    "ExecuteTime": {
     "end_time": "2022-11-13T18:35:25.190151Z",
     "start_time": "2022-11-13T18:27:02.980487Z"
    },
    "canvas": {
     "comments": [],
     "componentType": "CodeCell",
     "copiedOriginId": null,
     "diskcache": false,
     "headerColor": "none",
     "id": "5eb9525d-05de-4676-9eaf-b4c7d09e540c",
     "isComponent": false,
     "name": "",
     "parents": []
    }
   },
   "outputs": [],
   "source": [
    "#bucle\n",
    "for train_index, test_index in skf.split(X, Y):  \n",
    "    #Separacion del modelo\n",
    "    X_train, X_test = X[train_index], X[test_index]\n",
    "    Y_train, Y_test = Y[train_index], Y[test_index]\n",
    "    #Entrenamiento\n",
    "    ModeloRL=model.fit(X_train, Y_train) \n",
    "    #Calculo de metricas para cada entrenamiento\n",
    "    lst_accu_stratified.append(model.score(X_test, Y_test))"
   ]
  },
  {
   "cell_type": "code",
   "execution_count": null,
   "id": "a5b367b7",
   "metadata": {},
   "outputs": [],
   "source": [
    "#Mostramos resultado\n",
    "import statistics\n",
    "print('Maximum Accuracy',max(lst_accu_stratified)) \n",
    "print('Minimum Accuracy:',min(lst_accu_stratified)) \n",
    "print('Overall Accuracy:',statistics.mean(lst_accu_stratified))"
   ]
  }
 ],
 "metadata": {
  "canvas": {
   "colorPalette": [
    "inherit",
    "inherit",
    "inherit",
    "inherit",
    "inherit",
    "inherit",
    "inherit",
    "inherit",
    "inherit",
    "inherit"
   ],
   "parameters": []
  },
  "colab": {
   "collapsed_sections": [
    "7e794e28",
    "B8hgGU1Z6rcX",
    "8V7Wk_USq1up",
    "b12b1976",
    "b12bf9a5",
    "03edbf3e",
    "2dc3ea57"
   ],
   "provenance": []
  },
  "gist": {
   "data": {
    "description": "jupyter/Coderhouse_Prediccion_de_Diabetes_Tipo_2_v0_4_2021.ipynb",
    "public": true
   },
   "id": ""
  },
  "kernelspec": {
   "display_name": "Python 3 (ipykernel)",
   "language": "python",
   "name": "python3"
  },
  "language_info": {
   "codemirror_mode": {
    "name": "ipython",
    "version": 3
   },
   "file_extension": ".py",
   "mimetype": "text/x-python",
   "name": "python",
   "nbconvert_exporter": "python",
   "pygments_lexer": "ipython3",
   "version": "3.10.6"
  },
  "vscode": {
   "interpreter": {
    "hash": "9034cd6c99133895e88a3ca6be38275486f59e247b89c16c20811d1a16f4b12f"
   }
  }
 },
 "nbformat": 4,
 "nbformat_minor": 5
}
