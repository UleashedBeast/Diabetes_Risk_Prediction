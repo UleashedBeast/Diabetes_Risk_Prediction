{
 "cells": [
  {
   "cell_type": "markdown",
   "id": "7e794e28",
   "metadata": {
    "canvas": {
     "comments": [],
     "componentType": "CodeCell",
     "copiedOriginId": null,
     "diskcache": false,
     "headerColor": "none",
     "id": "c5b67101-0f32-4bc6-8ab5-665dcc558eca",
     "isComponent": false,
     "name": "",
     "parents": []
    },
    "id": "7e794e28"
   },
   "source": [
    "# Decision Tree Classifier\n",
    " <a class=\"anchor\" id=\"1.5\"></a>"
   ]
  },
  {
   "cell_type": "markdown",
   "id": "5FEoXLpJ3jix",
   "metadata": {
    "canvas": {
     "comments": [],
     "componentType": "CodeCell",
     "copiedOriginId": null,
     "diskcache": false,
     "headerColor": "none",
     "id": "f9ae888f-6faa-423a-9b2c-51449309bfff",
     "isComponent": false,
     "name": "",
     "parents": []
    },
    "id": "5FEoXLpJ3jix"
   },
   "source": [
    "# Importamos Librerias"
   ]
  },
  {
   "cell_type": "code",
   "execution_count": null,
   "id": "63bda8c4",
   "metadata": {
    "ExecuteTime": {
     "end_time": "2022-11-27T23:21:11.015468Z",
     "start_time": "2022-11-27T23:21:11.015452Z"
    },
    "canvas": {
     "comments": [],
     "componentType": "CodeCell",
     "copiedOriginId": null,
     "diskcache": false,
     "headerColor": "none",
     "id": "d7c832ec-1335-4f94-84b9-daed569551c7",
     "isComponent": false,
     "name": "",
     "parents": []
    },
    "id": "63bda8c4"
   },
   "outputs": [],
   "source": [
    "#importamos el dataset\n",
    "import pandas as pd\n",
    "URL = \"../data/processed/BRFSS2021T.csv\"\n",
    "df_diabetes = pd.read_csv(URL)\n",
    "df_diabetes"
   ]
  },
  {
   "cell_type": "markdown",
   "id": "03edbf3e",
   "metadata": {
    "canvas": {
     "comments": [],
     "componentType": "CodeCell",
     "copiedOriginId": null,
     "diskcache": false,
     "headerColor": "none",
     "id": "b6bc3fa5-dd85-4c47-b3a4-6cf4fe5d5cb0",
     "isComponent": false,
     "name": "",
     "parents": []
    },
    "id": "03edbf3e"
   },
   "source": [
    "# Model + Stratified KFold"
   ]
  },
  {
   "cell_type": "code",
   "execution_count": null,
   "id": "92edb470",
   "metadata": {
    "ExecuteTime": {
     "end_time": "2022-11-27T23:21:11.016777Z",
     "start_time": "2022-11-27T23:21:11.016761Z"
    }
   },
   "outputs": [],
   "source": [
    "# Define X and Y\n",
    "X = df_diabetes.iloc[:,:-1].values\n",
    "y = df_diabetes.iloc[:, -1].values.reshape(-1,1).ravel()"
   ]
  },
  {
   "cell_type": "code",
   "execution_count": null,
   "id": "33628e57",
   "metadata": {
    "ExecuteTime": {
     "end_time": "2022-11-27T23:21:11.020100Z",
     "start_time": "2022-11-27T23:21:11.020083Z"
    }
   },
   "outputs": [],
   "source": [
    "#Importing metrics\n",
    "import numpy as np\n",
    "from sklearn.metrics import accuracy_score, precision_score, recall_score"
   ]
  },
  {
   "cell_type": "code",
   "execution_count": null,
   "id": "87e194eb",
   "metadata": {
    "ExecuteTime": {
     "end_time": "2022-11-27T23:21:11.021032Z",
     "start_time": "2022-11-27T23:21:11.021022Z"
    }
   },
   "outputs": [],
   "source": [
    "# Importing Kfold\n",
    "from sklearn.model_selection import StratifiedKFold"
   ]
  },
  {
   "cell_type": "code",
   "execution_count": null,
   "id": "2e854f42",
   "metadata": {
    "ExecuteTime": {
     "end_time": "2022-11-27T23:21:11.022167Z",
     "start_time": "2022-11-27T23:21:11.022150Z"
    }
   },
   "outputs": [],
   "source": [
    "# Creating dictionary for the metrics\n",
    "SVM_scores  = {'accuracy':[],'precision':[],'recall':[]}"
   ]
  },
  {
   "cell_type": "code",
   "execution_count": null,
   "id": "6bb858e5",
   "metadata": {
    "ExecuteTime": {
     "end_time": "2022-11-27T23:21:11.023241Z",
     "start_time": "2022-11-27T23:21:11.023227Z"
    }
   },
   "outputs": [],
   "source": [
    "# setting the number of splits\n",
    "from sklearn.svm import SVC\n",
    "skf = StratifiedKFold(n_splits=10, random_state = None)\n",
    "skf.get_n_splits(X, y)\n",
    "svm = SVC()"
   ]
  },
  {
   "cell_type": "code",
   "execution_count": null,
   "id": "0e50cbc7",
   "metadata": {
    "ExecuteTime": {
     "end_time": "2022-11-27T23:21:11.024380Z",
     "start_time": "2022-11-27T23:21:11.024369Z"
    }
   },
   "outputs": [],
   "source": [
    "# dividiendo en train y test\n",
    "from sklearn.svm import SVC\n",
    "for train_index, test_index in skf.split(X, y):\n",
    "    X_train, X_test = X[train_index], X[test_index]\n",
    "    y_train, y_test = y[train_index], y[test_index]\n",
    "    # Iniciating and saving the metrics\n",
    "    ModelSVM=svm.fit(X_train, y_train)\n",
    "    svm_prediction = svm.predict(X_test)\n",
    "    SVM_scores['precision_scores'].append(precision_score(Y_test,svm_prediction))\n",
    "    SVM_scores['recall_scores'].append(recall_score(Y_test,svm_prediction))\n",
    "    SVM_scores['accuracy_scores'].append(accuracy_score(Y_test,svm_prediction))"
   ]
  },
  {
   "cell_type": "code",
   "execution_count": 12,
   "id": "157b1522",
   "metadata": {
    "ExecuteTime": {
     "end_time": "2022-11-27T23:22:05.819427Z",
     "start_time": "2022-11-27T23:22:05.806737Z"
    }
   },
   "outputs": [
    {
     "ename": "KeyError",
     "evalue": "'recall_scores'",
     "output_type": "error",
     "traceback": [
      "\u001b[0;31m---------------------------------------------------------------------------\u001b[0m",
      "\u001b[0;31mKeyError\u001b[0m                                  Traceback (most recent call last)",
      "Cell \u001b[0;32mIn [12], line 4\u001b[0m\n\u001b[1;32m      2\u001b[0m \u001b[38;5;28;01mfrom\u001b[39;00m \u001b[38;5;21;01mnumpy\u001b[39;00m \u001b[38;5;28;01mimport\u001b[39;00m mean \n\u001b[1;32m      3\u001b[0m \u001b[38;5;66;03m#print('Overall precision_scores:',\"{: .2%}\".format(mean(SVM_scores['precision_scores'])))\u001b[39;00m\n\u001b[0;32m----> 4\u001b[0m \u001b[38;5;28mprint\u001b[39m(\u001b[38;5;124m'\u001b[39m\u001b[38;5;124mOverall recall_scores:\u001b[39m\u001b[38;5;124m'\u001b[39m,\u001b[38;5;124m\"\u001b[39m\u001b[38;5;132;01m{: .2%}\u001b[39;00m\u001b[38;5;124m\"\u001b[39m\u001b[38;5;241m.\u001b[39mformat(mean(\u001b[43mSVM_scores\u001b[49m\u001b[43m[\u001b[49m\u001b[38;5;124;43m'\u001b[39;49m\u001b[38;5;124;43mrecall_scores\u001b[39;49m\u001b[38;5;124;43m'\u001b[39;49m\u001b[43m]\u001b[49m)))\n\u001b[1;32m      5\u001b[0m \u001b[38;5;28mprint\u001b[39m(\u001b[38;5;124m'\u001b[39m\u001b[38;5;124mOverall accuracy_scores:\u001b[39m\u001b[38;5;124m'\u001b[39m,\u001b[38;5;124m\"\u001b[39m\u001b[38;5;132;01m{: .2%}\u001b[39;00m\u001b[38;5;124m\"\u001b[39m\u001b[38;5;241m.\u001b[39mformat(mean(SVM_scores[\u001b[38;5;124m'\u001b[39m\u001b[38;5;124maccuracy_scores\u001b[39m\u001b[38;5;124m'\u001b[39m])))\n",
      "\u001b[0;31mKeyError\u001b[0m: 'recall_scores'"
     ]
    }
   ],
   "source": [
    "#Mostramos resultado\n",
    "from numpy import mean \n",
    "print('Overall precision_scores:',\"{: .2%}\".format(mean(SVM_scores['precision_scores'])))\n",
    "print('Overall recall_scores:',\"{: .2%}\".format(mean(SVM_scores['recall_scores'])))\n",
    "print('Overall accuracy_scores:',\"{: .2%}\".format(mean(SVM_scores['accuracy_scores'])))"
   ]
  },
  {
   "cell_type": "markdown",
   "id": "d6ca7dfc",
   "metadata": {},
   "source": [
    "# Optuna "
   ]
  },
  {
   "cell_type": "code",
   "execution_count": 13,
   "id": "49900a23",
   "metadata": {
    "ExecuteTime": {
     "end_time": "2022-11-27T23:22:15.452412Z",
     "start_time": "2022-11-27T23:22:15.446849Z"
    }
   },
   "outputs": [],
   "source": [
    "def create_model(trial):\n",
    "    model_type = trial.suggest_categorical('model_type', ['logistic-regression', 'decision-tree', 'svm'])\n",
    "\n",
    "    if model_type == 'svm':\n",
    "        kernel = trial.suggest_categorical('kernel', ['linear', 'poly', 'rbf', 'sigmoid'])\n",
    "        regularization = trial.suggest_uniform('svm-regularization', 0.01, 10)\n",
    "        degree = trial.suggest_discrete_uniform('degree', 1, 5, 1)\n",
    "        model = SVC(kernel=kernel, C=regularization, degree=degree)\n",
    "\n",
    "    if trial.should_prune():\n",
    "            raise optuna.TrialPruned()\n",
    "\n",
    "    return model\n",
    "def objective(trial):\n",
    "    model = create_model(trial)\n",
    "    model.fit(X_train, y_train)\n",
    "    return model_performance(model)"
   ]
  },
  {
   "cell_type": "code",
   "execution_count": 18,
   "id": "b6b73690",
   "metadata": {
    "ExecuteTime": {
     "end_time": "2022-11-27T23:31:26.068242Z",
     "start_time": "2022-11-27T23:31:26.056143Z"
    }
   },
   "outputs": [
    {
     "ename": "NameError",
     "evalue": "name 'X_val' is not defined",
     "output_type": "error",
     "traceback": [
      "\u001b[0;31m---------------------------------------------------------------------------\u001b[0m",
      "\u001b[0;31mNameError\u001b[0m                                 Traceback (most recent call last)",
      "Cell \u001b[0;32mIn [18], line 1\u001b[0m\n\u001b[0;32m----> 1\u001b[0m \u001b[38;5;28;01mdef\u001b[39;00m \u001b[38;5;21mmodel_performance\u001b[39m(model, X\u001b[38;5;241m=\u001b[39m\u001b[43mX_val\u001b[49m, y\u001b[38;5;241m=\u001b[39my_val):\n\u001b[1;32m      2\u001b[0m     \u001b[38;5;124;03m\"\"\"\u001b[39;00m\n\u001b[1;32m      3\u001b[0m \u001b[38;5;124;03m    Get accuracy score on validation/test data from a trained model\u001b[39;00m\n\u001b[1;32m      4\u001b[0m \u001b[38;5;124;03m    \"\"\"\u001b[39;00m\n\u001b[1;32m      5\u001b[0m     y_pred \u001b[38;5;241m=\u001b[39m model\u001b[38;5;241m.\u001b[39mpredict(X)\n",
      "\u001b[0;31mNameError\u001b[0m: name 'X_val' is not defined"
     ]
    }
   ],
   "source": [
    "def model_performance(model, X=X_val, y=y_val):\n",
    "    \"\"\"\n",
    "    Get accuracy score on validation/test data from a trained model\n",
    "    \"\"\"\n",
    "    y_pred = model.predict(X)\n",
    "    return round(accuracy_score(y_pred, y),3)"
   ]
  },
  {
   "cell_type": "code",
   "execution_count": 16,
   "id": "c4cb185f",
   "metadata": {
    "ExecuteTime": {
     "end_time": "2022-11-27T23:30:13.904365Z",
     "start_time": "2022-11-27T23:30:12.909362Z"
    }
   },
   "outputs": [
    {
     "name": "stderr",
     "output_type": "stream",
     "text": [
      "\u001b[32m[I 2022-11-27 20:30:13,826]\u001b[0m A new study created in RDB with name: Nuevo_Estudio\u001b[0m\n"
     ]
    }
   ],
   "source": [
    "import optuna\n",
    "study = optuna.create_study(direction='maximize', study_name=\"Nuevo_Estudio\", storage='sqlite:///starter.db')"
   ]
  },
  {
   "cell_type": "code",
   "execution_count": 17,
   "id": "3f94db93",
   "metadata": {
    "ExecuteTime": {
     "end_time": "2022-11-27T23:30:55.602696Z",
     "start_time": "2022-11-27T23:30:54.984537Z"
    }
   },
   "outputs": [
    {
     "ename": "ValueError",
     "evalue": "Record does not exist.",
     "output_type": "error",
     "traceback": [
      "\u001b[0;31m---------------------------------------------------------------------------\u001b[0m",
      "\u001b[0;31mValueError\u001b[0m                                Traceback (most recent call last)",
      "Cell \u001b[0;32mIn [17], line 1\u001b[0m\n\u001b[0;32m----> 1\u001b[0m best_model \u001b[38;5;241m=\u001b[39m create_model(\u001b[43mstudy\u001b[49m\u001b[38;5;241;43m.\u001b[39;49m\u001b[43mbest_trial\u001b[49m)\n\u001b[1;32m      2\u001b[0m best_model\u001b[38;5;241m.\u001b[39mfit(X_train, y_train)\n\u001b[1;32m      3\u001b[0m \u001b[38;5;28mprint\u001b[39m(\u001b[38;5;124m\"\u001b[39m\u001b[38;5;124mPerformance: \u001b[39m\u001b[38;5;124m\"\u001b[39m, model_performance(best_model))\n",
      "File \u001b[0;32m~/.local/lib/python3.10/site-packages/optuna/study/study.py:154\u001b[0m, in \u001b[0;36mStudy.best_trial\u001b[0;34m(self)\u001b[0m\n\u001b[1;32m    148\u001b[0m \u001b[38;5;28;01mif\u001b[39;00m \u001b[38;5;28mself\u001b[39m\u001b[38;5;241m.\u001b[39m_is_multi_objective():\n\u001b[1;32m    149\u001b[0m     \u001b[38;5;28;01mraise\u001b[39;00m \u001b[38;5;167;01mRuntimeError\u001b[39;00m(\n\u001b[1;32m    150\u001b[0m         \u001b[38;5;124m\"\u001b[39m\u001b[38;5;124mA single best trial cannot be retrieved from a multi-objective study. Consider \u001b[39m\u001b[38;5;124m\"\u001b[39m\n\u001b[1;32m    151\u001b[0m         \u001b[38;5;124m\"\u001b[39m\u001b[38;5;124musing Study.best_trials to retrieve a list containing the best trials.\u001b[39m\u001b[38;5;124m\"\u001b[39m\n\u001b[1;32m    152\u001b[0m     )\n\u001b[0;32m--> 154\u001b[0m \u001b[38;5;28;01mreturn\u001b[39;00m copy\u001b[38;5;241m.\u001b[39mdeepcopy(\u001b[38;5;28;43mself\u001b[39;49m\u001b[38;5;241;43m.\u001b[39;49m\u001b[43m_storage\u001b[49m\u001b[38;5;241;43m.\u001b[39;49m\u001b[43mget_best_trial\u001b[49m\u001b[43m(\u001b[49m\u001b[38;5;28;43mself\u001b[39;49m\u001b[38;5;241;43m.\u001b[39;49m\u001b[43m_study_id\u001b[49m\u001b[43m)\u001b[49m)\n",
      "File \u001b[0;32m~/.local/lib/python3.10/site-packages/optuna/storages/_cached_storage.py:247\u001b[0m, in \u001b[0;36m_CachedStorage.get_best_trial\u001b[0;34m(self, study_id)\u001b[0m\n\u001b[1;32m    245\u001b[0m \u001b[38;5;28;01mdef\u001b[39;00m \u001b[38;5;21mget_best_trial\u001b[39m(\u001b[38;5;28mself\u001b[39m, study_id: \u001b[38;5;28mint\u001b[39m) \u001b[38;5;241m-\u001b[39m\u001b[38;5;241m>\u001b[39m FrozenTrial:\n\u001b[0;32m--> 247\u001b[0m     \u001b[38;5;28;01mreturn\u001b[39;00m \u001b[38;5;28;43mself\u001b[39;49m\u001b[38;5;241;43m.\u001b[39;49m\u001b[43m_backend\u001b[49m\u001b[38;5;241;43m.\u001b[39;49m\u001b[43mget_best_trial\u001b[49m\u001b[43m(\u001b[49m\u001b[43mstudy_id\u001b[49m\u001b[43m)\u001b[49m\n",
      "File \u001b[0;32m~/.local/lib/python3.10/site-packages/optuna/storages/_rdb/storage.py:958\u001b[0m, in \u001b[0;36mRDBStorage.get_best_trial\u001b[0;34m(self, study_id)\u001b[0m\n\u001b[1;32m    955\u001b[0m direction \u001b[38;5;241m=\u001b[39m _directions[\u001b[38;5;241m0\u001b[39m]\n\u001b[1;32m    957\u001b[0m \u001b[38;5;28;01mif\u001b[39;00m direction \u001b[38;5;241m==\u001b[39m StudyDirection\u001b[38;5;241m.\u001b[39mMAXIMIZE:\n\u001b[0;32m--> 958\u001b[0m     trial \u001b[38;5;241m=\u001b[39m \u001b[43mmodels\u001b[49m\u001b[38;5;241;43m.\u001b[39;49m\u001b[43mTrialModel\u001b[49m\u001b[38;5;241;43m.\u001b[39;49m\u001b[43mfind_max_value_trial\u001b[49m\u001b[43m(\u001b[49m\u001b[43mstudy_id\u001b[49m\u001b[43m,\u001b[49m\u001b[43m \u001b[49m\u001b[38;5;241;43m0\u001b[39;49m\u001b[43m,\u001b[49m\u001b[43m \u001b[49m\u001b[43msession\u001b[49m\u001b[43m)\u001b[49m\n\u001b[1;32m    959\u001b[0m \u001b[38;5;28;01melse\u001b[39;00m:\n\u001b[1;32m    960\u001b[0m     trial \u001b[38;5;241m=\u001b[39m models\u001b[38;5;241m.\u001b[39mTrialModel\u001b[38;5;241m.\u001b[39mfind_min_value_trial(study_id, \u001b[38;5;241m0\u001b[39m, session)\n",
      "File \u001b[0;32m~/.local/lib/python3.10/site-packages/optuna/storages/_rdb/models.py:212\u001b[0m, in \u001b[0;36mTrialModel.find_max_value_trial\u001b[0;34m(cls, study_id, objective, session)\u001b[0m\n\u001b[1;32m    201\u001b[0m trial \u001b[38;5;241m=\u001b[39m (\n\u001b[1;32m    202\u001b[0m     session\u001b[38;5;241m.\u001b[39mquery(\u001b[38;5;28mcls\u001b[39m)\n\u001b[1;32m    203\u001b[0m     \u001b[38;5;241m.\u001b[39mfilter(\u001b[38;5;28mcls\u001b[39m\u001b[38;5;241m.\u001b[39mstudy_id \u001b[38;5;241m==\u001b[39m study_id)\n\u001b[0;32m   (...)\u001b[0m\n\u001b[1;32m    209\u001b[0m     \u001b[38;5;241m.\u001b[39mone_or_none()\n\u001b[1;32m    210\u001b[0m )\n\u001b[1;32m    211\u001b[0m \u001b[38;5;28;01mif\u001b[39;00m trial \u001b[38;5;129;01mis\u001b[39;00m \u001b[38;5;28;01mNone\u001b[39;00m:\n\u001b[0;32m--> 212\u001b[0m     \u001b[38;5;28;01mraise\u001b[39;00m \u001b[38;5;167;01mValueError\u001b[39;00m(NOT_FOUND_MSG)\n\u001b[1;32m    213\u001b[0m \u001b[38;5;28;01mreturn\u001b[39;00m trial\n",
      "\u001b[0;31mValueError\u001b[0m: Record does not exist."
     ]
    }
   ],
   "source": [
    "best_model = create_model(study.best_trial)\n",
    "best_model.fit(X_train, y_train)\n",
    "print(\"Performance: \", model_performance(best_model))"
   ]
  },
  {
   "cell_type": "code",
   "execution_count": null,
   "id": "7eb9632d",
   "metadata": {},
   "outputs": [],
   "source": []
  }
 ],
 "metadata": {
  "canvas": {
   "colorPalette": [
    "inherit",
    "inherit",
    "inherit",
    "inherit",
    "inherit",
    "inherit",
    "inherit",
    "inherit",
    "inherit",
    "inherit"
   ],
   "parameters": []
  },
  "colab": {
   "collapsed_sections": [
    "7e794e28",
    "B8hgGU1Z6rcX",
    "8V7Wk_USq1up",
    "b12b1976",
    "b12bf9a5",
    "03edbf3e",
    "2dc3ea57"
   ],
   "provenance": []
  },
  "gist": {
   "data": {
    "description": "jupyter/Coderhouse_Prediccion_de_Diabetes_Tipo_2_v0_4_2021.ipynb",
    "public": true
   },
   "id": ""
  },
  "kernelspec": {
   "display_name": "Python 3 (ipykernel)",
   "language": "python",
   "name": "python3"
  },
  "language_info": {
   "codemirror_mode": {
    "name": "ipython",
    "version": 3
   },
   "file_extension": ".py",
   "mimetype": "text/x-python",
   "name": "python",
   "nbconvert_exporter": "python",
   "pygments_lexer": "ipython3",
   "version": "3.10.6"
  },
  "vscode": {
   "interpreter": {
    "hash": "9034cd6c99133895e88a3ca6be38275486f59e247b89c16c20811d1a16f4b12f"
   }
  }
 },
 "nbformat": 4,
 "nbformat_minor": 5
}
