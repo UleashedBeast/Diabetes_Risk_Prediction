{
 "cells": [
  {
   "cell_type": "markdown",
   "id": "7e794e28",
   "metadata": {
    "canvas": {
     "comments": [],
     "componentType": "CodeCell",
     "copiedOriginId": null,
     "diskcache": false,
     "headerColor": "none",
     "id": "c5b67101-0f32-4bc6-8ab5-665dcc558eca",
     "isComponent": false,
     "name": "",
     "parents": []
    },
    "id": "7e794e28"
   },
   "source": [
    "# Decision Tree Classifier\n",
    " <a class=\"anchor\" id=\"1.5\"></a>"
   ]
  },
  {
   "cell_type": "markdown",
   "id": "5FEoXLpJ3jix",
   "metadata": {
    "canvas": {
     "comments": [],
     "componentType": "CodeCell",
     "copiedOriginId": null,
     "diskcache": false,
     "headerColor": "none",
     "id": "f9ae888f-6faa-423a-9b2c-51449309bfff",
     "isComponent": false,
     "name": "",
     "parents": []
    },
    "id": "5FEoXLpJ3jix"
   },
   "source": [
    "# Importamos Librerias"
   ]
  },
  {
   "cell_type": "code",
   "execution_count": null,
   "id": "63bda8c4",
   "metadata": {
    "ExecuteTime": {
     "start_time": "2022-11-27T22:15:28.191Z"
    },
    "canvas": {
     "comments": [],
     "componentType": "CodeCell",
     "copiedOriginId": null,
     "diskcache": false,
     "headerColor": "none",
     "id": "d7c832ec-1335-4f94-84b9-daed569551c7",
     "isComponent": false,
     "name": "",
     "parents": []
    },
    "id": "63bda8c4"
   },
   "outputs": [],
   "source": [
    "#importamos el dataset\n",
    "import pandas as pd\n",
    "URL = \"../data/processed/BRFSS2021T.csv\"\n",
    "df_diabetes = pd.read_csv(URL)\n",
    "df_diabetes"
   ]
  },
  {
   "cell_type": "markdown",
   "id": "03edbf3e",
   "metadata": {
    "canvas": {
     "comments": [],
     "componentType": "CodeCell",
     "copiedOriginId": null,
     "diskcache": false,
     "headerColor": "none",
     "id": "b6bc3fa5-dd85-4c47-b3a4-6cf4fe5d5cb0",
     "isComponent": false,
     "name": "",
     "parents": []
    },
    "id": "03edbf3e"
   },
   "source": [
    "# Model + Stratified KFold"
   ]
  },
  {
   "cell_type": "code",
   "execution_count": null,
   "id": "92edb470",
   "metadata": {
    "ExecuteTime": {
     "start_time": "2022-11-27T22:15:29.197Z"
    }
   },
   "outputs": [],
   "source": [
    "# Define X and Y\n",
    "X = df_diabetes.iloc[:,:-1].values\n",
    "y = df_diabetes.iloc[:, -1].values.reshape(-1,1).ravel()"
   ]
  },
  {
   "cell_type": "code",
   "execution_count": null,
   "id": "33628e57",
   "metadata": {
    "ExecuteTime": {
     "start_time": "2022-11-27T22:15:29.681Z"
    }
   },
   "outputs": [],
   "source": [
    "#Importing metrics\n",
    "import numpy as np\n",
    "from sklearn.metrics import accuracy_score, precision_score, recall_score"
   ]
  },
  {
   "cell_type": "code",
   "execution_count": null,
   "id": "87e194eb",
   "metadata": {
    "ExecuteTime": {
     "start_time": "2022-11-27T22:15:30.106Z"
    }
   },
   "outputs": [],
   "source": [
    "# Importing Kfold\n",
    "from sklearn.model_selection import StratifiedKFold"
   ]
  },
  {
   "cell_type": "code",
   "execution_count": null,
   "id": "2e854f42",
   "metadata": {
    "ExecuteTime": {
     "start_time": "2022-11-27T22:15:30.599Z"
    }
   },
   "outputs": [],
   "source": [
    "# Creating dictionary for the metrics\n",
    "SVM_scores  = {'accuracy':[],'precision':[],'recall':[]}"
   ]
  },
  {
   "cell_type": "code",
   "execution_count": null,
   "id": "6bb858e5",
   "metadata": {
    "ExecuteTime": {
     "start_time": "2022-11-27T22:15:31.102Z"
    }
   },
   "outputs": [],
   "source": [
    "# setting the number of splits\n",
    "from sklearn.svm import SVC\n",
    "skf = StratifiedKFold(n_splits=10, random_state = None)\n",
    "skf.get_n_splits(X, y)\n",
    "svm = SVC()"
   ]
  },
  {
   "cell_type": "code",
   "execution_count": null,
   "id": "0e50cbc7",
   "metadata": {
    "ExecuteTime": {
     "start_time": "2022-11-27T22:15:32.068Z"
    }
   },
   "outputs": [],
   "source": [
    "# dividiendo en train y test\n",
    "from sklearn.svm import SVC\n",
    "for train_index, test_index in skf.split(X, y):\n",
    "    X_train, X_test = X[train_index], X[test_index]\n",
    "    y_train, y_test = y[train_index], y[test_index]\n",
    "    # Iniciating and saving the metrics\n",
    "    ModelSVM=svm.fit(X_train, y_train)\n",
    "    svm_prediction = svm.predict(X_test)\n",
    "    SVM_scores['precision_scores'].append(precision_score(Y_test,svm_prediction))\n",
    "    SVM_scores['recall_scores'].append(recall_score(Y_test,svm_prediction))\n",
    "    SVM_scores['accuracy_scores'].append(accuracy_score(Y_test,svm_prediction))"
   ]
  },
  {
   "cell_type": "code",
   "execution_count": null,
   "id": "157b1522",
   "metadata": {
    "ExecuteTime": {
     "end_time": "2022-11-27T22:11:32.196040Z",
     "start_time": "2022-11-27T22:11:32.196028Z"
    }
   },
   "outputs": [],
   "source": [
    "#Mostramos resultado\n",
    "from numpy import mean \n",
    "print('Overall precision_scores:',\"{: .2%}\".format(mean(random_forest_scores['precision_scores'])))\n",
    "print('Overall recall_scores:',\"{: .2%}\".format(mean(random_forest_scores['recall_scores'])))\n",
    "print('Overall accuracy_scores:',\"{: .2%}\".format(mean(random_forest_scores['accuracy_scores'])))"
   ]
  },
  {
   "cell_type": "code",
   "execution_count": null,
   "id": "49900a23",
   "metadata": {},
   "outputs": [],
   "source": [
    "def create_model(trial):\n",
    "    model_type = trial.suggest_categorical('model_type', ['logistic-regression', 'decision-tree', 'svm'])\n",
    "\n",
    "    if model_type == 'svm':\n",
    "        kernel = trial.suggest_categorical('kernel', ['linear', 'poly', 'rbf', 'sigmoid'])\n",
    "        regularization = trial.suggest_uniform('svm-regularization', 0.01, 10)\n",
    "        degree = trial.suggest_discrete_uniform('degree', 1, 5, 1)\n",
    "        model = SVC(kernel=kernel, C=regularization, degree=degree)\n",
    "\n",
    "    if trial.should_prune():\n",
    "            raise optuna.TrialPruned()\n",
    "\n",
    "    return model\n",
    "def objective(trial):\n",
    "    model = create_model(trial)\n",
    "    model.fit(X_train, y_train)\n",
    "    return model_performance(model)"
   ]
  }
 ],
 "metadata": {
  "canvas": {
   "colorPalette": [
    "inherit",
    "inherit",
    "inherit",
    "inherit",
    "inherit",
    "inherit",
    "inherit",
    "inherit",
    "inherit",
    "inherit"
   ],
   "parameters": []
  },
  "colab": {
   "collapsed_sections": [
    "7e794e28",
    "B8hgGU1Z6rcX",
    "8V7Wk_USq1up",
    "b12b1976",
    "b12bf9a5",
    "03edbf3e",
    "2dc3ea57"
   ],
   "provenance": []
  },
  "gist": {
   "data": {
    "description": "jupyter/Coderhouse_Prediccion_de_Diabetes_Tipo_2_v0_4_2021.ipynb",
    "public": true
   },
   "id": ""
  },
  "kernelspec": {
   "display_name": "Python 3 (ipykernel)",
   "language": "python",
   "name": "python3"
  },
  "language_info": {
   "codemirror_mode": {
    "name": "ipython",
    "version": 3
   },
   "file_extension": ".py",
   "mimetype": "text/x-python",
   "name": "python",
   "nbconvert_exporter": "python",
   "pygments_lexer": "ipython3",
   "version": "3.10.6"
  },
  "vscode": {
   "interpreter": {
    "hash": "9034cd6c99133895e88a3ca6be38275486f59e247b89c16c20811d1a16f4b12f"
   }
  }
 },
 "nbformat": 4,
 "nbformat_minor": 5
}
