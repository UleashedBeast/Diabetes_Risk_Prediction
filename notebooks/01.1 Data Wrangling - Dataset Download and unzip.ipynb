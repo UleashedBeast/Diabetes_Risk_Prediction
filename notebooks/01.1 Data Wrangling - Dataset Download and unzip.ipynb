{
 "cells": [
  {
   "cell_type": "code",
   "execution_count": null,
   "id": "d654ff54",
   "metadata": {},
   "outputs": [],
   "source": [
    "import wget\n",
    "URL = \"https://www.cdc.gov/brfss/annual_data/2021/files/LLCP2021XPT.zip\"\n",
    "response = wget.download(URL, \"LLCP2021XPT.zip\")"
   ]
  },
  {
   "cell_type": "code",
   "execution_count": null,
   "id": "28fe01ea",
   "metadata": {},
   "outputs": [],
   "source": [
    "# importing required modules\n",
    "from zipfile import ZipFile\n",
    "  \n",
    "# specifying the zip file name\n",
    "file_name = response\n",
    "  \n",
    "# opening the zip file in READ mode\n",
    "with ZipFile(file_name, 'r') as zip:\n",
    "    # printing all the contents of the zip file\n",
    "    zip.printdir()\n",
    "  \n",
    "    # extracting all the files\n",
    "    print('Extracting all the files now...')\n",
    "    zip.extractall()\n",
    "    print('Done!')"
   ]
  }
 ],
 "metadata": {
  "kernelspec": {
   "display_name": "Python 3 (ipykernel)",
   "language": "python",
   "name": "python3"
  },
  "language_info": {
   "codemirror_mode": {
    "name": "ipython",
    "version": 3
   },
   "file_extension": ".py",
   "mimetype": "text/x-python",
   "name": "python",
   "nbconvert_exporter": "python",
   "pygments_lexer": "ipython3",
   "version": "3.10.6"
  }
 },
 "nbformat": 4,
 "nbformat_minor": 5
}
