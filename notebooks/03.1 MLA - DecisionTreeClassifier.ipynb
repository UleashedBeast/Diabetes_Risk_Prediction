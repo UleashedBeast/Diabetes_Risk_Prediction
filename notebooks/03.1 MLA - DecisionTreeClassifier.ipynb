{
 "cells": [
  {
   "cell_type": "markdown",
   "id": "7e794e28",
   "metadata": {
    "canvas": {
     "comments": [],
     "componentType": "CodeCell",
     "copiedOriginId": null,
     "diskcache": false,
     "headerColor": "none",
     "id": "c5b67101-0f32-4bc6-8ab5-665dcc558eca",
     "isComponent": false,
     "name": "",
     "parents": []
    },
    "id": "7e794e28"
   },
   "source": [
    "# Decision Tree Classifier\n",
    " <a class=\"anchor\" id=\"1.5\"></a>"
   ]
  },
  {
   "cell_type": "markdown",
   "id": "5FEoXLpJ3jix",
   "metadata": {
    "canvas": {
     "comments": [],
     "componentType": "CodeCell",
     "copiedOriginId": null,
     "diskcache": false,
     "headerColor": "none",
     "id": "f9ae888f-6faa-423a-9b2c-51449309bfff",
     "isComponent": false,
     "name": "",
     "parents": []
    },
    "id": "5FEoXLpJ3jix"
   },
   "source": [
    "# Importamos Librerias"
   ]
  },
  {
   "cell_type": "code",
   "execution_count": 2,
   "id": "63bda8c4",
   "metadata": {
    "ExecuteTime": {
     "end_time": "2022-11-19T14:00:36.257492Z",
     "start_time": "2022-11-19T14:00:29.877250Z"
    },
    "canvas": {
     "comments": [],
     "componentType": "CodeCell",
     "copiedOriginId": null,
     "diskcache": false,
     "headerColor": "none",
     "id": "d7c832ec-1335-4f94-84b9-daed569551c7",
     "isComponent": false,
     "name": "",
     "parents": []
    },
    "id": "63bda8c4"
   },
   "outputs": [
    {
     "data": {
      "text/html": [
       "<div>\n",
       "<style scoped>\n",
       "    .dataframe tbody tr th:only-of-type {\n",
       "        vertical-align: middle;\n",
       "    }\n",
       "\n",
       "    .dataframe tbody tr th {\n",
       "        vertical-align: top;\n",
       "    }\n",
       "\n",
       "    .dataframe thead th {\n",
       "        text-align: right;\n",
       "    }\n",
       "</style>\n",
       "<table border=\"1\" class=\"dataframe\">\n",
       "  <thead>\n",
       "    <tr style=\"text-align: right;\">\n",
       "      <th></th>\n",
       "      <th>Unnamed: 0</th>\n",
       "      <th>sex</th>\n",
       "      <th>age</th>\n",
       "      <th>race</th>\n",
       "      <th>HTA</th>\n",
       "      <th>fruta_verdura</th>\n",
       "      <th>marital_status</th>\n",
       "      <th>metropolitan_status</th>\n",
       "      <th>height</th>\n",
       "      <th>weight</th>\n",
       "      <th>...</th>\n",
       "      <th>smoker</th>\n",
       "      <th>general_health</th>\n",
       "      <th>coronary_heart_disease</th>\n",
       "      <th>mental_health_past_30_days</th>\n",
       "      <th>phys_health_past_30_days</th>\n",
       "      <th>kidney_disease</th>\n",
       "      <th>depression</th>\n",
       "      <th>blind</th>\n",
       "      <th>cognitive_diff</th>\n",
       "      <th>diagnosed_diabetes</th>\n",
       "    </tr>\n",
       "  </thead>\n",
       "  <tbody>\n",
       "    <tr>\n",
       "      <th>0</th>\n",
       "      <td>0</td>\n",
       "      <td>2</td>\n",
       "      <td>8</td>\n",
       "      <td>-1.0</td>\n",
       "      <td>3.0</td>\n",
       "      <td>101.0</td>\n",
       "      <td>1.0</td>\n",
       "      <td>1.0</td>\n",
       "      <td>1.4986</td>\n",
       "      <td>32.658624</td>\n",
       "      <td>...</td>\n",
       "      <td>3</td>\n",
       "      <td>5.0</td>\n",
       "      <td>2.0</td>\n",
       "      <td>10.0</td>\n",
       "      <td>20.0</td>\n",
       "      <td>2.0</td>\n",
       "      <td>2.0</td>\n",
       "      <td>2.0</td>\n",
       "      <td>2.0</td>\n",
       "      <td>2.0</td>\n",
       "    </tr>\n",
       "    <tr>\n",
       "      <th>1</th>\n",
       "      <td>1</td>\n",
       "      <td>2</td>\n",
       "      <td>7</td>\n",
       "      <td>-1.0</td>\n",
       "      <td>1.0</td>\n",
       "      <td>101.0</td>\n",
       "      <td>-1.0</td>\n",
       "      <td>1.0</td>\n",
       "      <td>1.6764</td>\n",
       "      <td>-1.000000</td>\n",
       "      <td>...</td>\n",
       "      <td>4</td>\n",
       "      <td>3.0</td>\n",
       "      <td>1.0</td>\n",
       "      <td>88.0</td>\n",
       "      <td>88.0</td>\n",
       "      <td>1.0</td>\n",
       "      <td>2.0</td>\n",
       "      <td>1.0</td>\n",
       "      <td>1.0</td>\n",
       "      <td>1.0</td>\n",
       "    </tr>\n",
       "    <tr>\n",
       "      <th>2</th>\n",
       "      <td>2</td>\n",
       "      <td>2</td>\n",
       "      <td>8</td>\n",
       "      <td>-1.0</td>\n",
       "      <td>1.0</td>\n",
       "      <td>101.0</td>\n",
       "      <td>3.0</td>\n",
       "      <td>1.0</td>\n",
       "      <td>1.6510</td>\n",
       "      <td>77.110640</td>\n",
       "      <td>...</td>\n",
       "      <td>4</td>\n",
       "      <td>2.0</td>\n",
       "      <td>1.0</td>\n",
       "      <td>88.0</td>\n",
       "      <td>88.0</td>\n",
       "      <td>2.0</td>\n",
       "      <td>2.0</td>\n",
       "      <td>2.0</td>\n",
       "      <td>2.0</td>\n",
       "      <td>1.0</td>\n",
       "    </tr>\n",
       "    <tr>\n",
       "      <th>3</th>\n",
       "      <td>3</td>\n",
       "      <td>2</td>\n",
       "      <td>6</td>\n",
       "      <td>-1.0</td>\n",
       "      <td>1.0</td>\n",
       "      <td>203.0</td>\n",
       "      <td>1.0</td>\n",
       "      <td>1.0</td>\n",
       "      <td>1.6256</td>\n",
       "      <td>88.450440</td>\n",
       "      <td>...</td>\n",
       "      <td>4</td>\n",
       "      <td>2.0</td>\n",
       "      <td>2.0</td>\n",
       "      <td>10.0</td>\n",
       "      <td>88.0</td>\n",
       "      <td>2.0</td>\n",
       "      <td>2.0</td>\n",
       "      <td>2.0</td>\n",
       "      <td>2.0</td>\n",
       "      <td>1.0</td>\n",
       "    </tr>\n",
       "    <tr>\n",
       "      <th>4</th>\n",
       "      <td>4</td>\n",
       "      <td>1</td>\n",
       "      <td>9</td>\n",
       "      <td>-1.0</td>\n",
       "      <td>-1.0</td>\n",
       "      <td>101.0</td>\n",
       "      <td>1.0</td>\n",
       "      <td>2.0</td>\n",
       "      <td>1.8034</td>\n",
       "      <td>93.439952</td>\n",
       "      <td>...</td>\n",
       "      <td>4</td>\n",
       "      <td>5.0</td>\n",
       "      <td>-1.0</td>\n",
       "      <td>88.0</td>\n",
       "      <td>30.0</td>\n",
       "      <td>2.0</td>\n",
       "      <td>2.0</td>\n",
       "      <td>2.0</td>\n",
       "      <td>2.0</td>\n",
       "      <td>1.0</td>\n",
       "    </tr>\n",
       "    <tr>\n",
       "      <th>...</th>\n",
       "      <td>...</td>\n",
       "      <td>...</td>\n",
       "      <td>...</td>\n",
       "      <td>...</td>\n",
       "      <td>...</td>\n",
       "      <td>...</td>\n",
       "      <td>...</td>\n",
       "      <td>...</td>\n",
       "      <td>...</td>\n",
       "      <td>...</td>\n",
       "      <td>...</td>\n",
       "      <td>...</td>\n",
       "      <td>...</td>\n",
       "      <td>...</td>\n",
       "      <td>...</td>\n",
       "      <td>...</td>\n",
       "      <td>...</td>\n",
       "      <td>...</td>\n",
       "      <td>...</td>\n",
       "      <td>...</td>\n",
       "      <td>...</td>\n",
       "    </tr>\n",
       "    <tr>\n",
       "      <th>390138</th>\n",
       "      <td>438688</td>\n",
       "      <td>2</td>\n",
       "      <td>0</td>\n",
       "      <td>-1.0</td>\n",
       "      <td>1.0</td>\n",
       "      <td>210.0</td>\n",
       "      <td>5.0</td>\n",
       "      <td>-1.0</td>\n",
       "      <td>1.5748</td>\n",
       "      <td>61.234920</td>\n",
       "      <td>...</td>\n",
       "      <td>3</td>\n",
       "      <td>2.0</td>\n",
       "      <td>2.0</td>\n",
       "      <td>20.0</td>\n",
       "      <td>88.0</td>\n",
       "      <td>2.0</td>\n",
       "      <td>1.0</td>\n",
       "      <td>2.0</td>\n",
       "      <td>2.0</td>\n",
       "      <td>1.0</td>\n",
       "    </tr>\n",
       "    <tr>\n",
       "      <th>390139</th>\n",
       "      <td>438689</td>\n",
       "      <td>1</td>\n",
       "      <td>10</td>\n",
       "      <td>-1.0</td>\n",
       "      <td>1.0</td>\n",
       "      <td>101.0</td>\n",
       "      <td>3.0</td>\n",
       "      <td>-1.0</td>\n",
       "      <td>1.5748</td>\n",
       "      <td>-1.000000</td>\n",
       "      <td>...</td>\n",
       "      <td>4</td>\n",
       "      <td>3.0</td>\n",
       "      <td>2.0</td>\n",
       "      <td>88.0</td>\n",
       "      <td>88.0</td>\n",
       "      <td>2.0</td>\n",
       "      <td>2.0</td>\n",
       "      <td>1.0</td>\n",
       "      <td>1.0</td>\n",
       "      <td>1.0</td>\n",
       "    </tr>\n",
       "    <tr>\n",
       "      <th>390140</th>\n",
       "      <td>438690</td>\n",
       "      <td>1</td>\n",
       "      <td>4</td>\n",
       "      <td>-1.0</td>\n",
       "      <td>3.0</td>\n",
       "      <td>102.0</td>\n",
       "      <td>1.0</td>\n",
       "      <td>-1.0</td>\n",
       "      <td>1.8034</td>\n",
       "      <td>99.790240</td>\n",
       "      <td>...</td>\n",
       "      <td>4</td>\n",
       "      <td>2.0</td>\n",
       "      <td>2.0</td>\n",
       "      <td>88.0</td>\n",
       "      <td>88.0</td>\n",
       "      <td>2.0</td>\n",
       "      <td>2.0</td>\n",
       "      <td>2.0</td>\n",
       "      <td>2.0</td>\n",
       "      <td>2.0</td>\n",
       "    </tr>\n",
       "    <tr>\n",
       "      <th>390141</th>\n",
       "      <td>438691</td>\n",
       "      <td>1</td>\n",
       "      <td>7</td>\n",
       "      <td>-1.0</td>\n",
       "      <td>1.0</td>\n",
       "      <td>101.0</td>\n",
       "      <td>2.0</td>\n",
       "      <td>-1.0</td>\n",
       "      <td>1.8288</td>\n",
       "      <td>79.378600</td>\n",
       "      <td>...</td>\n",
       "      <td>4</td>\n",
       "      <td>2.0</td>\n",
       "      <td>2.0</td>\n",
       "      <td>88.0</td>\n",
       "      <td>88.0</td>\n",
       "      <td>2.0</td>\n",
       "      <td>2.0</td>\n",
       "      <td>2.0</td>\n",
       "      <td>2.0</td>\n",
       "      <td>2.0</td>\n",
       "    </tr>\n",
       "    <tr>\n",
       "      <th>390142</th>\n",
       "      <td>438692</td>\n",
       "      <td>2</td>\n",
       "      <td>3</td>\n",
       "      <td>-1.0</td>\n",
       "      <td>3.0</td>\n",
       "      <td>305.0</td>\n",
       "      <td>2.0</td>\n",
       "      <td>-1.0</td>\n",
       "      <td>1.6002</td>\n",
       "      <td>81.192968</td>\n",
       "      <td>...</td>\n",
       "      <td>4</td>\n",
       "      <td>1.0</td>\n",
       "      <td>2.0</td>\n",
       "      <td>2.0</td>\n",
       "      <td>2.0</td>\n",
       "      <td>2.0</td>\n",
       "      <td>2.0</td>\n",
       "      <td>2.0</td>\n",
       "      <td>2.0</td>\n",
       "      <td>2.0</td>\n",
       "    </tr>\n",
       "  </tbody>\n",
       "</table>\n",
       "<p>390143 rows × 27 columns</p>\n",
       "</div>"
      ],
      "text/plain": [
       "        Unnamed: 0  sex  age  race  HTA  fruta_verdura  marital_status  \\\n",
       "0                0    2    8  -1.0  3.0          101.0             1.0   \n",
       "1                1    2    7  -1.0  1.0          101.0            -1.0   \n",
       "2                2    2    8  -1.0  1.0          101.0             3.0   \n",
       "3                3    2    6  -1.0  1.0          203.0             1.0   \n",
       "4                4    1    9  -1.0 -1.0          101.0             1.0   \n",
       "...            ...  ...  ...   ...  ...            ...             ...   \n",
       "390138      438688    2    0  -1.0  1.0          210.0             5.0   \n",
       "390139      438689    1   10  -1.0  1.0          101.0             3.0   \n",
       "390140      438690    1    4  -1.0  3.0          102.0             1.0   \n",
       "390141      438691    1    7  -1.0  1.0          101.0             2.0   \n",
       "390142      438692    2    3  -1.0  3.0          305.0             2.0   \n",
       "\n",
       "        metropolitan_status  height     weight  ...  smoker  general_health  \\\n",
       "0                       1.0  1.4986  32.658624  ...       3             5.0   \n",
       "1                       1.0  1.6764  -1.000000  ...       4             3.0   \n",
       "2                       1.0  1.6510  77.110640  ...       4             2.0   \n",
       "3                       1.0  1.6256  88.450440  ...       4             2.0   \n",
       "4                       2.0  1.8034  93.439952  ...       4             5.0   \n",
       "...                     ...     ...        ...  ...     ...             ...   \n",
       "390138                 -1.0  1.5748  61.234920  ...       3             2.0   \n",
       "390139                 -1.0  1.5748  -1.000000  ...       4             3.0   \n",
       "390140                 -1.0  1.8034  99.790240  ...       4             2.0   \n",
       "390141                 -1.0  1.8288  79.378600  ...       4             2.0   \n",
       "390142                 -1.0  1.6002  81.192968  ...       4             1.0   \n",
       "\n",
       "        coronary_heart_disease  mental_health_past_30_days  \\\n",
       "0                          2.0                        10.0   \n",
       "1                          1.0                        88.0   \n",
       "2                          1.0                        88.0   \n",
       "3                          2.0                        10.0   \n",
       "4                         -1.0                        88.0   \n",
       "...                        ...                         ...   \n",
       "390138                     2.0                        20.0   \n",
       "390139                     2.0                        88.0   \n",
       "390140                     2.0                        88.0   \n",
       "390141                     2.0                        88.0   \n",
       "390142                     2.0                         2.0   \n",
       "\n",
       "        phys_health_past_30_days  kidney_disease  depression  blind  \\\n",
       "0                           20.0             2.0         2.0    2.0   \n",
       "1                           88.0             1.0         2.0    1.0   \n",
       "2                           88.0             2.0         2.0    2.0   \n",
       "3                           88.0             2.0         2.0    2.0   \n",
       "4                           30.0             2.0         2.0    2.0   \n",
       "...                          ...             ...         ...    ...   \n",
       "390138                      88.0             2.0         1.0    2.0   \n",
       "390139                      88.0             2.0         2.0    1.0   \n",
       "390140                      88.0             2.0         2.0    2.0   \n",
       "390141                      88.0             2.0         2.0    2.0   \n",
       "390142                       2.0             2.0         2.0    2.0   \n",
       "\n",
       "        cognitive_diff  diagnosed_diabetes  \n",
       "0                  2.0                 2.0  \n",
       "1                  1.0                 1.0  \n",
       "2                  2.0                 1.0  \n",
       "3                  2.0                 1.0  \n",
       "4                  2.0                 1.0  \n",
       "...                ...                 ...  \n",
       "390138             2.0                 1.0  \n",
       "390139             1.0                 1.0  \n",
       "390140             2.0                 2.0  \n",
       "390141             2.0                 2.0  \n",
       "390142             2.0                 2.0  \n",
       "\n",
       "[390143 rows x 27 columns]"
      ]
     },
     "execution_count": 2,
     "metadata": {},
     "output_type": "execute_result"
    }
   ],
   "source": [
    "#importamos el dataset\n",
    "import pandas as pd\n",
    "URL = \"https://media.githubusercontent.com/media/UnleashedBest/Diabetes_Risk_Prediction/master/data/processed/BRFSS2021T.csv\"\n",
    "df_diabetes = pd.read_csv(URL)\n",
    "df_diabetes"
   ]
  },
  {
   "cell_type": "markdown",
   "id": "03edbf3e",
   "metadata": {
    "canvas": {
     "comments": [],
     "componentType": "CodeCell",
     "copiedOriginId": null,
     "diskcache": false,
     "headerColor": "none",
     "id": "b6bc3fa5-dd85-4c47-b3a4-6cf4fe5d5cb0",
     "isComponent": false,
     "name": "",
     "parents": []
    },
    "id": "03edbf3e"
   },
   "source": [
    "# Model + Stratified Kfold"
   ]
  },
  {
   "cell_type": "code",
   "execution_count": 3,
   "id": "42c252ae",
   "metadata": {},
   "outputs": [
    {
     "name": "stdout",
     "output_type": "stream",
     "text": [
      "TRAIN: [ 38785  38786  38787 ... 390140 390141 390142] TEST: [    0     1     2 ... 40281 40282 40283]\n",
      "TRAIN: [     0      1      2 ... 390140 390141 390142] TEST: [38785 38786 38787 ... 78986 78991 78993]\n",
      "TRAIN: [     0      1      2 ... 390140 390141 390142] TEST: [ 77817  77820  77821 ... 117113 117114 117115]\n",
      "TRAIN: [     0      1      2 ... 390140 390141 390142] TEST: [116638 116645 116651 ... 158063 158067 158077]\n",
      "TRAIN: [     0      1      2 ... 390140 390141 390142] TEST: [155665 155666 155667 ... 197417 197433 197440]\n",
      "TRAIN: [     0      1      2 ... 390140 390141 390142] TEST: [194614 194615 194616 ... 236312 236319 236320]\n",
      "TRAIN: [     0      1      2 ... 390140 390141 390142] TEST: [233525 233526 233528 ... 275147 275148 275149]\n",
      "TRAIN: [     0      1      2 ... 390140 390141 390142] TEST: [272548 272549 272550 ... 313237 313246 313249]\n",
      "TRAIN: [     0      1      2 ... 390140 390141 390142] TEST: [311843 311845 311847 ... 351578 351579 351581]\n",
      "TRAIN: [     0      1      2 ... 351578 351579 351581] TEST: [351062 351063 351064 ... 390140 390141 390142]\n",
      "Random Forest\n",
      "accuracy: 0.7393109157127131\n",
      "precision: 0.29637572093775794\n",
      "recall: 0.32543501874356895\n"
     ]
    }
   ],
   "source": [
    "# Define X and Y\n",
    "X = df_diabetes.iloc[:,:-1].values\n",
    "y = df_diabetes.iloc[:, -1].values\n",
    "\n",
    "# Importing random forest\n",
    "\n",
    "from sklearn.tree import DecisionTreeClassifier\n",
    "decision_tree = DecisionTreeClassifier()\n",
    "\n",
    "# Importing metrics\n",
    "\n",
    "import numpy as np\n",
    "from sklearn.metrics import accuracy_score, precision_score, recall_score\n",
    "\n",
    "\n",
    "# Importing Kfold\n",
    "from sklearn.model_selection import StratifiedKFold\n",
    "\n",
    "# Creating dictionary for the metrics\n",
    "decision_tree_accuracy = []\n",
    "decision_tree_precision = []\n",
    "decision_tree_recall = []\n",
    "\n",
    "# random_forest_scores  = {'accuracy':[],'precision':[],'recall':[]}\n",
    "\n",
    "# setting the number of splits\n",
    "skf = StratifiedKFold(n_splits=10, random_state = None)\n",
    "skf.get_n_splits(X, y)\n",
    "\n",
    "# dividiendo en train y test\n",
    "\n",
    "for train_index, test_index in skf.split(X, y):\n",
    "    print(\"TRAIN:\", train_index, \"TEST:\", test_index)\n",
    "    X_train, X_test = X[train_index], X[test_index]\n",
    "    y_train, y_test = y[train_index], y[test_index]\n",
    "# Iniciating Random Forest and saving the metrics\n",
    "    decision_tree = DecisionTreeClassifier(criterion = 'entropy', random_state = 0)\n",
    "    decision_tree.fit(X_train, y_train)\n",
    "    decision_tree_prediction = decision_tree.predict(X_test)\n",
    "# Adding accuracy metrics into the list\n",
    "    decision_tree_accuracy.append(accuracy_score(decision_tree_prediction, y_test))\n",
    "    decision_tree_precision.append(precision_score(y_test,decision_tree_prediction))\n",
    "    decision_tree_recall.append(recall_score(y_test,decision_tree_prediction))\n",
    "\n",
    "# Show results\n",
    "\n",
    "print(\"Random Forest\")\n",
    "print(\"accuracy:\", np.array(decision_tree_accuracy).mean())\n",
    "print(\"precision:\", np.array(decision_tree_precision).mean())\n",
    "print(\"recall:\", np.array(decision_tree_recall).mean())"
   ]
  },
  {
   "cell_type": "code",
   "execution_count": 15,
   "id": "ddc699d9",
   "metadata": {},
   "outputs": [
    {
     "name": "stdout",
     "output_type": "stream",
     "text": [
      "Decision tree\n",
      "accuracy: 0.7393109157127131\n",
      "precision: 0.29637572093775794\n",
      "recall: 0.32543501874356895\n"
     ]
    }
   ],
   "source": [
    "print(\"Decision tree\")\n",
    "print(\"accuracy:\", np.array(decision_tree_accuracy).mean())\n",
    "print(\"precision:\", np.array(decision_tree_precision).mean())\n",
    "print(\"recall:\", np.array(decision_tree_recall).mean())"
   ]
  },
  {
   "cell_type": "markdown",
   "id": "223a28b7",
   "metadata": {},
   "source": [
    "# Optuna Tuning"
   ]
  },
  {
   "cell_type": "code",
   "execution_count": 4,
   "id": "3b59bd08",
   "metadata": {
    "ExecuteTime": {
     "end_time": "2022-11-19T01:06:42.746398Z",
     "start_time": "2022-11-19T01:03:16.353237Z"
    }
   },
   "outputs": [
    {
     "name": "stdout",
     "output_type": "stream",
     "text": [
      "Requirement already satisfied: optuna in c:\\users\\yuzov\\miniconda3\\lib\\site-packages (3.0.3)\n",
      "Requirement already satisfied: PyYAML in c:\\users\\yuzov\\miniconda3\\lib\\site-packages (from optuna) (6.0)\n",
      "Requirement already satisfied: sqlalchemy>=1.3.0 in c:\\users\\yuzov\\miniconda3\\lib\\site-packages (from optuna) (1.4.44)\n",
      "Requirement already satisfied: scipy<1.9.0,>=1.7.0 in c:\\users\\yuzov\\miniconda3\\lib\\site-packages (from optuna) (1.8.1)\n",
      "Requirement already satisfied: tqdm in c:\\users\\yuzov\\miniconda3\\lib\\site-packages (from optuna) (4.62.3)\n",
      "Requirement already satisfied: packaging>=20.0 in c:\\users\\yuzov\\miniconda3\\lib\\site-packages (from optuna) (21.3)\n",
      "Requirement already satisfied: colorlog in c:\\users\\yuzov\\miniconda3\\lib\\site-packages (from optuna) (6.7.0)\n",
      "Requirement already satisfied: importlib-metadata<5.0.0 in c:\\users\\yuzov\\miniconda3\\lib\\site-packages (from optuna) (4.11.3)\n",
      "Requirement already satisfied: cliff in c:\\users\\yuzov\\miniconda3\\lib\\site-packages (from optuna) (4.1.0)\n",
      "Requirement already satisfied: alembic>=1.5.0 in c:\\users\\yuzov\\miniconda3\\lib\\site-packages (from optuna) (1.8.1)\n",
      "Requirement already satisfied: numpy in c:\\users\\yuzov\\miniconda3\\lib\\site-packages (from optuna) (1.22.3)\n",
      "Requirement already satisfied: cmaes>=0.8.2 in c:\\users\\yuzov\\miniconda3\\lib\\site-packages (from optuna) (0.9.0)\n",
      "Requirement already satisfied: Mako in c:\\users\\yuzov\\miniconda3\\lib\\site-packages (from alembic>=1.5.0->optuna) (1.2.4)\n",
      "Requirement already satisfied: zipp>=0.5 in c:\\users\\yuzov\\miniconda3\\lib\\site-packages (from importlib-metadata<5.0.0->optuna) (3.8.0)\n",
      "Requirement already satisfied: pyparsing!=3.0.5,>=2.0.2 in c:\\users\\yuzov\\miniconda3\\lib\\site-packages (from packaging>=20.0->optuna) (3.0.9)\n",
      "Requirement already satisfied: greenlet!=0.4.17 in c:\\users\\yuzov\\miniconda3\\lib\\site-packages (from sqlalchemy>=1.3.0->optuna) (2.0.1)\n",
      "Requirement already satisfied: stevedore>=2.0.1 in c:\\users\\yuzov\\miniconda3\\lib\\site-packages (from cliff->optuna) (4.1.1)\n",
      "Requirement already satisfied: autopage>=0.4.0 in c:\\users\\yuzov\\miniconda3\\lib\\site-packages (from cliff->optuna) (0.5.1)\n",
      "Requirement already satisfied: cmd2>=1.0.0 in c:\\users\\yuzov\\miniconda3\\lib\\site-packages (from cliff->optuna) (2.4.2)\n",
      "Requirement already satisfied: PrettyTable>=0.7.2 in c:\\users\\yuzov\\miniconda3\\lib\\site-packages (from cliff->optuna) (3.5.0)\n",
      "Requirement already satisfied: attrs>=16.3.0 in c:\\users\\yuzov\\miniconda3\\lib\\site-packages (from cmd2>=1.0.0->cliff->optuna) (21.4.0)\n",
      "Requirement already satisfied: pyreadline3 in c:\\users\\yuzov\\miniconda3\\lib\\site-packages (from cmd2>=1.0.0->cliff->optuna) (3.4.1)\n",
      "Requirement already satisfied: pyperclip>=1.6 in c:\\users\\yuzov\\miniconda3\\lib\\site-packages (from cmd2>=1.0.0->cliff->optuna) (1.8.2)\n",
      "Requirement already satisfied: wcwidth>=0.1.7 in c:\\users\\yuzov\\miniconda3\\lib\\site-packages (from cmd2>=1.0.0->cliff->optuna) (0.2.5)\n",
      "Requirement already satisfied: pbr!=2.1.0,>=2.0.0 in c:\\users\\yuzov\\miniconda3\\lib\\site-packages (from stevedore>=2.0.1->cliff->optuna) (5.11.0)\n",
      "Requirement already satisfied: colorama in c:\\users\\yuzov\\miniconda3\\lib\\site-packages (from colorlog->optuna) (0.4.4)\n",
      "Requirement already satisfied: MarkupSafe>=0.9.2 in c:\\users\\yuzov\\miniconda3\\lib\\site-packages (from Mako->alembic>=1.5.0->optuna) (2.1.1)\n"
     ]
    },
    {
     "name": "stderr",
     "output_type": "stream",
     "text": [
      "\u001b[32m[I 2022-11-24 14:41:24,472]\u001b[0m A new study created in memory with name: no-name-a4cfc07d-f122-4161-bc6e-f5ddfbb163b9\u001b[0m\n",
      "\u001b[32m[I 2022-11-24 14:41:58,009]\u001b[0m Trial 0 finished with value: 0.6693736253179121 and parameters: {'max_depth': 28, 'min_inst': 13}. Best is trial 0 with value: 0.6693736253179121.\u001b[0m\n",
      "\u001b[32m[I 2022-11-24 14:42:35,988]\u001b[0m Trial 1 finished with value: 0.5910188230058095 and parameters: {'max_depth': 24, 'min_inst': 3}. Best is trial 0 with value: 0.6693736253179121.\u001b[0m\n",
      "\u001b[32m[I 2022-11-24 14:43:11,478]\u001b[0m Trial 2 finished with value: 0.7067850180329286 and parameters: {'max_depth': 28, 'min_inst': 29}. Best is trial 2 with value: 0.7067850180329286.\u001b[0m\n",
      "\u001b[32m[I 2022-11-24 14:43:44,303]\u001b[0m Trial 3 finished with value: 0.6868761305488614 and parameters: {'max_depth': 17, 'min_inst': 15}. Best is trial 2 with value: 0.7067850180329286.\u001b[0m\n",
      "\u001b[32m[I 2022-11-24 14:44:13,026]\u001b[0m Trial 4 finished with value: 0.6577535982381306 and parameters: {'max_depth': 15, 'min_inst': 5}. Best is trial 2 with value: 0.7067850180329286.\u001b[0m\n",
      "\u001b[32m[I 2022-11-24 14:44:47,999]\u001b[0m Trial 5 finished with value: 0.6335653793688241 and parameters: {'max_depth': 22, 'min_inst': 6}. Best is trial 2 with value: 0.7067850180329286.\u001b[0m\n",
      "\u001b[32m[I 2022-11-24 14:45:27,981]\u001b[0m Trial 6 finished with value: 0.587833583349809 and parameters: {'max_depth': 26, 'min_inst': 3}. Best is trial 2 with value: 0.7067850180329286.\u001b[0m\n",
      "\u001b[32m[I 2022-11-24 14:45:59,608]\u001b[0m Trial 7 finished with value: 0.7041595799524627 and parameters: {'max_depth': 21, 'min_inst': 27}. Best is trial 2 with value: 0.7067850180329286.\u001b[0m\n",
      "\u001b[32m[I 2022-11-24 14:46:17,377]\u001b[0m Trial 8 finished with value: 0.755611992631143 and parameters: {'max_depth': 6, 'min_inst': 21}. Best is trial 8 with value: 0.755611992631143.\u001b[0m\n",
      "\u001b[32m[I 2022-11-24 14:46:32,380]\u001b[0m Trial 9 finished with value: 0.721765135136264 and parameters: {'max_depth': 5, 'min_inst': 6}. Best is trial 8 with value: 0.755611992631143.\u001b[0m\n",
      "\u001b[32m[I 2022-11-24 14:47:07,511]\u001b[0m Trial 10 finished with value: 0.6904709713854642 and parameters: {'max_depth': 47, 'min_inst': 22}. Best is trial 8 with value: 0.755611992631143.\u001b[0m\n",
      "\u001b[32m[I 2022-11-24 14:47:14,583]\u001b[0m Trial 11 finished with value: 0.7150823596100488 and parameters: {'max_depth': 2, 'min_inst': 21}. Best is trial 8 with value: 0.755611992631143.\u001b[0m\n",
      "\u001b[32m[I 2022-11-24 14:47:21,947]\u001b[0m Trial 12 finished with value: 0.7150823596100488 and parameters: {'max_depth': 2, 'min_inst': 11}. Best is trial 8 with value: 0.755611992631143.\u001b[0m\n",
      "\u001b[32m[I 2022-11-24 14:47:55,536]\u001b[0m Trial 13 finished with value: 0.6872444106174656 and parameters: {'max_depth': 64, 'min_inst': 20}. Best is trial 8 with value: 0.755611992631143.\u001b[0m\n",
      "\u001b[32m[I 2022-11-24 14:48:16,866]\u001b[0m Trial 14 finished with value: 0.7370009088229483 and parameters: {'max_depth': 10, 'min_inst': 9}. Best is trial 8 with value: 0.755611992631143.\u001b[0m\n",
      "\u001b[32m[I 2022-11-24 14:48:51,201]\u001b[0m Trial 15 finished with value: 0.6568670979985385 and parameters: {'max_depth': 41, 'min_inst': 10}. Best is trial 8 with value: 0.755611992631143.\u001b[0m\n",
      "\u001b[32m[I 2022-11-24 16:12:21,428]\u001b[0m Trial 16 finished with value: 0.7330214194229145 and parameters: {'max_depth': 11, 'min_inst': 24}. Best is trial 8 with value: 0.755611992631143.\u001b[0m\n",
      "\u001b[32m[I 2022-11-24 16:12:43,601]\u001b[0m Trial 17 finished with value: 0.7250643413222488 and parameters: {'max_depth': 11, 'min_inst': 17}. Best is trial 8 with value: 0.755611992631143.\u001b[0m\n",
      "\u001b[32m[I 2022-11-24 16:13:06,438]\u001b[0m Trial 18 finished with value: 0.7138351820576163 and parameters: {'max_depth': 37, 'min_inst': 32}. Best is trial 8 with value: 0.755611992631143.\u001b[0m\n",
      "\u001b[32m[I 2022-11-24 16:13:21,113]\u001b[0m Trial 19 finished with value: 0.7489121201267723 and parameters: {'max_depth': 9, 'min_inst': 17}. Best is trial 8 with value: 0.755611992631143.\u001b[0m\n"
     ]
    }
   ],
   "source": [
    "from sklearn.model_selection import cross_val_score \n",
    "!pip install optuna\n",
    "import optuna\n",
    "def dtree_objective(trial):\n",
    "    md = trial.suggest_int('max_depth', 2, 64)\n",
    "    mi = trial.suggest_int('min_inst', 1, 32)\n",
    "    \n",
    "    clf =  DecisionTreeClassifier(max_depth=md, min_samples_leaf=mi, random_state=1, )\n",
    "    scores = cross_val_score(clf, X_train, y_train, cv=5, scoring='roc_auc')\n",
    "    \n",
    "    return scores.mean()\n",
    "    \n",
    "dtree_study = optuna.create_study(direction='maximize')\n",
    "dtree_study.optimize(dtree_objective, n_trials=20)"
   ]
  },
  {
   "cell_type": "code",
   "execution_count": 5,
   "id": "33c466ed",
   "metadata": {
    "ExecuteTime": {
     "end_time": "2022-11-19T01:06:42.750975Z",
     "start_time": "2022-11-19T01:06:42.747899Z"
    }
   },
   "outputs": [
    {
     "name": "stdout",
     "output_type": "stream",
     "text": [
      "0.755611992631143\n",
      "{'max_depth': 6, 'min_inst': 21}\n"
     ]
    }
   ],
   "source": [
    "#vemos los resultados\n",
    "print(dtree_study.best_value)\n",
    "print(dtree_study.best_params)"
   ]
  },
  {
   "cell_type": "code",
   "execution_count": 6,
   "id": "b6b923e6",
   "metadata": {
    "ExecuteTime": {
     "end_time": "2022-11-19T01:06:47.638487Z",
     "start_time": "2022-11-19T01:06:42.753419Z"
    }
   },
   "outputs": [
    {
     "data": {
      "application/vnd.plotly.v1+json": {
       "config": {
        "plotlyServerURL": "https://plot.ly"
       },
       "data": [
        {
         "mode": "markers",
         "name": "Objective Value",
         "type": "scatter",
         "x": [
          0,
          1,
          2,
          3,
          4,
          5,
          6,
          7,
          8,
          9,
          10,
          11,
          12,
          13,
          14,
          15,
          16,
          17,
          18,
          19
         ],
         "y": [
          0.6693736253179121,
          0.5910188230058095,
          0.7067850180329286,
          0.6868761305488614,
          0.6577535982381306,
          0.6335653793688241,
          0.587833583349809,
          0.7041595799524627,
          0.755611992631143,
          0.721765135136264,
          0.6904709713854642,
          0.7150823596100488,
          0.7150823596100488,
          0.6872444106174656,
          0.7370009088229483,
          0.6568670979985385,
          0.7330214194229145,
          0.7250643413222488,
          0.7138351820576163,
          0.7489121201267723
         ]
        },
        {
         "name": "Best Value",
         "type": "scatter",
         "x": [
          0,
          1,
          2,
          3,
          4,
          5,
          6,
          7,
          8,
          9,
          10,
          11,
          12,
          13,
          14,
          15,
          16,
          17,
          18,
          19
         ],
         "y": [
          0.6693736253179121,
          0.6693736253179121,
          0.7067850180329286,
          0.7067850180329286,
          0.7067850180329286,
          0.7067850180329286,
          0.7067850180329286,
          0.7067850180329286,
          0.755611992631143,
          0.755611992631143,
          0.755611992631143,
          0.755611992631143,
          0.755611992631143,
          0.755611992631143,
          0.755611992631143,
          0.755611992631143,
          0.755611992631143,
          0.755611992631143,
          0.755611992631143,
          0.755611992631143
         ]
        }
       ],
       "layout": {
        "template": {
         "data": {
          "bar": [
           {
            "error_x": {
             "color": "#2a3f5f"
            },
            "error_y": {
             "color": "#2a3f5f"
            },
            "marker": {
             "line": {
              "color": "#E5ECF6",
              "width": 0.5
             },
             "pattern": {
              "fillmode": "overlay",
              "size": 10,
              "solidity": 0.2
             }
            },
            "type": "bar"
           }
          ],
          "barpolar": [
           {
            "marker": {
             "line": {
              "color": "#E5ECF6",
              "width": 0.5
             },
             "pattern": {
              "fillmode": "overlay",
              "size": 10,
              "solidity": 0.2
             }
            },
            "type": "barpolar"
           }
          ],
          "carpet": [
           {
            "aaxis": {
             "endlinecolor": "#2a3f5f",
             "gridcolor": "white",
             "linecolor": "white",
             "minorgridcolor": "white",
             "startlinecolor": "#2a3f5f"
            },
            "baxis": {
             "endlinecolor": "#2a3f5f",
             "gridcolor": "white",
             "linecolor": "white",
             "minorgridcolor": "white",
             "startlinecolor": "#2a3f5f"
            },
            "type": "carpet"
           }
          ],
          "choropleth": [
           {
            "colorbar": {
             "outlinewidth": 0,
             "ticks": ""
            },
            "type": "choropleth"
           }
          ],
          "contour": [
           {
            "colorbar": {
             "outlinewidth": 0,
             "ticks": ""
            },
            "colorscale": [
             [
              0,
              "#0d0887"
             ],
             [
              0.1111111111111111,
              "#46039f"
             ],
             [
              0.2222222222222222,
              "#7201a8"
             ],
             [
              0.3333333333333333,
              "#9c179e"
             ],
             [
              0.4444444444444444,
              "#bd3786"
             ],
             [
              0.5555555555555556,
              "#d8576b"
             ],
             [
              0.6666666666666666,
              "#ed7953"
             ],
             [
              0.7777777777777778,
              "#fb9f3a"
             ],
             [
              0.8888888888888888,
              "#fdca26"
             ],
             [
              1,
              "#f0f921"
             ]
            ],
            "type": "contour"
           }
          ],
          "contourcarpet": [
           {
            "colorbar": {
             "outlinewidth": 0,
             "ticks": ""
            },
            "type": "contourcarpet"
           }
          ],
          "heatmap": [
           {
            "colorbar": {
             "outlinewidth": 0,
             "ticks": ""
            },
            "colorscale": [
             [
              0,
              "#0d0887"
             ],
             [
              0.1111111111111111,
              "#46039f"
             ],
             [
              0.2222222222222222,
              "#7201a8"
             ],
             [
              0.3333333333333333,
              "#9c179e"
             ],
             [
              0.4444444444444444,
              "#bd3786"
             ],
             [
              0.5555555555555556,
              "#d8576b"
             ],
             [
              0.6666666666666666,
              "#ed7953"
             ],
             [
              0.7777777777777778,
              "#fb9f3a"
             ],
             [
              0.8888888888888888,
              "#fdca26"
             ],
             [
              1,
              "#f0f921"
             ]
            ],
            "type": "heatmap"
           }
          ],
          "heatmapgl": [
           {
            "colorbar": {
             "outlinewidth": 0,
             "ticks": ""
            },
            "colorscale": [
             [
              0,
              "#0d0887"
             ],
             [
              0.1111111111111111,
              "#46039f"
             ],
             [
              0.2222222222222222,
              "#7201a8"
             ],
             [
              0.3333333333333333,
              "#9c179e"
             ],
             [
              0.4444444444444444,
              "#bd3786"
             ],
             [
              0.5555555555555556,
              "#d8576b"
             ],
             [
              0.6666666666666666,
              "#ed7953"
             ],
             [
              0.7777777777777778,
              "#fb9f3a"
             ],
             [
              0.8888888888888888,
              "#fdca26"
             ],
             [
              1,
              "#f0f921"
             ]
            ],
            "type": "heatmapgl"
           }
          ],
          "histogram": [
           {
            "marker": {
             "pattern": {
              "fillmode": "overlay",
              "size": 10,
              "solidity": 0.2
             }
            },
            "type": "histogram"
           }
          ],
          "histogram2d": [
           {
            "colorbar": {
             "outlinewidth": 0,
             "ticks": ""
            },
            "colorscale": [
             [
              0,
              "#0d0887"
             ],
             [
              0.1111111111111111,
              "#46039f"
             ],
             [
              0.2222222222222222,
              "#7201a8"
             ],
             [
              0.3333333333333333,
              "#9c179e"
             ],
             [
              0.4444444444444444,
              "#bd3786"
             ],
             [
              0.5555555555555556,
              "#d8576b"
             ],
             [
              0.6666666666666666,
              "#ed7953"
             ],
             [
              0.7777777777777778,
              "#fb9f3a"
             ],
             [
              0.8888888888888888,
              "#fdca26"
             ],
             [
              1,
              "#f0f921"
             ]
            ],
            "type": "histogram2d"
           }
          ],
          "histogram2dcontour": [
           {
            "colorbar": {
             "outlinewidth": 0,
             "ticks": ""
            },
            "colorscale": [
             [
              0,
              "#0d0887"
             ],
             [
              0.1111111111111111,
              "#46039f"
             ],
             [
              0.2222222222222222,
              "#7201a8"
             ],
             [
              0.3333333333333333,
              "#9c179e"
             ],
             [
              0.4444444444444444,
              "#bd3786"
             ],
             [
              0.5555555555555556,
              "#d8576b"
             ],
             [
              0.6666666666666666,
              "#ed7953"
             ],
             [
              0.7777777777777778,
              "#fb9f3a"
             ],
             [
              0.8888888888888888,
              "#fdca26"
             ],
             [
              1,
              "#f0f921"
             ]
            ],
            "type": "histogram2dcontour"
           }
          ],
          "mesh3d": [
           {
            "colorbar": {
             "outlinewidth": 0,
             "ticks": ""
            },
            "type": "mesh3d"
           }
          ],
          "parcoords": [
           {
            "line": {
             "colorbar": {
              "outlinewidth": 0,
              "ticks": ""
             }
            },
            "type": "parcoords"
           }
          ],
          "pie": [
           {
            "automargin": true,
            "type": "pie"
           }
          ],
          "scatter": [
           {
            "fillpattern": {
             "fillmode": "overlay",
             "size": 10,
             "solidity": 0.2
            },
            "type": "scatter"
           }
          ],
          "scatter3d": [
           {
            "line": {
             "colorbar": {
              "outlinewidth": 0,
              "ticks": ""
             }
            },
            "marker": {
             "colorbar": {
              "outlinewidth": 0,
              "ticks": ""
             }
            },
            "type": "scatter3d"
           }
          ],
          "scattercarpet": [
           {
            "marker": {
             "colorbar": {
              "outlinewidth": 0,
              "ticks": ""
             }
            },
            "type": "scattercarpet"
           }
          ],
          "scattergeo": [
           {
            "marker": {
             "colorbar": {
              "outlinewidth": 0,
              "ticks": ""
             }
            },
            "type": "scattergeo"
           }
          ],
          "scattergl": [
           {
            "marker": {
             "colorbar": {
              "outlinewidth": 0,
              "ticks": ""
             }
            },
            "type": "scattergl"
           }
          ],
          "scattermapbox": [
           {
            "marker": {
             "colorbar": {
              "outlinewidth": 0,
              "ticks": ""
             }
            },
            "type": "scattermapbox"
           }
          ],
          "scatterpolar": [
           {
            "marker": {
             "colorbar": {
              "outlinewidth": 0,
              "ticks": ""
             }
            },
            "type": "scatterpolar"
           }
          ],
          "scatterpolargl": [
           {
            "marker": {
             "colorbar": {
              "outlinewidth": 0,
              "ticks": ""
             }
            },
            "type": "scatterpolargl"
           }
          ],
          "scatterternary": [
           {
            "marker": {
             "colorbar": {
              "outlinewidth": 0,
              "ticks": ""
             }
            },
            "type": "scatterternary"
           }
          ],
          "surface": [
           {
            "colorbar": {
             "outlinewidth": 0,
             "ticks": ""
            },
            "colorscale": [
             [
              0,
              "#0d0887"
             ],
             [
              0.1111111111111111,
              "#46039f"
             ],
             [
              0.2222222222222222,
              "#7201a8"
             ],
             [
              0.3333333333333333,
              "#9c179e"
             ],
             [
              0.4444444444444444,
              "#bd3786"
             ],
             [
              0.5555555555555556,
              "#d8576b"
             ],
             [
              0.6666666666666666,
              "#ed7953"
             ],
             [
              0.7777777777777778,
              "#fb9f3a"
             ],
             [
              0.8888888888888888,
              "#fdca26"
             ],
             [
              1,
              "#f0f921"
             ]
            ],
            "type": "surface"
           }
          ],
          "table": [
           {
            "cells": {
             "fill": {
              "color": "#EBF0F8"
             },
             "line": {
              "color": "white"
             }
            },
            "header": {
             "fill": {
              "color": "#C8D4E3"
             },
             "line": {
              "color": "white"
             }
            },
            "type": "table"
           }
          ]
         },
         "layout": {
          "annotationdefaults": {
           "arrowcolor": "#2a3f5f",
           "arrowhead": 0,
           "arrowwidth": 1
          },
          "autotypenumbers": "strict",
          "coloraxis": {
           "colorbar": {
            "outlinewidth": 0,
            "ticks": ""
           }
          },
          "colorscale": {
           "diverging": [
            [
             0,
             "#8e0152"
            ],
            [
             0.1,
             "#c51b7d"
            ],
            [
             0.2,
             "#de77ae"
            ],
            [
             0.3,
             "#f1b6da"
            ],
            [
             0.4,
             "#fde0ef"
            ],
            [
             0.5,
             "#f7f7f7"
            ],
            [
             0.6,
             "#e6f5d0"
            ],
            [
             0.7,
             "#b8e186"
            ],
            [
             0.8,
             "#7fbc41"
            ],
            [
             0.9,
             "#4d9221"
            ],
            [
             1,
             "#276419"
            ]
           ],
           "sequential": [
            [
             0,
             "#0d0887"
            ],
            [
             0.1111111111111111,
             "#46039f"
            ],
            [
             0.2222222222222222,
             "#7201a8"
            ],
            [
             0.3333333333333333,
             "#9c179e"
            ],
            [
             0.4444444444444444,
             "#bd3786"
            ],
            [
             0.5555555555555556,
             "#d8576b"
            ],
            [
             0.6666666666666666,
             "#ed7953"
            ],
            [
             0.7777777777777778,
             "#fb9f3a"
            ],
            [
             0.8888888888888888,
             "#fdca26"
            ],
            [
             1,
             "#f0f921"
            ]
           ],
           "sequentialminus": [
            [
             0,
             "#0d0887"
            ],
            [
             0.1111111111111111,
             "#46039f"
            ],
            [
             0.2222222222222222,
             "#7201a8"
            ],
            [
             0.3333333333333333,
             "#9c179e"
            ],
            [
             0.4444444444444444,
             "#bd3786"
            ],
            [
             0.5555555555555556,
             "#d8576b"
            ],
            [
             0.6666666666666666,
             "#ed7953"
            ],
            [
             0.7777777777777778,
             "#fb9f3a"
            ],
            [
             0.8888888888888888,
             "#fdca26"
            ],
            [
             1,
             "#f0f921"
            ]
           ]
          },
          "colorway": [
           "#636efa",
           "#EF553B",
           "#00cc96",
           "#ab63fa",
           "#FFA15A",
           "#19d3f3",
           "#FF6692",
           "#B6E880",
           "#FF97FF",
           "#FECB52"
          ],
          "font": {
           "color": "#2a3f5f"
          },
          "geo": {
           "bgcolor": "white",
           "lakecolor": "white",
           "landcolor": "#E5ECF6",
           "showlakes": true,
           "showland": true,
           "subunitcolor": "white"
          },
          "hoverlabel": {
           "align": "left"
          },
          "hovermode": "closest",
          "mapbox": {
           "style": "light"
          },
          "paper_bgcolor": "white",
          "plot_bgcolor": "#E5ECF6",
          "polar": {
           "angularaxis": {
            "gridcolor": "white",
            "linecolor": "white",
            "ticks": ""
           },
           "bgcolor": "#E5ECF6",
           "radialaxis": {
            "gridcolor": "white",
            "linecolor": "white",
            "ticks": ""
           }
          },
          "scene": {
           "xaxis": {
            "backgroundcolor": "#E5ECF6",
            "gridcolor": "white",
            "gridwidth": 2,
            "linecolor": "white",
            "showbackground": true,
            "ticks": "",
            "zerolinecolor": "white"
           },
           "yaxis": {
            "backgroundcolor": "#E5ECF6",
            "gridcolor": "white",
            "gridwidth": 2,
            "linecolor": "white",
            "showbackground": true,
            "ticks": "",
            "zerolinecolor": "white"
           },
           "zaxis": {
            "backgroundcolor": "#E5ECF6",
            "gridcolor": "white",
            "gridwidth": 2,
            "linecolor": "white",
            "showbackground": true,
            "ticks": "",
            "zerolinecolor": "white"
           }
          },
          "shapedefaults": {
           "line": {
            "color": "#2a3f5f"
           }
          },
          "ternary": {
           "aaxis": {
            "gridcolor": "white",
            "linecolor": "white",
            "ticks": ""
           },
           "baxis": {
            "gridcolor": "white",
            "linecolor": "white",
            "ticks": ""
           },
           "bgcolor": "#E5ECF6",
           "caxis": {
            "gridcolor": "white",
            "linecolor": "white",
            "ticks": ""
           }
          },
          "title": {
           "x": 0.05
          },
          "xaxis": {
           "automargin": true,
           "gridcolor": "white",
           "linecolor": "white",
           "ticks": "",
           "title": {
            "standoff": 15
           },
           "zerolinecolor": "white",
           "zerolinewidth": 2
          },
          "yaxis": {
           "automargin": true,
           "gridcolor": "white",
           "linecolor": "white",
           "ticks": "",
           "title": {
            "standoff": 15
           },
           "zerolinecolor": "white",
           "zerolinewidth": 2
          }
         }
        },
        "title": {
         "text": "Optimization History Plot"
        },
        "xaxis": {
         "title": {
          "text": "Trial"
         }
        },
        "yaxis": {
         "title": {
          "text": "Objective Value"
         }
        }
       }
      }
     },
     "metadata": {},
     "output_type": "display_data"
    }
   ],
   "source": [
    "#Visualizamos los resultados\n",
    "from optuna.visualization import plot_optimization_history, plot_slice\n",
    "plot_optimization_history(dtree_study)"
   ]
  },
  {
   "cell_type": "code",
   "execution_count": 7,
   "id": "47e948db",
   "metadata": {
    "ExecuteTime": {
     "end_time": "2022-11-19T01:06:47.937707Z",
     "start_time": "2022-11-19T01:06:47.641957Z"
    }
   },
   "outputs": [
    {
     "data": {
      "application/vnd.plotly.v1+json": {
       "config": {
        "plotlyServerURL": "https://plot.ly"
       },
       "data": [
        {
         "marker": {
          "color": [
           0,
           1,
           2,
           3,
           4,
           5,
           6,
           7,
           8,
           9,
           10,
           11,
           12,
           13,
           14,
           15,
           16,
           17,
           18,
           19
          ],
          "colorbar": {
           "title": {
            "text": "Trial"
           },
           "x": 1,
           "xpad": 40
          },
          "colorscale": [
           [
            0,
            "rgb(247,251,255)"
           ],
           [
            0.125,
            "rgb(222,235,247)"
           ],
           [
            0.25,
            "rgb(198,219,239)"
           ],
           [
            0.375,
            "rgb(158,202,225)"
           ],
           [
            0.5,
            "rgb(107,174,214)"
           ],
           [
            0.625,
            "rgb(66,146,198)"
           ],
           [
            0.75,
            "rgb(33,113,181)"
           ],
           [
            0.875,
            "rgb(8,81,156)"
           ],
           [
            1,
            "rgb(8,48,107)"
           ]
          ],
          "line": {
           "color": "Grey",
           "width": 0.5
          },
          "showscale": true
         },
         "mode": "markers",
         "showlegend": false,
         "type": "scatter",
         "x": [
          28,
          24,
          28,
          17,
          15,
          22,
          26,
          21,
          6,
          5,
          47,
          2,
          2,
          64,
          10,
          41,
          11,
          11,
          37,
          9
         ],
         "xaxis": "x",
         "y": [
          0.6693736253179121,
          0.5910188230058095,
          0.7067850180329286,
          0.6868761305488614,
          0.6577535982381306,
          0.6335653793688241,
          0.587833583349809,
          0.7041595799524627,
          0.755611992631143,
          0.721765135136264,
          0.6904709713854642,
          0.7150823596100488,
          0.7150823596100488,
          0.6872444106174656,
          0.7370009088229483,
          0.6568670979985385,
          0.7330214194229145,
          0.7250643413222488,
          0.7138351820576163,
          0.7489121201267723
         ],
         "yaxis": "y"
        },
        {
         "marker": {
          "color": [
           0,
           1,
           2,
           3,
           4,
           5,
           6,
           7,
           8,
           9,
           10,
           11,
           12,
           13,
           14,
           15,
           16,
           17,
           18,
           19
          ],
          "colorbar": {
           "title": {
            "text": "Trial"
           },
           "x": 1,
           "xpad": 40
          },
          "colorscale": [
           [
            0,
            "rgb(247,251,255)"
           ],
           [
            0.125,
            "rgb(222,235,247)"
           ],
           [
            0.25,
            "rgb(198,219,239)"
           ],
           [
            0.375,
            "rgb(158,202,225)"
           ],
           [
            0.5,
            "rgb(107,174,214)"
           ],
           [
            0.625,
            "rgb(66,146,198)"
           ],
           [
            0.75,
            "rgb(33,113,181)"
           ],
           [
            0.875,
            "rgb(8,81,156)"
           ],
           [
            1,
            "rgb(8,48,107)"
           ]
          ],
          "line": {
           "color": "Grey",
           "width": 0.5
          },
          "showscale": false
         },
         "mode": "markers",
         "showlegend": false,
         "type": "scatter",
         "x": [
          13,
          3,
          29,
          15,
          5,
          6,
          3,
          27,
          21,
          6,
          22,
          21,
          11,
          20,
          9,
          10,
          24,
          17,
          32,
          17
         ],
         "xaxis": "x2",
         "y": [
          0.6693736253179121,
          0.5910188230058095,
          0.7067850180329286,
          0.6868761305488614,
          0.6577535982381306,
          0.6335653793688241,
          0.587833583349809,
          0.7041595799524627,
          0.755611992631143,
          0.721765135136264,
          0.6904709713854642,
          0.7150823596100488,
          0.7150823596100488,
          0.6872444106174656,
          0.7370009088229483,
          0.6568670979985385,
          0.7330214194229145,
          0.7250643413222488,
          0.7138351820576163,
          0.7489121201267723
         ],
         "yaxis": "y2"
        }
       ],
       "layout": {
        "template": {
         "data": {
          "bar": [
           {
            "error_x": {
             "color": "#2a3f5f"
            },
            "error_y": {
             "color": "#2a3f5f"
            },
            "marker": {
             "line": {
              "color": "#E5ECF6",
              "width": 0.5
             },
             "pattern": {
              "fillmode": "overlay",
              "size": 10,
              "solidity": 0.2
             }
            },
            "type": "bar"
           }
          ],
          "barpolar": [
           {
            "marker": {
             "line": {
              "color": "#E5ECF6",
              "width": 0.5
             },
             "pattern": {
              "fillmode": "overlay",
              "size": 10,
              "solidity": 0.2
             }
            },
            "type": "barpolar"
           }
          ],
          "carpet": [
           {
            "aaxis": {
             "endlinecolor": "#2a3f5f",
             "gridcolor": "white",
             "linecolor": "white",
             "minorgridcolor": "white",
             "startlinecolor": "#2a3f5f"
            },
            "baxis": {
             "endlinecolor": "#2a3f5f",
             "gridcolor": "white",
             "linecolor": "white",
             "minorgridcolor": "white",
             "startlinecolor": "#2a3f5f"
            },
            "type": "carpet"
           }
          ],
          "choropleth": [
           {
            "colorbar": {
             "outlinewidth": 0,
             "ticks": ""
            },
            "type": "choropleth"
           }
          ],
          "contour": [
           {
            "colorbar": {
             "outlinewidth": 0,
             "ticks": ""
            },
            "colorscale": [
             [
              0,
              "#0d0887"
             ],
             [
              0.1111111111111111,
              "#46039f"
             ],
             [
              0.2222222222222222,
              "#7201a8"
             ],
             [
              0.3333333333333333,
              "#9c179e"
             ],
             [
              0.4444444444444444,
              "#bd3786"
             ],
             [
              0.5555555555555556,
              "#d8576b"
             ],
             [
              0.6666666666666666,
              "#ed7953"
             ],
             [
              0.7777777777777778,
              "#fb9f3a"
             ],
             [
              0.8888888888888888,
              "#fdca26"
             ],
             [
              1,
              "#f0f921"
             ]
            ],
            "type": "contour"
           }
          ],
          "contourcarpet": [
           {
            "colorbar": {
             "outlinewidth": 0,
             "ticks": ""
            },
            "type": "contourcarpet"
           }
          ],
          "heatmap": [
           {
            "colorbar": {
             "outlinewidth": 0,
             "ticks": ""
            },
            "colorscale": [
             [
              0,
              "#0d0887"
             ],
             [
              0.1111111111111111,
              "#46039f"
             ],
             [
              0.2222222222222222,
              "#7201a8"
             ],
             [
              0.3333333333333333,
              "#9c179e"
             ],
             [
              0.4444444444444444,
              "#bd3786"
             ],
             [
              0.5555555555555556,
              "#d8576b"
             ],
             [
              0.6666666666666666,
              "#ed7953"
             ],
             [
              0.7777777777777778,
              "#fb9f3a"
             ],
             [
              0.8888888888888888,
              "#fdca26"
             ],
             [
              1,
              "#f0f921"
             ]
            ],
            "type": "heatmap"
           }
          ],
          "heatmapgl": [
           {
            "colorbar": {
             "outlinewidth": 0,
             "ticks": ""
            },
            "colorscale": [
             [
              0,
              "#0d0887"
             ],
             [
              0.1111111111111111,
              "#46039f"
             ],
             [
              0.2222222222222222,
              "#7201a8"
             ],
             [
              0.3333333333333333,
              "#9c179e"
             ],
             [
              0.4444444444444444,
              "#bd3786"
             ],
             [
              0.5555555555555556,
              "#d8576b"
             ],
             [
              0.6666666666666666,
              "#ed7953"
             ],
             [
              0.7777777777777778,
              "#fb9f3a"
             ],
             [
              0.8888888888888888,
              "#fdca26"
             ],
             [
              1,
              "#f0f921"
             ]
            ],
            "type": "heatmapgl"
           }
          ],
          "histogram": [
           {
            "marker": {
             "pattern": {
              "fillmode": "overlay",
              "size": 10,
              "solidity": 0.2
             }
            },
            "type": "histogram"
           }
          ],
          "histogram2d": [
           {
            "colorbar": {
             "outlinewidth": 0,
             "ticks": ""
            },
            "colorscale": [
             [
              0,
              "#0d0887"
             ],
             [
              0.1111111111111111,
              "#46039f"
             ],
             [
              0.2222222222222222,
              "#7201a8"
             ],
             [
              0.3333333333333333,
              "#9c179e"
             ],
             [
              0.4444444444444444,
              "#bd3786"
             ],
             [
              0.5555555555555556,
              "#d8576b"
             ],
             [
              0.6666666666666666,
              "#ed7953"
             ],
             [
              0.7777777777777778,
              "#fb9f3a"
             ],
             [
              0.8888888888888888,
              "#fdca26"
             ],
             [
              1,
              "#f0f921"
             ]
            ],
            "type": "histogram2d"
           }
          ],
          "histogram2dcontour": [
           {
            "colorbar": {
             "outlinewidth": 0,
             "ticks": ""
            },
            "colorscale": [
             [
              0,
              "#0d0887"
             ],
             [
              0.1111111111111111,
              "#46039f"
             ],
             [
              0.2222222222222222,
              "#7201a8"
             ],
             [
              0.3333333333333333,
              "#9c179e"
             ],
             [
              0.4444444444444444,
              "#bd3786"
             ],
             [
              0.5555555555555556,
              "#d8576b"
             ],
             [
              0.6666666666666666,
              "#ed7953"
             ],
             [
              0.7777777777777778,
              "#fb9f3a"
             ],
             [
              0.8888888888888888,
              "#fdca26"
             ],
             [
              1,
              "#f0f921"
             ]
            ],
            "type": "histogram2dcontour"
           }
          ],
          "mesh3d": [
           {
            "colorbar": {
             "outlinewidth": 0,
             "ticks": ""
            },
            "type": "mesh3d"
           }
          ],
          "parcoords": [
           {
            "line": {
             "colorbar": {
              "outlinewidth": 0,
              "ticks": ""
             }
            },
            "type": "parcoords"
           }
          ],
          "pie": [
           {
            "automargin": true,
            "type": "pie"
           }
          ],
          "scatter": [
           {
            "fillpattern": {
             "fillmode": "overlay",
             "size": 10,
             "solidity": 0.2
            },
            "type": "scatter"
           }
          ],
          "scatter3d": [
           {
            "line": {
             "colorbar": {
              "outlinewidth": 0,
              "ticks": ""
             }
            },
            "marker": {
             "colorbar": {
              "outlinewidth": 0,
              "ticks": ""
             }
            },
            "type": "scatter3d"
           }
          ],
          "scattercarpet": [
           {
            "marker": {
             "colorbar": {
              "outlinewidth": 0,
              "ticks": ""
             }
            },
            "type": "scattercarpet"
           }
          ],
          "scattergeo": [
           {
            "marker": {
             "colorbar": {
              "outlinewidth": 0,
              "ticks": ""
             }
            },
            "type": "scattergeo"
           }
          ],
          "scattergl": [
           {
            "marker": {
             "colorbar": {
              "outlinewidth": 0,
              "ticks": ""
             }
            },
            "type": "scattergl"
           }
          ],
          "scattermapbox": [
           {
            "marker": {
             "colorbar": {
              "outlinewidth": 0,
              "ticks": ""
             }
            },
            "type": "scattermapbox"
           }
          ],
          "scatterpolar": [
           {
            "marker": {
             "colorbar": {
              "outlinewidth": 0,
              "ticks": ""
             }
            },
            "type": "scatterpolar"
           }
          ],
          "scatterpolargl": [
           {
            "marker": {
             "colorbar": {
              "outlinewidth": 0,
              "ticks": ""
             }
            },
            "type": "scatterpolargl"
           }
          ],
          "scatterternary": [
           {
            "marker": {
             "colorbar": {
              "outlinewidth": 0,
              "ticks": ""
             }
            },
            "type": "scatterternary"
           }
          ],
          "surface": [
           {
            "colorbar": {
             "outlinewidth": 0,
             "ticks": ""
            },
            "colorscale": [
             [
              0,
              "#0d0887"
             ],
             [
              0.1111111111111111,
              "#46039f"
             ],
             [
              0.2222222222222222,
              "#7201a8"
             ],
             [
              0.3333333333333333,
              "#9c179e"
             ],
             [
              0.4444444444444444,
              "#bd3786"
             ],
             [
              0.5555555555555556,
              "#d8576b"
             ],
             [
              0.6666666666666666,
              "#ed7953"
             ],
             [
              0.7777777777777778,
              "#fb9f3a"
             ],
             [
              0.8888888888888888,
              "#fdca26"
             ],
             [
              1,
              "#f0f921"
             ]
            ],
            "type": "surface"
           }
          ],
          "table": [
           {
            "cells": {
             "fill": {
              "color": "#EBF0F8"
             },
             "line": {
              "color": "white"
             }
            },
            "header": {
             "fill": {
              "color": "#C8D4E3"
             },
             "line": {
              "color": "white"
             }
            },
            "type": "table"
           }
          ]
         },
         "layout": {
          "annotationdefaults": {
           "arrowcolor": "#2a3f5f",
           "arrowhead": 0,
           "arrowwidth": 1
          },
          "autotypenumbers": "strict",
          "coloraxis": {
           "colorbar": {
            "outlinewidth": 0,
            "ticks": ""
           }
          },
          "colorscale": {
           "diverging": [
            [
             0,
             "#8e0152"
            ],
            [
             0.1,
             "#c51b7d"
            ],
            [
             0.2,
             "#de77ae"
            ],
            [
             0.3,
             "#f1b6da"
            ],
            [
             0.4,
             "#fde0ef"
            ],
            [
             0.5,
             "#f7f7f7"
            ],
            [
             0.6,
             "#e6f5d0"
            ],
            [
             0.7,
             "#b8e186"
            ],
            [
             0.8,
             "#7fbc41"
            ],
            [
             0.9,
             "#4d9221"
            ],
            [
             1,
             "#276419"
            ]
           ],
           "sequential": [
            [
             0,
             "#0d0887"
            ],
            [
             0.1111111111111111,
             "#46039f"
            ],
            [
             0.2222222222222222,
             "#7201a8"
            ],
            [
             0.3333333333333333,
             "#9c179e"
            ],
            [
             0.4444444444444444,
             "#bd3786"
            ],
            [
             0.5555555555555556,
             "#d8576b"
            ],
            [
             0.6666666666666666,
             "#ed7953"
            ],
            [
             0.7777777777777778,
             "#fb9f3a"
            ],
            [
             0.8888888888888888,
             "#fdca26"
            ],
            [
             1,
             "#f0f921"
            ]
           ],
           "sequentialminus": [
            [
             0,
             "#0d0887"
            ],
            [
             0.1111111111111111,
             "#46039f"
            ],
            [
             0.2222222222222222,
             "#7201a8"
            ],
            [
             0.3333333333333333,
             "#9c179e"
            ],
            [
             0.4444444444444444,
             "#bd3786"
            ],
            [
             0.5555555555555556,
             "#d8576b"
            ],
            [
             0.6666666666666666,
             "#ed7953"
            ],
            [
             0.7777777777777778,
             "#fb9f3a"
            ],
            [
             0.8888888888888888,
             "#fdca26"
            ],
            [
             1,
             "#f0f921"
            ]
           ]
          },
          "colorway": [
           "#636efa",
           "#EF553B",
           "#00cc96",
           "#ab63fa",
           "#FFA15A",
           "#19d3f3",
           "#FF6692",
           "#B6E880",
           "#FF97FF",
           "#FECB52"
          ],
          "font": {
           "color": "#2a3f5f"
          },
          "geo": {
           "bgcolor": "white",
           "lakecolor": "white",
           "landcolor": "#E5ECF6",
           "showlakes": true,
           "showland": true,
           "subunitcolor": "white"
          },
          "hoverlabel": {
           "align": "left"
          },
          "hovermode": "closest",
          "mapbox": {
           "style": "light"
          },
          "paper_bgcolor": "white",
          "plot_bgcolor": "#E5ECF6",
          "polar": {
           "angularaxis": {
            "gridcolor": "white",
            "linecolor": "white",
            "ticks": ""
           },
           "bgcolor": "#E5ECF6",
           "radialaxis": {
            "gridcolor": "white",
            "linecolor": "white",
            "ticks": ""
           }
          },
          "scene": {
           "xaxis": {
            "backgroundcolor": "#E5ECF6",
            "gridcolor": "white",
            "gridwidth": 2,
            "linecolor": "white",
            "showbackground": true,
            "ticks": "",
            "zerolinecolor": "white"
           },
           "yaxis": {
            "backgroundcolor": "#E5ECF6",
            "gridcolor": "white",
            "gridwidth": 2,
            "linecolor": "white",
            "showbackground": true,
            "ticks": "",
            "zerolinecolor": "white"
           },
           "zaxis": {
            "backgroundcolor": "#E5ECF6",
            "gridcolor": "white",
            "gridwidth": 2,
            "linecolor": "white",
            "showbackground": true,
            "ticks": "",
            "zerolinecolor": "white"
           }
          },
          "shapedefaults": {
           "line": {
            "color": "#2a3f5f"
           }
          },
          "ternary": {
           "aaxis": {
            "gridcolor": "white",
            "linecolor": "white",
            "ticks": ""
           },
           "baxis": {
            "gridcolor": "white",
            "linecolor": "white",
            "ticks": ""
           },
           "bgcolor": "#E5ECF6",
           "caxis": {
            "gridcolor": "white",
            "linecolor": "white",
            "ticks": ""
           }
          },
          "title": {
           "x": 0.05
          },
          "xaxis": {
           "automargin": true,
           "gridcolor": "white",
           "linecolor": "white",
           "ticks": "",
           "title": {
            "standoff": 15
           },
           "zerolinecolor": "white",
           "zerolinewidth": 2
          },
          "yaxis": {
           "automargin": true,
           "gridcolor": "white",
           "linecolor": "white",
           "ticks": "",
           "title": {
            "standoff": 15
           },
           "zerolinecolor": "white",
           "zerolinewidth": 2
          }
         }
        },
        "title": {
         "text": "Slice Plot"
        },
        "xaxis": {
         "anchor": "y",
         "domain": [
          0,
          0.45
         ],
         "title": {
          "text": "max_depth"
         }
        },
        "xaxis2": {
         "anchor": "y2",
         "domain": [
          0.55,
          1
         ],
         "title": {
          "text": "min_inst"
         }
        },
        "yaxis": {
         "anchor": "x",
         "domain": [
          0,
          1
         ],
         "title": {
          "text": "Objective Value"
         }
        },
        "yaxis2": {
         "anchor": "x2",
         "domain": [
          0,
          1
         ],
         "matches": "y",
         "showticklabels": false
        }
       }
      }
     },
     "metadata": {},
     "output_type": "display_data"
    }
   ],
   "source": [
    "plot_slice(dtree_study)"
   ]
  },
  {
   "cell_type": "markdown",
   "id": "7206367f",
   "metadata": {},
   "source": [
    "Re training with hyperParameters"
   ]
  },
  {
   "cell_type": "code",
   "execution_count": 8,
   "id": "6b374d0e",
   "metadata": {},
   "outputs": [],
   "source": [
    "#Definimos nuetras X e Y\n",
    "X = df_diabetes.iloc[:, :-1].values\n",
    "Y = df_diabetes['diagnosed_diabetes'].values.reshape(-1,1)"
   ]
  },
  {
   "cell_type": "code",
   "execution_count": 9,
   "id": "8e055818",
   "metadata": {},
   "outputs": [],
   "source": [
    "# Iniciamos el modelo\n",
    "from sklearn.tree import DecisionTreeClassifier\n",
    "model_optuna = DecisionTreeClassifier(max_depth=8,min_samples_leaf=32)"
   ]
  },
  {
   "cell_type": "code",
   "execution_count": 10,
   "id": "75fbdc9e",
   "metadata": {},
   "outputs": [],
   "source": [
    "#iniciamos el SKF\n",
    "from sklearn.model_selection import StratifiedKFold\n",
    "skf = StratifiedKFold(n_splits=10)\n",
    "skf.get_n_splits(X, Y)\n",
    "tree_scores = {'accuracy_scores':[],'precision_scores':[],'recall_scores':[]}"
   ]
  },
  {
   "cell_type": "code",
   "execution_count": 12,
   "id": "a7174571",
   "metadata": {},
   "outputs": [],
   "source": [
    "#bucle\n",
    "from sklearn.metrics import precision_score, recall_score\n",
    "for train_index, test_index in skf.split(X, Y):  \n",
    "    #Separacion del modelo\n",
    "    X_train, X_test = X[train_index], X[test_index]\n",
    "    Y_train, Y_test = Y[train_index], Y[test_index]\n",
    "    #Entrenamiento\n",
    "    ModelDTC_OP = model_optuna.fit(X_train, Y_train)\n",
    "    tree_prediction = model_optuna.predict(X_test)\n",
    "    #Calculo de metricas para cada entrenamiento\n",
    "    tree_scores['precision_scores'].append(precision_score(Y_test,tree_prediction))\n",
    "    tree_scores['recall_scores'].append(recall_score(Y_test,tree_prediction))\n",
    "    tree_scores['accuracy_scores'].append(recall_score(Y_test,tree_prediction))"
   ]
  },
  {
   "cell_type": "code",
   "execution_count": 13,
   "id": "88cbbefc",
   "metadata": {},
   "outputs": [
    {
     "name": "stdout",
     "output_type": "stream",
     "text": [
      "Overall precision_scores:  56.78%\n",
      "Overall recall_scores:  14.02%\n",
      "Overall accuracy_scores:  14.02%\n"
     ]
    }
   ],
   "source": [
    "#Mostramos resultado\n",
    "from numpy import mean\n",
    "print('Overall precision_scores:',\"{: .2%}\".format(mean(tree_scores['precision_scores'])))\n",
    "print('Overall recall_scores:',\"{: .2%}\".format(mean(tree_scores['recall_scores'])))\n",
    "print('Overall accuracy_scores:',\"{: .2%}\".format(mean(tree_scores['accuracy_scores'])))"
   ]
  }
 ],
 "metadata": {
  "canvas": {
   "colorPalette": [
    "inherit",
    "inherit",
    "inherit",
    "inherit",
    "inherit",
    "inherit",
    "inherit",
    "inherit",
    "inherit",
    "inherit"
   ],
   "parameters": []
  },
  "colab": {
   "collapsed_sections": [
    "7e794e28",
    "B8hgGU1Z6rcX",
    "8V7Wk_USq1up",
    "b12b1976",
    "b12bf9a5",
    "03edbf3e",
    "2dc3ea57"
   ],
   "provenance": []
  },
  "gist": {
   "data": {
    "description": "jupyter/Coderhouse_Prediccion_de_Diabetes_Tipo_2_v0_4_2021.ipynb",
    "public": true
   },
   "id": ""
  },
  "kernelspec": {
   "display_name": "Python 3 (ipykernel)",
   "language": "python",
   "name": "python3"
  },
  "language_info": {
   "codemirror_mode": {
    "name": "ipython",
    "version": 3
   },
   "file_extension": ".py",
   "mimetype": "text/x-python",
   "name": "python",
   "nbconvert_exporter": "python",
   "pygments_lexer": "ipython3",
   "version": "3.9.7"
  },
  "vscode": {
   "interpreter": {
    "hash": "9034cd6c99133895e88a3ca6be38275486f59e247b89c16c20811d1a16f4b12f"
   }
  }
 },
 "nbformat": 4,
 "nbformat_minor": 5
}
