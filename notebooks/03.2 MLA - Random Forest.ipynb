{
 "cells": [
  {
   "cell_type": "markdown",
   "id": "7e794e28",
   "metadata": {
    "canvas": {
     "comments": [],
     "componentType": "CodeCell",
     "copiedOriginId": null,
     "diskcache": false,
     "headerColor": "none",
     "id": "c5b67101-0f32-4bc6-8ab5-665dcc558eca",
     "isComponent": false,
     "name": "",
     "parents": []
    },
    "id": "7e794e28"
   },
   "source": [
    "# Random Forest\n",
    " <a class=\"anchor\" id=\"1.5\"></a>"
   ]
  },
  {
   "cell_type": "markdown",
   "id": "5FEoXLpJ3jix",
   "metadata": {
    "canvas": {
     "comments": [],
     "componentType": "CodeCell",
     "copiedOriginId": null,
     "diskcache": false,
     "headerColor": "none",
     "id": "f9ae888f-6faa-423a-9b2c-51449309bfff",
     "isComponent": false,
     "name": "",
     "parents": []
    },
    "id": "5FEoXLpJ3jix"
   },
   "source": [
    "# Importamos Librerias"
   ]
  },
  {
   "cell_type": "code",
   "execution_count": 11,
   "id": "63bda8c4",
   "metadata": {
    "ExecuteTime": {
     "end_time": "2022-11-19T14:00:36.257492Z",
     "start_time": "2022-11-19T14:00:29.877250Z"
    },
    "canvas": {
     "comments": [],
     "componentType": "CodeCell",
     "copiedOriginId": null,
     "diskcache": false,
     "headerColor": "none",
     "id": "d7c832ec-1335-4f94-84b9-daed569551c7",
     "isComponent": false,
     "name": "",
     "parents": []
    },
    "id": "63bda8c4"
   },
   "outputs": [
    {
     "data": {
      "text/html": [
       "<div>\n",
       "<style scoped>\n",
       "    .dataframe tbody tr th:only-of-type {\n",
       "        vertical-align: middle;\n",
       "    }\n",
       "\n",
       "    .dataframe tbody tr th {\n",
       "        vertical-align: top;\n",
       "    }\n",
       "\n",
       "    .dataframe thead th {\n",
       "        text-align: right;\n",
       "    }\n",
       "</style>\n",
       "<table border=\"1\" class=\"dataframe\">\n",
       "  <thead>\n",
       "    <tr style=\"text-align: right;\">\n",
       "      <th></th>\n",
       "      <th>Unnamed: 0</th>\n",
       "      <th>sex</th>\n",
       "      <th>age</th>\n",
       "      <th>race</th>\n",
       "      <th>HTA</th>\n",
       "      <th>fruta_verdura</th>\n",
       "      <th>marital_status</th>\n",
       "      <th>metropolitan_status</th>\n",
       "      <th>height</th>\n",
       "      <th>weight</th>\n",
       "      <th>...</th>\n",
       "      <th>smoker</th>\n",
       "      <th>general_health</th>\n",
       "      <th>coronary_heart_disease</th>\n",
       "      <th>mental_health_past_30_days</th>\n",
       "      <th>phys_health_past_30_days</th>\n",
       "      <th>kidney_disease</th>\n",
       "      <th>depression</th>\n",
       "      <th>blind</th>\n",
       "      <th>cognitive_diff</th>\n",
       "      <th>diagnosed_diabetes</th>\n",
       "    </tr>\n",
       "  </thead>\n",
       "  <tbody>\n",
       "    <tr>\n",
       "      <th>0</th>\n",
       "      <td>0</td>\n",
       "      <td>2</td>\n",
       "      <td>8</td>\n",
       "      <td>-1.0</td>\n",
       "      <td>3.0</td>\n",
       "      <td>101.0</td>\n",
       "      <td>1.0</td>\n",
       "      <td>1.0</td>\n",
       "      <td>1.4986</td>\n",
       "      <td>32.658624</td>\n",
       "      <td>...</td>\n",
       "      <td>3</td>\n",
       "      <td>5.0</td>\n",
       "      <td>2.0</td>\n",
       "      <td>10.0</td>\n",
       "      <td>20.0</td>\n",
       "      <td>2.0</td>\n",
       "      <td>2.0</td>\n",
       "      <td>2.0</td>\n",
       "      <td>2.0</td>\n",
       "      <td>2.0</td>\n",
       "    </tr>\n",
       "    <tr>\n",
       "      <th>1</th>\n",
       "      <td>1</td>\n",
       "      <td>2</td>\n",
       "      <td>7</td>\n",
       "      <td>-1.0</td>\n",
       "      <td>1.0</td>\n",
       "      <td>101.0</td>\n",
       "      <td>-1.0</td>\n",
       "      <td>1.0</td>\n",
       "      <td>1.6764</td>\n",
       "      <td>-1.000000</td>\n",
       "      <td>...</td>\n",
       "      <td>4</td>\n",
       "      <td>3.0</td>\n",
       "      <td>1.0</td>\n",
       "      <td>88.0</td>\n",
       "      <td>88.0</td>\n",
       "      <td>1.0</td>\n",
       "      <td>2.0</td>\n",
       "      <td>1.0</td>\n",
       "      <td>1.0</td>\n",
       "      <td>1.0</td>\n",
       "    </tr>\n",
       "    <tr>\n",
       "      <th>2</th>\n",
       "      <td>2</td>\n",
       "      <td>2</td>\n",
       "      <td>8</td>\n",
       "      <td>-1.0</td>\n",
       "      <td>1.0</td>\n",
       "      <td>101.0</td>\n",
       "      <td>3.0</td>\n",
       "      <td>1.0</td>\n",
       "      <td>1.6510</td>\n",
       "      <td>77.110640</td>\n",
       "      <td>...</td>\n",
       "      <td>4</td>\n",
       "      <td>2.0</td>\n",
       "      <td>1.0</td>\n",
       "      <td>88.0</td>\n",
       "      <td>88.0</td>\n",
       "      <td>2.0</td>\n",
       "      <td>2.0</td>\n",
       "      <td>2.0</td>\n",
       "      <td>2.0</td>\n",
       "      <td>1.0</td>\n",
       "    </tr>\n",
       "    <tr>\n",
       "      <th>3</th>\n",
       "      <td>3</td>\n",
       "      <td>2</td>\n",
       "      <td>6</td>\n",
       "      <td>-1.0</td>\n",
       "      <td>1.0</td>\n",
       "      <td>203.0</td>\n",
       "      <td>1.0</td>\n",
       "      <td>1.0</td>\n",
       "      <td>1.6256</td>\n",
       "      <td>88.450440</td>\n",
       "      <td>...</td>\n",
       "      <td>4</td>\n",
       "      <td>2.0</td>\n",
       "      <td>2.0</td>\n",
       "      <td>10.0</td>\n",
       "      <td>88.0</td>\n",
       "      <td>2.0</td>\n",
       "      <td>2.0</td>\n",
       "      <td>2.0</td>\n",
       "      <td>2.0</td>\n",
       "      <td>1.0</td>\n",
       "    </tr>\n",
       "    <tr>\n",
       "      <th>4</th>\n",
       "      <td>4</td>\n",
       "      <td>1</td>\n",
       "      <td>9</td>\n",
       "      <td>-1.0</td>\n",
       "      <td>-1.0</td>\n",
       "      <td>101.0</td>\n",
       "      <td>1.0</td>\n",
       "      <td>2.0</td>\n",
       "      <td>1.8034</td>\n",
       "      <td>93.439952</td>\n",
       "      <td>...</td>\n",
       "      <td>4</td>\n",
       "      <td>5.0</td>\n",
       "      <td>-1.0</td>\n",
       "      <td>88.0</td>\n",
       "      <td>30.0</td>\n",
       "      <td>2.0</td>\n",
       "      <td>2.0</td>\n",
       "      <td>2.0</td>\n",
       "      <td>2.0</td>\n",
       "      <td>1.0</td>\n",
       "    </tr>\n",
       "    <tr>\n",
       "      <th>...</th>\n",
       "      <td>...</td>\n",
       "      <td>...</td>\n",
       "      <td>...</td>\n",
       "      <td>...</td>\n",
       "      <td>...</td>\n",
       "      <td>...</td>\n",
       "      <td>...</td>\n",
       "      <td>...</td>\n",
       "      <td>...</td>\n",
       "      <td>...</td>\n",
       "      <td>...</td>\n",
       "      <td>...</td>\n",
       "      <td>...</td>\n",
       "      <td>...</td>\n",
       "      <td>...</td>\n",
       "      <td>...</td>\n",
       "      <td>...</td>\n",
       "      <td>...</td>\n",
       "      <td>...</td>\n",
       "      <td>...</td>\n",
       "      <td>...</td>\n",
       "    </tr>\n",
       "    <tr>\n",
       "      <th>390138</th>\n",
       "      <td>438688</td>\n",
       "      <td>2</td>\n",
       "      <td>0</td>\n",
       "      <td>-1.0</td>\n",
       "      <td>1.0</td>\n",
       "      <td>210.0</td>\n",
       "      <td>5.0</td>\n",
       "      <td>-1.0</td>\n",
       "      <td>1.5748</td>\n",
       "      <td>61.234920</td>\n",
       "      <td>...</td>\n",
       "      <td>3</td>\n",
       "      <td>2.0</td>\n",
       "      <td>2.0</td>\n",
       "      <td>20.0</td>\n",
       "      <td>88.0</td>\n",
       "      <td>2.0</td>\n",
       "      <td>1.0</td>\n",
       "      <td>2.0</td>\n",
       "      <td>2.0</td>\n",
       "      <td>1.0</td>\n",
       "    </tr>\n",
       "    <tr>\n",
       "      <th>390139</th>\n",
       "      <td>438689</td>\n",
       "      <td>1</td>\n",
       "      <td>10</td>\n",
       "      <td>-1.0</td>\n",
       "      <td>1.0</td>\n",
       "      <td>101.0</td>\n",
       "      <td>3.0</td>\n",
       "      <td>-1.0</td>\n",
       "      <td>1.5748</td>\n",
       "      <td>-1.000000</td>\n",
       "      <td>...</td>\n",
       "      <td>4</td>\n",
       "      <td>3.0</td>\n",
       "      <td>2.0</td>\n",
       "      <td>88.0</td>\n",
       "      <td>88.0</td>\n",
       "      <td>2.0</td>\n",
       "      <td>2.0</td>\n",
       "      <td>1.0</td>\n",
       "      <td>1.0</td>\n",
       "      <td>1.0</td>\n",
       "    </tr>\n",
       "    <tr>\n",
       "      <th>390140</th>\n",
       "      <td>438690</td>\n",
       "      <td>1</td>\n",
       "      <td>4</td>\n",
       "      <td>-1.0</td>\n",
       "      <td>3.0</td>\n",
       "      <td>102.0</td>\n",
       "      <td>1.0</td>\n",
       "      <td>-1.0</td>\n",
       "      <td>1.8034</td>\n",
       "      <td>99.790240</td>\n",
       "      <td>...</td>\n",
       "      <td>4</td>\n",
       "      <td>2.0</td>\n",
       "      <td>2.0</td>\n",
       "      <td>88.0</td>\n",
       "      <td>88.0</td>\n",
       "      <td>2.0</td>\n",
       "      <td>2.0</td>\n",
       "      <td>2.0</td>\n",
       "      <td>2.0</td>\n",
       "      <td>2.0</td>\n",
       "    </tr>\n",
       "    <tr>\n",
       "      <th>390141</th>\n",
       "      <td>438691</td>\n",
       "      <td>1</td>\n",
       "      <td>7</td>\n",
       "      <td>-1.0</td>\n",
       "      <td>1.0</td>\n",
       "      <td>101.0</td>\n",
       "      <td>2.0</td>\n",
       "      <td>-1.0</td>\n",
       "      <td>1.8288</td>\n",
       "      <td>79.378600</td>\n",
       "      <td>...</td>\n",
       "      <td>4</td>\n",
       "      <td>2.0</td>\n",
       "      <td>2.0</td>\n",
       "      <td>88.0</td>\n",
       "      <td>88.0</td>\n",
       "      <td>2.0</td>\n",
       "      <td>2.0</td>\n",
       "      <td>2.0</td>\n",
       "      <td>2.0</td>\n",
       "      <td>2.0</td>\n",
       "    </tr>\n",
       "    <tr>\n",
       "      <th>390142</th>\n",
       "      <td>438692</td>\n",
       "      <td>2</td>\n",
       "      <td>3</td>\n",
       "      <td>-1.0</td>\n",
       "      <td>3.0</td>\n",
       "      <td>305.0</td>\n",
       "      <td>2.0</td>\n",
       "      <td>-1.0</td>\n",
       "      <td>1.6002</td>\n",
       "      <td>81.192968</td>\n",
       "      <td>...</td>\n",
       "      <td>4</td>\n",
       "      <td>1.0</td>\n",
       "      <td>2.0</td>\n",
       "      <td>2.0</td>\n",
       "      <td>2.0</td>\n",
       "      <td>2.0</td>\n",
       "      <td>2.0</td>\n",
       "      <td>2.0</td>\n",
       "      <td>2.0</td>\n",
       "      <td>2.0</td>\n",
       "    </tr>\n",
       "  </tbody>\n",
       "</table>\n",
       "<p>390143 rows × 27 columns</p>\n",
       "</div>"
      ],
      "text/plain": [
       "        Unnamed: 0  sex  age  race  HTA  fruta_verdura  marital_status  \\\n",
       "0                0    2    8  -1.0  3.0          101.0             1.0   \n",
       "1                1    2    7  -1.0  1.0          101.0            -1.0   \n",
       "2                2    2    8  -1.0  1.0          101.0             3.0   \n",
       "3                3    2    6  -1.0  1.0          203.0             1.0   \n",
       "4                4    1    9  -1.0 -1.0          101.0             1.0   \n",
       "...            ...  ...  ...   ...  ...            ...             ...   \n",
       "390138      438688    2    0  -1.0  1.0          210.0             5.0   \n",
       "390139      438689    1   10  -1.0  1.0          101.0             3.0   \n",
       "390140      438690    1    4  -1.0  3.0          102.0             1.0   \n",
       "390141      438691    1    7  -1.0  1.0          101.0             2.0   \n",
       "390142      438692    2    3  -1.0  3.0          305.0             2.0   \n",
       "\n",
       "        metropolitan_status  height     weight  ...  smoker  general_health  \\\n",
       "0                       1.0  1.4986  32.658624  ...       3             5.0   \n",
       "1                       1.0  1.6764  -1.000000  ...       4             3.0   \n",
       "2                       1.0  1.6510  77.110640  ...       4             2.0   \n",
       "3                       1.0  1.6256  88.450440  ...       4             2.0   \n",
       "4                       2.0  1.8034  93.439952  ...       4             5.0   \n",
       "...                     ...     ...        ...  ...     ...             ...   \n",
       "390138                 -1.0  1.5748  61.234920  ...       3             2.0   \n",
       "390139                 -1.0  1.5748  -1.000000  ...       4             3.0   \n",
       "390140                 -1.0  1.8034  99.790240  ...       4             2.0   \n",
       "390141                 -1.0  1.8288  79.378600  ...       4             2.0   \n",
       "390142                 -1.0  1.6002  81.192968  ...       4             1.0   \n",
       "\n",
       "        coronary_heart_disease  mental_health_past_30_days  \\\n",
       "0                          2.0                        10.0   \n",
       "1                          1.0                        88.0   \n",
       "2                          1.0                        88.0   \n",
       "3                          2.0                        10.0   \n",
       "4                         -1.0                        88.0   \n",
       "...                        ...                         ...   \n",
       "390138                     2.0                        20.0   \n",
       "390139                     2.0                        88.0   \n",
       "390140                     2.0                        88.0   \n",
       "390141                     2.0                        88.0   \n",
       "390142                     2.0                         2.0   \n",
       "\n",
       "        phys_health_past_30_days  kidney_disease  depression  blind  \\\n",
       "0                           20.0             2.0         2.0    2.0   \n",
       "1                           88.0             1.0         2.0    1.0   \n",
       "2                           88.0             2.0         2.0    2.0   \n",
       "3                           88.0             2.0         2.0    2.0   \n",
       "4                           30.0             2.0         2.0    2.0   \n",
       "...                          ...             ...         ...    ...   \n",
       "390138                      88.0             2.0         1.0    2.0   \n",
       "390139                      88.0             2.0         2.0    1.0   \n",
       "390140                      88.0             2.0         2.0    2.0   \n",
       "390141                      88.0             2.0         2.0    2.0   \n",
       "390142                       2.0             2.0         2.0    2.0   \n",
       "\n",
       "        cognitive_diff  diagnosed_diabetes  \n",
       "0                  2.0                 2.0  \n",
       "1                  1.0                 1.0  \n",
       "2                  2.0                 1.0  \n",
       "3                  2.0                 1.0  \n",
       "4                  2.0                 1.0  \n",
       "...                ...                 ...  \n",
       "390138             2.0                 1.0  \n",
       "390139             1.0                 1.0  \n",
       "390140             2.0                 2.0  \n",
       "390141             2.0                 2.0  \n",
       "390142             2.0                 2.0  \n",
       "\n",
       "[390143 rows x 27 columns]"
      ]
     },
     "execution_count": 11,
     "metadata": {},
     "output_type": "execute_result"
    }
   ],
   "source": [
    "#importamos el dataset\n",
    "import pandas as pd\n",
    "URL = \"https://media.githubusercontent.com/media/UnleashedBest/Diabetes_Risk_Prediction/master/data/processed/BRFSS2021T.csv\"\n",
    "df_diabetes = pd.read_csv(URL)\n",
    "df_diabetes"
   ]
  },
  {
   "cell_type": "markdown",
   "id": "03edbf3e",
   "metadata": {
    "canvas": {
     "comments": [],
     "componentType": "CodeCell",
     "copiedOriginId": null,
     "diskcache": false,
     "headerColor": "none",
     "id": "b6bc3fa5-dd85-4c47-b3a4-6cf4fe5d5cb0",
     "isComponent": false,
     "name": "",
     "parents": []
    },
    "id": "03edbf3e"
   },
   "source": [
    "# Model + Stratified KFold"
   ]
  },
  {
   "cell_type": "code",
   "execution_count": 12,
   "id": "b179b061",
   "metadata": {},
   "outputs": [
    {
     "name": "stdout",
     "output_type": "stream",
     "text": [
      "TRAIN: [ 38785  38786  38787 ... 390140 390141 390142] TEST: [    0     1     2 ... 40281 40282 40283]\n",
      "TRAIN: [     0      1      2 ... 390140 390141 390142] TEST: [38785 38786 38787 ... 78986 78991 78993]\n",
      "TRAIN: [     0      1      2 ... 390140 390141 390142] TEST: [ 77817  77820  77821 ... 117113 117114 117115]\n",
      "TRAIN: [     0      1      2 ... 390140 390141 390142] TEST: [116638 116645 116651 ... 158063 158067 158077]\n",
      "TRAIN: [     0      1      2 ... 390140 390141 390142] TEST: [155665 155666 155667 ... 197417 197433 197440]\n",
      "TRAIN: [     0      1      2 ... 390140 390141 390142] TEST: [194614 194615 194616 ... 236312 236319 236320]\n",
      "TRAIN: [     0      1      2 ... 390140 390141 390142] TEST: [233525 233526 233528 ... 275147 275148 275149]\n",
      "TRAIN: [     0      1      2 ... 390140 390141 390142] TEST: [272548 272549 272550 ... 313237 313246 313249]\n",
      "TRAIN: [     0      1      2 ... 390140 390141 390142] TEST: [311843 311845 311847 ... 351578 351579 351581]\n",
      "TRAIN: [     0      1      2 ... 351578 351579 351581] TEST: [351062 351063 351064 ... 390140 390141 390142]\n",
      "Random Forest\n",
      "accuracy: 0.8046280114051404\n",
      "precision: 0.43212332959163646\n",
      "recall: 0.2641946452355374\n"
     ]
    }
   ],
   "source": [
    "# Define X and Y\n",
    "X = df_diabetes.iloc[:,:-1].values\n",
    "y = df_diabetes.iloc[:, -1].values\n",
    "\n",
    "#Importing metrics\n",
    "import numpy as np\n",
    "from sklearn.metrics import accuracy_score, precision_score, recall_score\n",
    "\n",
    "# Importing the model\n",
    "\n",
    "from sklearn.ensemble import RandomForestClassifier\n",
    "\n",
    "# Importing Kfold\n",
    "from sklearn.model_selection import StratifiedKFold\n",
    "\n",
    "# Creating dictionary for the metrics\n",
    "random_forest_accuracy = []\n",
    "random_forest_precision = []\n",
    "random_forest_recall = []\n",
    "\n",
    "# setting the number of splits\n",
    "skf = StratifiedKFold(n_splits=10, random_state = None)\n",
    "skf.get_n_splits(X, y)\n",
    "\n",
    "# dividiendo en train y test\n",
    "\n",
    "for train_index, test_index in skf.split(X, y):\n",
    "    print(\"TRAIN:\", train_index, \"TEST:\", test_index)\n",
    "    X_train, X_test = X[train_index], X[test_index]\n",
    "    y_train, y_test = y[train_index], y[test_index]\n",
    "\n",
    "# Iniciating Random Forest and saving the metrics\n",
    "    random_forest = RandomForestClassifier(n_estimators = 10, criterion = 'entropy', random_state = 0)\n",
    "    random_forest.fit(X_train, y_train)\n",
    "    random_forest_prediction = random_forest.predict(X_test)\n",
    "\n",
    "    random_forest_accuracy.append(accuracy_score(random_forest_prediction, y_test))\n",
    "    random_forest_precision.append(precision_score(y_test,random_forest_prediction))\n",
    "    random_forest_recall.append(recall_score(y_test,random_forest_prediction))\n",
    "\n",
    "# Show results\n",
    "\n",
    "print(\"Random Forest\")\n",
    "print(\"accuracy:\", np.array(random_forest_accuracy).mean())\n",
    "print(\"precision:\", np.array(random_forest_precision).mean())\n",
    "print(\"recall:\", np.array(random_forest_recall).mean())"
   ]
  },
  {
   "cell_type": "markdown",
   "id": "afca73a1",
   "metadata": {},
   "source": [
    "Optuna Tuning"
   ]
  },
  {
   "cell_type": "code",
   "execution_count": 14,
   "id": "bbe09850",
   "metadata": {},
   "outputs": [
    {
     "name": "stderr",
     "output_type": "stream",
     "text": [
      "\u001b[32m[I 2022-11-25 11:11:51,159]\u001b[0m A new study created in memory with name: no-name-018fb7e5-7f5f-410c-b204-722f9ad4bb34\u001b[0m\n",
      "\u001b[32m[I 2022-11-25 11:12:25,517]\u001b[0m Trial 0 finished with value: 0.7041332906224054 and parameters: {'max_depth': 2, 'min_inst': 10}. Best is trial 0 with value: 0.7041332906224054.\u001b[0m\n",
      "\u001b[32m[I 2022-11-25 11:13:00,299]\u001b[0m Trial 1 finished with value: 0.7041332906224054 and parameters: {'max_depth': 50, 'min_inst': 18}. Best is trial 0 with value: 0.7041332906224054.\u001b[0m\n",
      "\u001b[32m[I 2022-11-25 11:13:35,740]\u001b[0m Trial 2 finished with value: 0.7041332906224054 and parameters: {'max_depth': 22, 'min_inst': 29}. Best is trial 0 with value: 0.7041332906224054.\u001b[0m\n",
      "\u001b[32m[I 2022-11-25 11:14:09,136]\u001b[0m Trial 3 finished with value: 0.7041332906224054 and parameters: {'max_depth': 2, 'min_inst': 19}. Best is trial 0 with value: 0.7041332906224054.\u001b[0m\n",
      "\u001b[32m[I 2022-11-25 11:14:42,818]\u001b[0m Trial 4 finished with value: 0.7041332906224054 and parameters: {'max_depth': 47, 'min_inst': 16}. Best is trial 0 with value: 0.7041332906224054.\u001b[0m\n",
      "\u001b[32m[I 2022-11-25 11:15:19,018]\u001b[0m Trial 5 finished with value: 0.7041332906224054 and parameters: {'max_depth': 12, 'min_inst': 10}. Best is trial 0 with value: 0.7041332906224054.\u001b[0m\n",
      "\u001b[32m[I 2022-11-25 11:15:53,989]\u001b[0m Trial 6 finished with value: 0.7041332906224054 and parameters: {'max_depth': 20, 'min_inst': 8}. Best is trial 0 with value: 0.7041332906224054.\u001b[0m\n",
      "\u001b[32m[I 2022-11-25 11:16:30,831]\u001b[0m Trial 7 finished with value: 0.7041332906224054 and parameters: {'max_depth': 46, 'min_inst': 1}. Best is trial 0 with value: 0.7041332906224054.\u001b[0m\n",
      "\u001b[32m[I 2022-11-25 11:17:03,724]\u001b[0m Trial 8 finished with value: 0.7041332906224054 and parameters: {'max_depth': 46, 'min_inst': 9}. Best is trial 0 with value: 0.7041332906224054.\u001b[0m\n",
      "\u001b[32m[I 2022-11-25 11:17:36,321]\u001b[0m Trial 9 finished with value: 0.7041332906224054 and parameters: {'max_depth': 6, 'min_inst': 2}. Best is trial 0 with value: 0.7041332906224054.\u001b[0m\n",
      "\u001b[32m[I 2022-11-25 11:18:07,165]\u001b[0m Trial 10 finished with value: 0.7041332906224054 and parameters: {'max_depth': 33, 'min_inst': 32}. Best is trial 0 with value: 0.7041332906224054.\u001b[0m\n",
      "\u001b[32m[I 2022-11-25 11:18:38,497]\u001b[0m Trial 11 finished with value: 0.7041332906224054 and parameters: {'max_depth': 62, 'min_inst': 20}. Best is trial 0 with value: 0.7041332906224054.\u001b[0m\n",
      "\u001b[32m[I 2022-11-25 11:19:11,034]\u001b[0m Trial 12 finished with value: 0.7041332906224054 and parameters: {'max_depth': 64, 'min_inst': 24}. Best is trial 0 with value: 0.7041332906224054.\u001b[0m\n",
      "\u001b[32m[I 2022-11-25 11:19:42,485]\u001b[0m Trial 13 finished with value: 0.7041332906224054 and parameters: {'max_depth': 33, 'min_inst': 14}. Best is trial 0 with value: 0.7041332906224054.\u001b[0m\n",
      "\u001b[32m[I 2022-11-25 11:20:18,681]\u001b[0m Trial 14 finished with value: 0.7041332906224054 and parameters: {'max_depth': 54, 'min_inst': 23}. Best is trial 0 with value: 0.7041332906224054.\u001b[0m\n",
      "\u001b[32m[I 2022-11-25 11:20:54,131]\u001b[0m Trial 15 finished with value: 0.7041332906224054 and parameters: {'max_depth': 20, 'min_inst': 13}. Best is trial 0 with value: 0.7041332906224054.\u001b[0m\n",
      "\u001b[32m[I 2022-11-25 11:21:27,836]\u001b[0m Trial 16 finished with value: 0.7041332906224054 and parameters: {'max_depth': 39, 'min_inst': 5}. Best is trial 0 with value: 0.7041332906224054.\u001b[0m\n",
      "\u001b[32m[I 2022-11-25 11:22:02,922]\u001b[0m Trial 17 finished with value: 0.7041332906224054 and parameters: {'max_depth': 56, 'min_inst': 24}. Best is trial 0 with value: 0.7041332906224054.\u001b[0m\n",
      "\u001b[32m[I 2022-11-25 11:22:54,069]\u001b[0m Trial 18 finished with value: 0.7041332906224054 and parameters: {'max_depth': 18, 'min_inst': 13}. Best is trial 0 with value: 0.7041332906224054.\u001b[0m\n",
      "\u001b[32m[I 2022-11-25 11:23:44,815]\u001b[0m Trial 19 finished with value: 0.7041332906224054 and parameters: {'max_depth': 39, 'min_inst': 5}. Best is trial 0 with value: 0.7041332906224054.\u001b[0m\n"
     ]
    }
   ],
   "source": [
    "from sklearn.model_selection import cross_val_score\n",
    "import optuna\n",
    "def dtree_objective(trial):\n",
    "    \n",
    "    md = trial.suggest_int('max_depth', 2, 64)\n",
    "    mi = trial.suggest_int('min_inst', 1, 32)\n",
    "    \n",
    "    clf =  RandomForestClassifier(n_estimators = 10, criterion = 'entropy', random_state = 0)\n",
    "    scores = cross_val_score(clf, X_train, y_train, cv=5, scoring='roc_auc')\n",
    "    \n",
    "    return scores.mean()\n",
    "    \n",
    "random_forest_study = optuna.create_study(direction='maximize')\n",
    "random_forest_study.optimize(dtree_objective, n_trials=20)"
   ]
  },
  {
   "cell_type": "code",
   "execution_count": null,
   "id": "9d116333",
   "metadata": {},
   "outputs": [
    {
     "name": "stdout",
     "output_type": "stream",
     "text": [
      "0.7041332906224054\n",
      "{'max_depth': 28, 'min_inst': 15}\n"
     ]
    }
   ],
   "source": [
    "#vemos los resultados\n",
    "print(random_forest.best_value)\n",
    "print(random_forest.best_params)"
   ]
  },
  {
   "cell_type": "code",
   "execution_count": null,
   "id": "0e22e4d5",
   "metadata": {},
   "outputs": [
    {
     "data": {
      "application/vnd.plotly.v1+json": {
       "config": {
        "plotlyServerURL": "https://plot.ly"
       },
       "data": [
        {
         "mode": "markers",
         "name": "Objective Value",
         "type": "scatter",
         "x": [
          0,
          1,
          2,
          3,
          4,
          5,
          6,
          7,
          8,
          9,
          10,
          11,
          12,
          13,
          14,
          15,
          16,
          17,
          18,
          19
         ],
         "y": [
          0.7041332906224054,
          0.7041332906224054,
          0.7041332906224054,
          0.7041332906224054,
          0.7041332906224054,
          0.7041332906224054,
          0.7041332906224054,
          0.7041332906224054,
          0.7041332906224054,
          0.7041332906224054,
          0.7041332906224054,
          0.7041332906224054,
          0.7041332906224054,
          0.7041332906224054,
          0.7041332906224054,
          0.7041332906224054,
          0.7041332906224054,
          0.7041332906224054,
          0.7041332906224054,
          0.7041332906224054
         ]
        },
        {
         "name": "Best Value",
         "type": "scatter",
         "x": [
          0,
          1,
          2,
          3,
          4,
          5,
          6,
          7,
          8,
          9,
          10,
          11,
          12,
          13,
          14,
          15,
          16,
          17,
          18,
          19
         ],
         "y": [
          0.7041332906224054,
          0.7041332906224054,
          0.7041332906224054,
          0.7041332906224054,
          0.7041332906224054,
          0.7041332906224054,
          0.7041332906224054,
          0.7041332906224054,
          0.7041332906224054,
          0.7041332906224054,
          0.7041332906224054,
          0.7041332906224054,
          0.7041332906224054,
          0.7041332906224054,
          0.7041332906224054,
          0.7041332906224054,
          0.7041332906224054,
          0.7041332906224054,
          0.7041332906224054,
          0.7041332906224054
         ]
        }
       ],
       "layout": {
        "template": {
         "data": {
          "bar": [
           {
            "error_x": {
             "color": "#2a3f5f"
            },
            "error_y": {
             "color": "#2a3f5f"
            },
            "marker": {
             "line": {
              "color": "#E5ECF6",
              "width": 0.5
             },
             "pattern": {
              "fillmode": "overlay",
              "size": 10,
              "solidity": 0.2
             }
            },
            "type": "bar"
           }
          ],
          "barpolar": [
           {
            "marker": {
             "line": {
              "color": "#E5ECF6",
              "width": 0.5
             },
             "pattern": {
              "fillmode": "overlay",
              "size": 10,
              "solidity": 0.2
             }
            },
            "type": "barpolar"
           }
          ],
          "carpet": [
           {
            "aaxis": {
             "endlinecolor": "#2a3f5f",
             "gridcolor": "white",
             "linecolor": "white",
             "minorgridcolor": "white",
             "startlinecolor": "#2a3f5f"
            },
            "baxis": {
             "endlinecolor": "#2a3f5f",
             "gridcolor": "white",
             "linecolor": "white",
             "minorgridcolor": "white",
             "startlinecolor": "#2a3f5f"
            },
            "type": "carpet"
           }
          ],
          "choropleth": [
           {
            "colorbar": {
             "outlinewidth": 0,
             "ticks": ""
            },
            "type": "choropleth"
           }
          ],
          "contour": [
           {
            "colorbar": {
             "outlinewidth": 0,
             "ticks": ""
            },
            "colorscale": [
             [
              0,
              "#0d0887"
             ],
             [
              0.1111111111111111,
              "#46039f"
             ],
             [
              0.2222222222222222,
              "#7201a8"
             ],
             [
              0.3333333333333333,
              "#9c179e"
             ],
             [
              0.4444444444444444,
              "#bd3786"
             ],
             [
              0.5555555555555556,
              "#d8576b"
             ],
             [
              0.6666666666666666,
              "#ed7953"
             ],
             [
              0.7777777777777778,
              "#fb9f3a"
             ],
             [
              0.8888888888888888,
              "#fdca26"
             ],
             [
              1,
              "#f0f921"
             ]
            ],
            "type": "contour"
           }
          ],
          "contourcarpet": [
           {
            "colorbar": {
             "outlinewidth": 0,
             "ticks": ""
            },
            "type": "contourcarpet"
           }
          ],
          "heatmap": [
           {
            "colorbar": {
             "outlinewidth": 0,
             "ticks": ""
            },
            "colorscale": [
             [
              0,
              "#0d0887"
             ],
             [
              0.1111111111111111,
              "#46039f"
             ],
             [
              0.2222222222222222,
              "#7201a8"
             ],
             [
              0.3333333333333333,
              "#9c179e"
             ],
             [
              0.4444444444444444,
              "#bd3786"
             ],
             [
              0.5555555555555556,
              "#d8576b"
             ],
             [
              0.6666666666666666,
              "#ed7953"
             ],
             [
              0.7777777777777778,
              "#fb9f3a"
             ],
             [
              0.8888888888888888,
              "#fdca26"
             ],
             [
              1,
              "#f0f921"
             ]
            ],
            "type": "heatmap"
           }
          ],
          "heatmapgl": [
           {
            "colorbar": {
             "outlinewidth": 0,
             "ticks": ""
            },
            "colorscale": [
             [
              0,
              "#0d0887"
             ],
             [
              0.1111111111111111,
              "#46039f"
             ],
             [
              0.2222222222222222,
              "#7201a8"
             ],
             [
              0.3333333333333333,
              "#9c179e"
             ],
             [
              0.4444444444444444,
              "#bd3786"
             ],
             [
              0.5555555555555556,
              "#d8576b"
             ],
             [
              0.6666666666666666,
              "#ed7953"
             ],
             [
              0.7777777777777778,
              "#fb9f3a"
             ],
             [
              0.8888888888888888,
              "#fdca26"
             ],
             [
              1,
              "#f0f921"
             ]
            ],
            "type": "heatmapgl"
           }
          ],
          "histogram": [
           {
            "marker": {
             "pattern": {
              "fillmode": "overlay",
              "size": 10,
              "solidity": 0.2
             }
            },
            "type": "histogram"
           }
          ],
          "histogram2d": [
           {
            "colorbar": {
             "outlinewidth": 0,
             "ticks": ""
            },
            "colorscale": [
             [
              0,
              "#0d0887"
             ],
             [
              0.1111111111111111,
              "#46039f"
             ],
             [
              0.2222222222222222,
              "#7201a8"
             ],
             [
              0.3333333333333333,
              "#9c179e"
             ],
             [
              0.4444444444444444,
              "#bd3786"
             ],
             [
              0.5555555555555556,
              "#d8576b"
             ],
             [
              0.6666666666666666,
              "#ed7953"
             ],
             [
              0.7777777777777778,
              "#fb9f3a"
             ],
             [
              0.8888888888888888,
              "#fdca26"
             ],
             [
              1,
              "#f0f921"
             ]
            ],
            "type": "histogram2d"
           }
          ],
          "histogram2dcontour": [
           {
            "colorbar": {
             "outlinewidth": 0,
             "ticks": ""
            },
            "colorscale": [
             [
              0,
              "#0d0887"
             ],
             [
              0.1111111111111111,
              "#46039f"
             ],
             [
              0.2222222222222222,
              "#7201a8"
             ],
             [
              0.3333333333333333,
              "#9c179e"
             ],
             [
              0.4444444444444444,
              "#bd3786"
             ],
             [
              0.5555555555555556,
              "#d8576b"
             ],
             [
              0.6666666666666666,
              "#ed7953"
             ],
             [
              0.7777777777777778,
              "#fb9f3a"
             ],
             [
              0.8888888888888888,
              "#fdca26"
             ],
             [
              1,
              "#f0f921"
             ]
            ],
            "type": "histogram2dcontour"
           }
          ],
          "mesh3d": [
           {
            "colorbar": {
             "outlinewidth": 0,
             "ticks": ""
            },
            "type": "mesh3d"
           }
          ],
          "parcoords": [
           {
            "line": {
             "colorbar": {
              "outlinewidth": 0,
              "ticks": ""
             }
            },
            "type": "parcoords"
           }
          ],
          "pie": [
           {
            "automargin": true,
            "type": "pie"
           }
          ],
          "scatter": [
           {
            "fillpattern": {
             "fillmode": "overlay",
             "size": 10,
             "solidity": 0.2
            },
            "type": "scatter"
           }
          ],
          "scatter3d": [
           {
            "line": {
             "colorbar": {
              "outlinewidth": 0,
              "ticks": ""
             }
            },
            "marker": {
             "colorbar": {
              "outlinewidth": 0,
              "ticks": ""
             }
            },
            "type": "scatter3d"
           }
          ],
          "scattercarpet": [
           {
            "marker": {
             "colorbar": {
              "outlinewidth": 0,
              "ticks": ""
             }
            },
            "type": "scattercarpet"
           }
          ],
          "scattergeo": [
           {
            "marker": {
             "colorbar": {
              "outlinewidth": 0,
              "ticks": ""
             }
            },
            "type": "scattergeo"
           }
          ],
          "scattergl": [
           {
            "marker": {
             "colorbar": {
              "outlinewidth": 0,
              "ticks": ""
             }
            },
            "type": "scattergl"
           }
          ],
          "scattermapbox": [
           {
            "marker": {
             "colorbar": {
              "outlinewidth": 0,
              "ticks": ""
             }
            },
            "type": "scattermapbox"
           }
          ],
          "scatterpolar": [
           {
            "marker": {
             "colorbar": {
              "outlinewidth": 0,
              "ticks": ""
             }
            },
            "type": "scatterpolar"
           }
          ],
          "scatterpolargl": [
           {
            "marker": {
             "colorbar": {
              "outlinewidth": 0,
              "ticks": ""
             }
            },
            "type": "scatterpolargl"
           }
          ],
          "scatterternary": [
           {
            "marker": {
             "colorbar": {
              "outlinewidth": 0,
              "ticks": ""
             }
            },
            "type": "scatterternary"
           }
          ],
          "surface": [
           {
            "colorbar": {
             "outlinewidth": 0,
             "ticks": ""
            },
            "colorscale": [
             [
              0,
              "#0d0887"
             ],
             [
              0.1111111111111111,
              "#46039f"
             ],
             [
              0.2222222222222222,
              "#7201a8"
             ],
             [
              0.3333333333333333,
              "#9c179e"
             ],
             [
              0.4444444444444444,
              "#bd3786"
             ],
             [
              0.5555555555555556,
              "#d8576b"
             ],
             [
              0.6666666666666666,
              "#ed7953"
             ],
             [
              0.7777777777777778,
              "#fb9f3a"
             ],
             [
              0.8888888888888888,
              "#fdca26"
             ],
             [
              1,
              "#f0f921"
             ]
            ],
            "type": "surface"
           }
          ],
          "table": [
           {
            "cells": {
             "fill": {
              "color": "#EBF0F8"
             },
             "line": {
              "color": "white"
             }
            },
            "header": {
             "fill": {
              "color": "#C8D4E3"
             },
             "line": {
              "color": "white"
             }
            },
            "type": "table"
           }
          ]
         },
         "layout": {
          "annotationdefaults": {
           "arrowcolor": "#2a3f5f",
           "arrowhead": 0,
           "arrowwidth": 1
          },
          "autotypenumbers": "strict",
          "coloraxis": {
           "colorbar": {
            "outlinewidth": 0,
            "ticks": ""
           }
          },
          "colorscale": {
           "diverging": [
            [
             0,
             "#8e0152"
            ],
            [
             0.1,
             "#c51b7d"
            ],
            [
             0.2,
             "#de77ae"
            ],
            [
             0.3,
             "#f1b6da"
            ],
            [
             0.4,
             "#fde0ef"
            ],
            [
             0.5,
             "#f7f7f7"
            ],
            [
             0.6,
             "#e6f5d0"
            ],
            [
             0.7,
             "#b8e186"
            ],
            [
             0.8,
             "#7fbc41"
            ],
            [
             0.9,
             "#4d9221"
            ],
            [
             1,
             "#276419"
            ]
           ],
           "sequential": [
            [
             0,
             "#0d0887"
            ],
            [
             0.1111111111111111,
             "#46039f"
            ],
            [
             0.2222222222222222,
             "#7201a8"
            ],
            [
             0.3333333333333333,
             "#9c179e"
            ],
            [
             0.4444444444444444,
             "#bd3786"
            ],
            [
             0.5555555555555556,
             "#d8576b"
            ],
            [
             0.6666666666666666,
             "#ed7953"
            ],
            [
             0.7777777777777778,
             "#fb9f3a"
            ],
            [
             0.8888888888888888,
             "#fdca26"
            ],
            [
             1,
             "#f0f921"
            ]
           ],
           "sequentialminus": [
            [
             0,
             "#0d0887"
            ],
            [
             0.1111111111111111,
             "#46039f"
            ],
            [
             0.2222222222222222,
             "#7201a8"
            ],
            [
             0.3333333333333333,
             "#9c179e"
            ],
            [
             0.4444444444444444,
             "#bd3786"
            ],
            [
             0.5555555555555556,
             "#d8576b"
            ],
            [
             0.6666666666666666,
             "#ed7953"
            ],
            [
             0.7777777777777778,
             "#fb9f3a"
            ],
            [
             0.8888888888888888,
             "#fdca26"
            ],
            [
             1,
             "#f0f921"
            ]
           ]
          },
          "colorway": [
           "#636efa",
           "#EF553B",
           "#00cc96",
           "#ab63fa",
           "#FFA15A",
           "#19d3f3",
           "#FF6692",
           "#B6E880",
           "#FF97FF",
           "#FECB52"
          ],
          "font": {
           "color": "#2a3f5f"
          },
          "geo": {
           "bgcolor": "white",
           "lakecolor": "white",
           "landcolor": "#E5ECF6",
           "showlakes": true,
           "showland": true,
           "subunitcolor": "white"
          },
          "hoverlabel": {
           "align": "left"
          },
          "hovermode": "closest",
          "mapbox": {
           "style": "light"
          },
          "paper_bgcolor": "white",
          "plot_bgcolor": "#E5ECF6",
          "polar": {
           "angularaxis": {
            "gridcolor": "white",
            "linecolor": "white",
            "ticks": ""
           },
           "bgcolor": "#E5ECF6",
           "radialaxis": {
            "gridcolor": "white",
            "linecolor": "white",
            "ticks": ""
           }
          },
          "scene": {
           "xaxis": {
            "backgroundcolor": "#E5ECF6",
            "gridcolor": "white",
            "gridwidth": 2,
            "linecolor": "white",
            "showbackground": true,
            "ticks": "",
            "zerolinecolor": "white"
           },
           "yaxis": {
            "backgroundcolor": "#E5ECF6",
            "gridcolor": "white",
            "gridwidth": 2,
            "linecolor": "white",
            "showbackground": true,
            "ticks": "",
            "zerolinecolor": "white"
           },
           "zaxis": {
            "backgroundcolor": "#E5ECF6",
            "gridcolor": "white",
            "gridwidth": 2,
            "linecolor": "white",
            "showbackground": true,
            "ticks": "",
            "zerolinecolor": "white"
           }
          },
          "shapedefaults": {
           "line": {
            "color": "#2a3f5f"
           }
          },
          "ternary": {
           "aaxis": {
            "gridcolor": "white",
            "linecolor": "white",
            "ticks": ""
           },
           "baxis": {
            "gridcolor": "white",
            "linecolor": "white",
            "ticks": ""
           },
           "bgcolor": "#E5ECF6",
           "caxis": {
            "gridcolor": "white",
            "linecolor": "white",
            "ticks": ""
           }
          },
          "title": {
           "x": 0.05
          },
          "xaxis": {
           "automargin": true,
           "gridcolor": "white",
           "linecolor": "white",
           "ticks": "",
           "title": {
            "standoff": 15
           },
           "zerolinecolor": "white",
           "zerolinewidth": 2
          },
          "yaxis": {
           "automargin": true,
           "gridcolor": "white",
           "linecolor": "white",
           "ticks": "",
           "title": {
            "standoff": 15
           },
           "zerolinecolor": "white",
           "zerolinewidth": 2
          }
         }
        },
        "title": {
         "text": "Optimization History Plot"
        },
        "xaxis": {
         "title": {
          "text": "Trial"
         }
        },
        "yaxis": {
         "title": {
          "text": "Objective Value"
         }
        }
       }
      }
     },
     "metadata": {},
     "output_type": "display_data"
    }
   ],
   "source": [
    "#Visualizamos los resultados\n",
    "from optuna.visualization import plot_optimization_history, plot_slice\n",
    "plot_optimization_history(random_forest)"
   ]
  },
  {
   "cell_type": "code",
   "execution_count": null,
   "id": "8f5e0a9b",
   "metadata": {},
   "outputs": [
    {
     "data": {
      "application/vnd.plotly.v1+json": {
       "config": {
        "plotlyServerURL": "https://plot.ly"
       },
       "data": [
        {
         "marker": {
          "color": [
           0,
           1,
           2,
           3,
           4,
           5,
           6,
           7,
           8,
           9,
           10,
           11,
           12,
           13,
           14,
           15,
           16,
           17,
           18,
           19
          ],
          "colorbar": {
           "title": {
            "text": "Trial"
           },
           "x": 1,
           "xpad": 40
          },
          "colorscale": [
           [
            0,
            "rgb(247,251,255)"
           ],
           [
            0.125,
            "rgb(222,235,247)"
           ],
           [
            0.25,
            "rgb(198,219,239)"
           ],
           [
            0.375,
            "rgb(158,202,225)"
           ],
           [
            0.5,
            "rgb(107,174,214)"
           ],
           [
            0.625,
            "rgb(66,146,198)"
           ],
           [
            0.75,
            "rgb(33,113,181)"
           ],
           [
            0.875,
            "rgb(8,81,156)"
           ],
           [
            1,
            "rgb(8,48,107)"
           ]
          ],
          "line": {
           "color": "Grey",
           "width": 0.5
          },
          "showscale": true
         },
         "mode": "markers",
         "showlegend": false,
         "type": "scatter",
         "x": [
          28,
          42,
          63,
          34,
          24,
          57,
          45,
          17,
          29,
          29,
          11,
          42,
          45,
          2,
          39,
          52,
          22,
          35,
          55,
          20
         ],
         "xaxis": "x",
         "y": [
          0.7041332906224054,
          0.7041332906224054,
          0.7041332906224054,
          0.7041332906224054,
          0.7041332906224054,
          0.7041332906224054,
          0.7041332906224054,
          0.7041332906224054,
          0.7041332906224054,
          0.7041332906224054,
          0.7041332906224054,
          0.7041332906224054,
          0.7041332906224054,
          0.7041332906224054,
          0.7041332906224054,
          0.7041332906224054,
          0.7041332906224054,
          0.7041332906224054,
          0.7041332906224054,
          0.7041332906224054
         ],
         "yaxis": "y"
        },
        {
         "marker": {
          "color": [
           0,
           1,
           2,
           3,
           4,
           5,
           6,
           7,
           8,
           9,
           10,
           11,
           12,
           13,
           14,
           15,
           16,
           17,
           18,
           19
          ],
          "colorbar": {
           "title": {
            "text": "Trial"
           },
           "x": 1,
           "xpad": 40
          },
          "colorscale": [
           [
            0,
            "rgb(247,251,255)"
           ],
           [
            0.125,
            "rgb(222,235,247)"
           ],
           [
            0.25,
            "rgb(198,219,239)"
           ],
           [
            0.375,
            "rgb(158,202,225)"
           ],
           [
            0.5,
            "rgb(107,174,214)"
           ],
           [
            0.625,
            "rgb(66,146,198)"
           ],
           [
            0.75,
            "rgb(33,113,181)"
           ],
           [
            0.875,
            "rgb(8,81,156)"
           ],
           [
            1,
            "rgb(8,48,107)"
           ]
          ],
          "line": {
           "color": "Grey",
           "width": 0.5
          },
          "showscale": false
         },
         "mode": "markers",
         "showlegend": false,
         "type": "scatter",
         "x": [
          15,
          28,
          13,
          25,
          4,
          23,
          12,
          6,
          10,
          32,
          18,
          32,
          21,
          27,
          17,
          20,
          1,
          15,
          20,
          1
         ],
         "xaxis": "x2",
         "y": [
          0.7041332906224054,
          0.7041332906224054,
          0.7041332906224054,
          0.7041332906224054,
          0.7041332906224054,
          0.7041332906224054,
          0.7041332906224054,
          0.7041332906224054,
          0.7041332906224054,
          0.7041332906224054,
          0.7041332906224054,
          0.7041332906224054,
          0.7041332906224054,
          0.7041332906224054,
          0.7041332906224054,
          0.7041332906224054,
          0.7041332906224054,
          0.7041332906224054,
          0.7041332906224054,
          0.7041332906224054
         ],
         "yaxis": "y2"
        }
       ],
       "layout": {
        "template": {
         "data": {
          "bar": [
           {
            "error_x": {
             "color": "#2a3f5f"
            },
            "error_y": {
             "color": "#2a3f5f"
            },
            "marker": {
             "line": {
              "color": "#E5ECF6",
              "width": 0.5
             },
             "pattern": {
              "fillmode": "overlay",
              "size": 10,
              "solidity": 0.2
             }
            },
            "type": "bar"
           }
          ],
          "barpolar": [
           {
            "marker": {
             "line": {
              "color": "#E5ECF6",
              "width": 0.5
             },
             "pattern": {
              "fillmode": "overlay",
              "size": 10,
              "solidity": 0.2
             }
            },
            "type": "barpolar"
           }
          ],
          "carpet": [
           {
            "aaxis": {
             "endlinecolor": "#2a3f5f",
             "gridcolor": "white",
             "linecolor": "white",
             "minorgridcolor": "white",
             "startlinecolor": "#2a3f5f"
            },
            "baxis": {
             "endlinecolor": "#2a3f5f",
             "gridcolor": "white",
             "linecolor": "white",
             "minorgridcolor": "white",
             "startlinecolor": "#2a3f5f"
            },
            "type": "carpet"
           }
          ],
          "choropleth": [
           {
            "colorbar": {
             "outlinewidth": 0,
             "ticks": ""
            },
            "type": "choropleth"
           }
          ],
          "contour": [
           {
            "colorbar": {
             "outlinewidth": 0,
             "ticks": ""
            },
            "colorscale": [
             [
              0,
              "#0d0887"
             ],
             [
              0.1111111111111111,
              "#46039f"
             ],
             [
              0.2222222222222222,
              "#7201a8"
             ],
             [
              0.3333333333333333,
              "#9c179e"
             ],
             [
              0.4444444444444444,
              "#bd3786"
             ],
             [
              0.5555555555555556,
              "#d8576b"
             ],
             [
              0.6666666666666666,
              "#ed7953"
             ],
             [
              0.7777777777777778,
              "#fb9f3a"
             ],
             [
              0.8888888888888888,
              "#fdca26"
             ],
             [
              1,
              "#f0f921"
             ]
            ],
            "type": "contour"
           }
          ],
          "contourcarpet": [
           {
            "colorbar": {
             "outlinewidth": 0,
             "ticks": ""
            },
            "type": "contourcarpet"
           }
          ],
          "heatmap": [
           {
            "colorbar": {
             "outlinewidth": 0,
             "ticks": ""
            },
            "colorscale": [
             [
              0,
              "#0d0887"
             ],
             [
              0.1111111111111111,
              "#46039f"
             ],
             [
              0.2222222222222222,
              "#7201a8"
             ],
             [
              0.3333333333333333,
              "#9c179e"
             ],
             [
              0.4444444444444444,
              "#bd3786"
             ],
             [
              0.5555555555555556,
              "#d8576b"
             ],
             [
              0.6666666666666666,
              "#ed7953"
             ],
             [
              0.7777777777777778,
              "#fb9f3a"
             ],
             [
              0.8888888888888888,
              "#fdca26"
             ],
             [
              1,
              "#f0f921"
             ]
            ],
            "type": "heatmap"
           }
          ],
          "heatmapgl": [
           {
            "colorbar": {
             "outlinewidth": 0,
             "ticks": ""
            },
            "colorscale": [
             [
              0,
              "#0d0887"
             ],
             [
              0.1111111111111111,
              "#46039f"
             ],
             [
              0.2222222222222222,
              "#7201a8"
             ],
             [
              0.3333333333333333,
              "#9c179e"
             ],
             [
              0.4444444444444444,
              "#bd3786"
             ],
             [
              0.5555555555555556,
              "#d8576b"
             ],
             [
              0.6666666666666666,
              "#ed7953"
             ],
             [
              0.7777777777777778,
              "#fb9f3a"
             ],
             [
              0.8888888888888888,
              "#fdca26"
             ],
             [
              1,
              "#f0f921"
             ]
            ],
            "type": "heatmapgl"
           }
          ],
          "histogram": [
           {
            "marker": {
             "pattern": {
              "fillmode": "overlay",
              "size": 10,
              "solidity": 0.2
             }
            },
            "type": "histogram"
           }
          ],
          "histogram2d": [
           {
            "colorbar": {
             "outlinewidth": 0,
             "ticks": ""
            },
            "colorscale": [
             [
              0,
              "#0d0887"
             ],
             [
              0.1111111111111111,
              "#46039f"
             ],
             [
              0.2222222222222222,
              "#7201a8"
             ],
             [
              0.3333333333333333,
              "#9c179e"
             ],
             [
              0.4444444444444444,
              "#bd3786"
             ],
             [
              0.5555555555555556,
              "#d8576b"
             ],
             [
              0.6666666666666666,
              "#ed7953"
             ],
             [
              0.7777777777777778,
              "#fb9f3a"
             ],
             [
              0.8888888888888888,
              "#fdca26"
             ],
             [
              1,
              "#f0f921"
             ]
            ],
            "type": "histogram2d"
           }
          ],
          "histogram2dcontour": [
           {
            "colorbar": {
             "outlinewidth": 0,
             "ticks": ""
            },
            "colorscale": [
             [
              0,
              "#0d0887"
             ],
             [
              0.1111111111111111,
              "#46039f"
             ],
             [
              0.2222222222222222,
              "#7201a8"
             ],
             [
              0.3333333333333333,
              "#9c179e"
             ],
             [
              0.4444444444444444,
              "#bd3786"
             ],
             [
              0.5555555555555556,
              "#d8576b"
             ],
             [
              0.6666666666666666,
              "#ed7953"
             ],
             [
              0.7777777777777778,
              "#fb9f3a"
             ],
             [
              0.8888888888888888,
              "#fdca26"
             ],
             [
              1,
              "#f0f921"
             ]
            ],
            "type": "histogram2dcontour"
           }
          ],
          "mesh3d": [
           {
            "colorbar": {
             "outlinewidth": 0,
             "ticks": ""
            },
            "type": "mesh3d"
           }
          ],
          "parcoords": [
           {
            "line": {
             "colorbar": {
              "outlinewidth": 0,
              "ticks": ""
             }
            },
            "type": "parcoords"
           }
          ],
          "pie": [
           {
            "automargin": true,
            "type": "pie"
           }
          ],
          "scatter": [
           {
            "fillpattern": {
             "fillmode": "overlay",
             "size": 10,
             "solidity": 0.2
            },
            "type": "scatter"
           }
          ],
          "scatter3d": [
           {
            "line": {
             "colorbar": {
              "outlinewidth": 0,
              "ticks": ""
             }
            },
            "marker": {
             "colorbar": {
              "outlinewidth": 0,
              "ticks": ""
             }
            },
            "type": "scatter3d"
           }
          ],
          "scattercarpet": [
           {
            "marker": {
             "colorbar": {
              "outlinewidth": 0,
              "ticks": ""
             }
            },
            "type": "scattercarpet"
           }
          ],
          "scattergeo": [
           {
            "marker": {
             "colorbar": {
              "outlinewidth": 0,
              "ticks": ""
             }
            },
            "type": "scattergeo"
           }
          ],
          "scattergl": [
           {
            "marker": {
             "colorbar": {
              "outlinewidth": 0,
              "ticks": ""
             }
            },
            "type": "scattergl"
           }
          ],
          "scattermapbox": [
           {
            "marker": {
             "colorbar": {
              "outlinewidth": 0,
              "ticks": ""
             }
            },
            "type": "scattermapbox"
           }
          ],
          "scatterpolar": [
           {
            "marker": {
             "colorbar": {
              "outlinewidth": 0,
              "ticks": ""
             }
            },
            "type": "scatterpolar"
           }
          ],
          "scatterpolargl": [
           {
            "marker": {
             "colorbar": {
              "outlinewidth": 0,
              "ticks": ""
             }
            },
            "type": "scatterpolargl"
           }
          ],
          "scatterternary": [
           {
            "marker": {
             "colorbar": {
              "outlinewidth": 0,
              "ticks": ""
             }
            },
            "type": "scatterternary"
           }
          ],
          "surface": [
           {
            "colorbar": {
             "outlinewidth": 0,
             "ticks": ""
            },
            "colorscale": [
             [
              0,
              "#0d0887"
             ],
             [
              0.1111111111111111,
              "#46039f"
             ],
             [
              0.2222222222222222,
              "#7201a8"
             ],
             [
              0.3333333333333333,
              "#9c179e"
             ],
             [
              0.4444444444444444,
              "#bd3786"
             ],
             [
              0.5555555555555556,
              "#d8576b"
             ],
             [
              0.6666666666666666,
              "#ed7953"
             ],
             [
              0.7777777777777778,
              "#fb9f3a"
             ],
             [
              0.8888888888888888,
              "#fdca26"
             ],
             [
              1,
              "#f0f921"
             ]
            ],
            "type": "surface"
           }
          ],
          "table": [
           {
            "cells": {
             "fill": {
              "color": "#EBF0F8"
             },
             "line": {
              "color": "white"
             }
            },
            "header": {
             "fill": {
              "color": "#C8D4E3"
             },
             "line": {
              "color": "white"
             }
            },
            "type": "table"
           }
          ]
         },
         "layout": {
          "annotationdefaults": {
           "arrowcolor": "#2a3f5f",
           "arrowhead": 0,
           "arrowwidth": 1
          },
          "autotypenumbers": "strict",
          "coloraxis": {
           "colorbar": {
            "outlinewidth": 0,
            "ticks": ""
           }
          },
          "colorscale": {
           "diverging": [
            [
             0,
             "#8e0152"
            ],
            [
             0.1,
             "#c51b7d"
            ],
            [
             0.2,
             "#de77ae"
            ],
            [
             0.3,
             "#f1b6da"
            ],
            [
             0.4,
             "#fde0ef"
            ],
            [
             0.5,
             "#f7f7f7"
            ],
            [
             0.6,
             "#e6f5d0"
            ],
            [
             0.7,
             "#b8e186"
            ],
            [
             0.8,
             "#7fbc41"
            ],
            [
             0.9,
             "#4d9221"
            ],
            [
             1,
             "#276419"
            ]
           ],
           "sequential": [
            [
             0,
             "#0d0887"
            ],
            [
             0.1111111111111111,
             "#46039f"
            ],
            [
             0.2222222222222222,
             "#7201a8"
            ],
            [
             0.3333333333333333,
             "#9c179e"
            ],
            [
             0.4444444444444444,
             "#bd3786"
            ],
            [
             0.5555555555555556,
             "#d8576b"
            ],
            [
             0.6666666666666666,
             "#ed7953"
            ],
            [
             0.7777777777777778,
             "#fb9f3a"
            ],
            [
             0.8888888888888888,
             "#fdca26"
            ],
            [
             1,
             "#f0f921"
            ]
           ],
           "sequentialminus": [
            [
             0,
             "#0d0887"
            ],
            [
             0.1111111111111111,
             "#46039f"
            ],
            [
             0.2222222222222222,
             "#7201a8"
            ],
            [
             0.3333333333333333,
             "#9c179e"
            ],
            [
             0.4444444444444444,
             "#bd3786"
            ],
            [
             0.5555555555555556,
             "#d8576b"
            ],
            [
             0.6666666666666666,
             "#ed7953"
            ],
            [
             0.7777777777777778,
             "#fb9f3a"
            ],
            [
             0.8888888888888888,
             "#fdca26"
            ],
            [
             1,
             "#f0f921"
            ]
           ]
          },
          "colorway": [
           "#636efa",
           "#EF553B",
           "#00cc96",
           "#ab63fa",
           "#FFA15A",
           "#19d3f3",
           "#FF6692",
           "#B6E880",
           "#FF97FF",
           "#FECB52"
          ],
          "font": {
           "color": "#2a3f5f"
          },
          "geo": {
           "bgcolor": "white",
           "lakecolor": "white",
           "landcolor": "#E5ECF6",
           "showlakes": true,
           "showland": true,
           "subunitcolor": "white"
          },
          "hoverlabel": {
           "align": "left"
          },
          "hovermode": "closest",
          "mapbox": {
           "style": "light"
          },
          "paper_bgcolor": "white",
          "plot_bgcolor": "#E5ECF6",
          "polar": {
           "angularaxis": {
            "gridcolor": "white",
            "linecolor": "white",
            "ticks": ""
           },
           "bgcolor": "#E5ECF6",
           "radialaxis": {
            "gridcolor": "white",
            "linecolor": "white",
            "ticks": ""
           }
          },
          "scene": {
           "xaxis": {
            "backgroundcolor": "#E5ECF6",
            "gridcolor": "white",
            "gridwidth": 2,
            "linecolor": "white",
            "showbackground": true,
            "ticks": "",
            "zerolinecolor": "white"
           },
           "yaxis": {
            "backgroundcolor": "#E5ECF6",
            "gridcolor": "white",
            "gridwidth": 2,
            "linecolor": "white",
            "showbackground": true,
            "ticks": "",
            "zerolinecolor": "white"
           },
           "zaxis": {
            "backgroundcolor": "#E5ECF6",
            "gridcolor": "white",
            "gridwidth": 2,
            "linecolor": "white",
            "showbackground": true,
            "ticks": "",
            "zerolinecolor": "white"
           }
          },
          "shapedefaults": {
           "line": {
            "color": "#2a3f5f"
           }
          },
          "ternary": {
           "aaxis": {
            "gridcolor": "white",
            "linecolor": "white",
            "ticks": ""
           },
           "baxis": {
            "gridcolor": "white",
            "linecolor": "white",
            "ticks": ""
           },
           "bgcolor": "#E5ECF6",
           "caxis": {
            "gridcolor": "white",
            "linecolor": "white",
            "ticks": ""
           }
          },
          "title": {
           "x": 0.05
          },
          "xaxis": {
           "automargin": true,
           "gridcolor": "white",
           "linecolor": "white",
           "ticks": "",
           "title": {
            "standoff": 15
           },
           "zerolinecolor": "white",
           "zerolinewidth": 2
          },
          "yaxis": {
           "automargin": true,
           "gridcolor": "white",
           "linecolor": "white",
           "ticks": "",
           "title": {
            "standoff": 15
           },
           "zerolinecolor": "white",
           "zerolinewidth": 2
          }
         }
        },
        "title": {
         "text": "Slice Plot"
        },
        "xaxis": {
         "anchor": "y",
         "domain": [
          0,
          0.45
         ],
         "title": {
          "text": "max_depth"
         }
        },
        "xaxis2": {
         "anchor": "y2",
         "domain": [
          0.55,
          1
         ],
         "title": {
          "text": "min_inst"
         }
        },
        "yaxis": {
         "anchor": "x",
         "domain": [
          0,
          1
         ],
         "title": {
          "text": "Objective Value"
         }
        },
        "yaxis2": {
         "anchor": "x2",
         "domain": [
          0,
          1
         ],
         "matches": "y",
         "showticklabels": false
        }
       }
      }
     },
     "metadata": {},
     "output_type": "display_data"
    }
   ],
   "source": [
    "plot_slice(random_forest_study)"
   ]
  },
  {
   "cell_type": "markdown",
   "id": "1a550b9b",
   "metadata": {},
   "source": [
    "Re training with hyperParameters"
   ]
  },
  {
   "cell_type": "code",
   "execution_count": null,
   "id": "662b6615",
   "metadata": {},
   "outputs": [],
   "source": [
    "#Definimos nuetras X e Y\n",
    "X = df_diabetes.iloc[:, :-1].values\n",
    "Y = df_diabetes['diagnosed_diabetes'].values.reshape(-1,1)"
   ]
  },
  {
   "cell_type": "code",
   "execution_count": null,
   "id": "d03fde0f",
   "metadata": {},
   "outputs": [],
   "source": [
    "# Iniciamos el modelo\n",
    "\n",
    "random_forest_optuna = RandomForestClassifier(n_estimators = 10, criterion = 'entropy', random_state = 0)"
   ]
  },
  {
   "cell_type": "code",
   "execution_count": null,
   "id": "e7789979",
   "metadata": {},
   "outputs": [],
   "source": [
    "#iniciamos el SKF\n",
    "from sklearn.model_selection import StratifiedKFold\n",
    "skf = StratifiedKFold(n_splits=10)\n",
    "skf.get_n_splits(X, Y)\n",
    "random_forest_scores = {'accuracy_scores':[],'precision_scores':[],'recall_scores':[]}"
   ]
  },
  {
   "cell_type": "code",
   "execution_count": null,
   "id": "300cebfa",
   "metadata": {},
   "outputs": [
    {
     "ename": "NameError",
     "evalue": "name 'model' is not defined",
     "output_type": "error",
     "traceback": [
      "\u001b[1;31m---------------------------------------------------------------------------\u001b[0m",
      "\u001b[1;31mNameError\u001b[0m                                 Traceback (most recent call last)",
      "\u001b[1;32mc:\\Users\\yuzov\\Documents\\GitHub\\Diabetes_Risk_Prediction\\notebooks\\03.2 MLA - Random Forest.ipynb Celda 15\u001b[0m in \u001b[0;36m<cell line: 3>\u001b[1;34m()\u001b[0m\n\u001b[0;32m      <a href='vscode-notebook-cell:/c%3A/Users/yuzov/Documents/GitHub/Diabetes_Risk_Prediction/notebooks/03.2%20MLA%20-%20Random%20Forest.ipynb#X22sZmlsZQ%3D%3D?line=5'>6</a>\u001b[0m Y_train, Y_test \u001b[39m=\u001b[39m Y[train_index], Y[test_index]\n\u001b[0;32m      <a href='vscode-notebook-cell:/c%3A/Users/yuzov/Documents/GitHub/Diabetes_Risk_Prediction/notebooks/03.2%20MLA%20-%20Random%20Forest.ipynb#X22sZmlsZQ%3D%3D?line=6'>7</a>\u001b[0m \u001b[39m#Entrenamiento\u001b[39;00m\n\u001b[1;32m----> <a href='vscode-notebook-cell:/c%3A/Users/yuzov/Documents/GitHub/Diabetes_Risk_Prediction/notebooks/03.2%20MLA%20-%20Random%20Forest.ipynb#X22sZmlsZQ%3D%3D?line=7'>8</a>\u001b[0m ModelDTC_OP\u001b[39m=\u001b[39mmodel\u001b[39m.\u001b[39mfit(X_train, Y_train)\n\u001b[0;32m      <a href='vscode-notebook-cell:/c%3A/Users/yuzov/Documents/GitHub/Diabetes_Risk_Prediction/notebooks/03.2%20MLA%20-%20Random%20Forest.ipynb#X22sZmlsZQ%3D%3D?line=8'>9</a>\u001b[0m tree_prediction \u001b[39m=\u001b[39m model\u001b[39m.\u001b[39mpredict(X_test)\n\u001b[0;32m     <a href='vscode-notebook-cell:/c%3A/Users/yuzov/Documents/GitHub/Diabetes_Risk_Prediction/notebooks/03.2%20MLA%20-%20Random%20Forest.ipynb#X22sZmlsZQ%3D%3D?line=9'>10</a>\u001b[0m \u001b[39m#Calculo de metricas para cada entrenamiento\u001b[39;00m\n",
      "\u001b[1;31mNameError\u001b[0m: name 'model' is not defined"
     ]
    }
   ],
   "source": [
    "#bucle\n",
    "from sklearn.metrics import precision_score, recall_score\n",
    "for train_index, test_index in skf.split(X, Y):  \n",
    "    #Separacion del modelo\n",
    "    X_train, X_test = X[train_index], X[test_index]\n",
    "    Y_train, Y_test = Y[train_index], Y[test_index]\n",
    "    #Entrenamiento\n",
    "    ModelDTC_OP = random_forest_optuna.fit(X_train, Y_train)\n",
    "    tree_prediction = random_forest_optuna.predict(X_test)\n",
    "    #Calculo de metricas para cada entrenamiento\n",
    "    random_forest_scores['precision_scores'].append(precision_score(Y_test,tree_prediction))\n",
    "    random_forest_scores['recall_scores'].append(recall_score(Y_test,tree_prediction))\n",
    "    random_forest_scores['accuracy_scores'].append(recall_score(Y_test,tree_prediction))"
   ]
  },
  {
   "cell_type": "code",
   "execution_count": null,
   "id": "0789a7fd",
   "metadata": {},
   "outputs": [],
   "source": [
    "#Mostramos resultado\n",
    "from numpy import mean\n",
    "print('Overall precision_scores:',\"{: .2%}\".format(mean(random_forest_scores['precision_scores'])))\n",
    "print('Overall recall_scores:',\"{: .2%}\".format(mean(random_forest_scores['recall_scores'])))\n",
    "print('Overall accuracy_scores:',\"{: .2%}\".format(mean(random_forest_scores['accuracy_scores'])))"
   ]
  },
  {
   "cell_type": "code",
   "execution_count": null,
   "id": "e615514a",
   "metadata": {},
   "outputs": [],
   "source": [
    "Saving with pickle"
   ]
  },
  {
   "cell_type": "code",
   "execution_count": null,
   "id": "048404ee",
   "metadata": {},
   "outputs": [],
   "source": [
    "import pickle\n",
    "# Dump the trained decision tree classifier with Pickle\n",
    "decision_tree_pkl_filename = '../models/random_forest_optuna.pkl'\n",
    "# Open the file to save as pkl file\n",
    "with open(random_forest_optuna_pkl_filename,\"wb\") as f:\n",
    "    pickle.dump(ModelDTC_OP,f)"
   ]
  }
 ],
 "metadata": {
  "canvas": {
   "colorPalette": [
    "inherit",
    "inherit",
    "inherit",
    "inherit",
    "inherit",
    "inherit",
    "inherit",
    "inherit",
    "inherit",
    "inherit"
   ],
   "parameters": []
  },
  "colab": {
   "collapsed_sections": [
    "7e794e28",
    "B8hgGU1Z6rcX",
    "8V7Wk_USq1up",
    "b12b1976",
    "b12bf9a5",
    "03edbf3e",
    "2dc3ea57"
   ],
   "provenance": []
  },
  "gist": {
   "data": {
    "description": "jupyter/Coderhouse_Prediccion_de_Diabetes_Tipo_2_v0_4_2021.ipynb",
    "public": true
   },
   "id": ""
  },
  "kernelspec": {
   "display_name": "Python 3 (ipykernel)",
   "language": "python",
   "name": "python3"
  },
  "language_info": {
   "codemirror_mode": {
    "name": "ipython",
    "version": 3
   },
   "file_extension": ".py",
   "mimetype": "text/x-python",
   "name": "python",
   "nbconvert_exporter": "python",
   "pygments_lexer": "ipython3",
   "version": "3.9.7"
  },
  "vscode": {
   "interpreter": {
    "hash": "9034cd6c99133895e88a3ca6be38275486f59e247b89c16c20811d1a16f4b12f"
   }
  }
 },
 "nbformat": 4,
 "nbformat_minor": 5
}
